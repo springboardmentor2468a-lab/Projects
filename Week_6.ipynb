{
 "cells": [
  {
   "cell_type": "markdown",
   "id": "016898bf-d928-4af6-b393-b9165e94a540",
   "metadata": {},
   "source": [
    "# Week 6: Seasonal & Segment Analysis, with Dataset Examples\n",
    "\n",
    "- **Top User Segments:**  \n",
    "  Teenagers using TVs or tablets and late teens using laptops or smartphones are consistently the heaviest users—e.g., your cohort analysis shows \"Teenagers–TV\": 4.6 hrs and \"Late teens–Laptop\": 4.5 hrs average daily.\n",
    "\n",
    "  - Example: \"Teenagers - TV\" and \"Late teens - Laptop\" both show the highest average daily screen time, often above 4.5 hours.\n",
    "\n",
    "- **Urban vs. Rural Segment Gaps:**  \n",
    "  Stacked bar charts show that urban children have much higher access to both portable and wall-mounted devices than rural peers—see your chart where \"Urban–Portable\" is 2-3x higher than \"Rural–Portable\".\n",
    "\n",
    "   - Example: Urban children use 5,000+ portable devices, while rural kids use fewer than 2,000—urban stacked bar much taller than rural.\n",
    "\n",
    "- **Health Impact Themes:**  \n",
    "  Males and females both report mental or combined (physical+mental) impacts most frequently; stacked health impact bars show similar but not identical proportions for each gender.\n",
    "\n",
    "  - Example: Stacked barchart shows both males and females mostly report \"mental impact,\" with males reporting \"both physical and mental\" slightly more often.\n",
    "\n",
    "- **Awareness Patterns:**  \n",
    "  The largest group of users needing attention or showing concern is among teens and pre-teens. Your awareness-by-age stacked bar confirms most \"Need Attention\" and \"Moderate Concern\" are teenagers/pre-teens.\n",
    "\n",
    "  - Example: Majority of \"Need Attention\" and \"Moderate Concern\" cases are teens and pre-teens; these groups also exceed recommended screen time most frequently.\n",
    "\n",
    "- **Outlier Risks:**  \n",
    "  Violin plots and outlier tables reveal some subgroups (e.g., \"Critical Concern\" on smartphones or TVs) with daily usage up to or beyond 12–14 hours.\n",
    "\n",
    "   - Example: Violin plots show “Critical Concern” and “High Concern” awareness students, especially smartphone/TV users, reaching 12+ hours daily.\n",
    "\n",
    "- **Segment-Driven Risks:**  \n",
    "  Heatmaps of screen time by age group and device show that segmentation reveals much more about risky usage than any single category. Example: \"Pre-teens–Laptop\": 4.45 hrs, \"Teenagers–Tablet\": 4.45 hrs.\n",
    "\n",
    "  - Example: Heatmap shows \"Pre-teens - Laptop\" and \"Teenagers - Tablet\" have highest risk; not just being a teen or using a device alone.\n",
    "\n",
    "- **Urban/Rural and Awareness:**  \n",
    "  Demographic pyramids show most users are urban, especially among pre-teens, while rural access is more limited—policy should target rural access and education, but also urban overuse.\n",
    "\n",
    "  Example: Population pyramid shows urban pre-teens (both boys and girls) far outnumber rural, highlighting intervention targets.\n",
    "\n",
    "- **Habit/Calendar Patterns:**  \n",
    "  If monthly or academic term labels exist, repeat the above analyses by month or term (use `.groupby('Month')` or `.groupby('Term')` in your scripts). Weekpart analysis already suggests that screening time climbs significantly on Saturdays and Sundays.\n",
    "\n",
    "  - Example: While monthly trends are flat, weekends and holidays consistently spike screen time across all segments—policy could target these times for awareness.\n",
    "\n",
    "\n"
   ]
  },
  {
   "cell_type": "markdown",
   "id": "3379ed07-fc36-4aa3-b15e-a2a4c07bf506",
   "metadata": {},
   "source": [
    "## Cohort Insights\n",
    "- The **riskiest user segments** are urban teens using TVs and tablets, plus late teens with laptops and smartphones.\n",
    "- **Most high-impact (health/awareness) cohorts** are concentrated in pre-teens and teens, suggesting need for both digital health and safe-use interventions.\n",
    "- **Urban-rural gaps** mainly affect device access and usage diversity, not always screen time patterns.\n",
    "- **Habit/term insights:** Patterns suggest academic terms/in-school time may affect device mix, but high screen time persists year-round for certain risk groups."
   ]
  },
  {
   "cell_type": "code",
   "execution_count": null,
   "id": "c607403c-b3e1-419d-8352-e2bc1fc91817",
   "metadata": {},
   "outputs": [],
   "source": []
  }
 ],
 "metadata": {
  "kernelspec": {
   "display_name": "Python 3 (ipykernel)",
   "language": "python",
   "name": "python3"
  },
  "language_info": {
   "codemirror_mode": {
    "name": "ipython",
    "version": 3
   },
   "file_extension": ".py",
   "mimetype": "text/x-python",
   "name": "python",
   "nbconvert_exporter": "python",
   "pygments_lexer": "ipython3",
   "version": "3.13.5"
  }
 },
 "nbformat": 4,
 "nbformat_minor": 5
}
