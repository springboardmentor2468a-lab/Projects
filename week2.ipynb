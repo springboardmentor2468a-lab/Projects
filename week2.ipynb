{
 "cells": [
  {
   "cell_type": "code",
   "execution_count": 50,
   "id": "6175d158-5aad-4cb7-8e29-2b3b05280d46",
   "metadata": {},
   "outputs": [],
   "source": [
    "import pandas as pd\n",
    "import matplotlib.pyplot as plt\n",
    "import seaborn as sns"
   ]
  },
  {
   "cell_type": "code",
   "execution_count": 51,
   "id": "2bf29abe-1a07-49ac-b069-d3f6e4646daa",
   "metadata": {},
   "outputs": [],
   "source": [
    "# load the dataset\n",
    "df = pd.read_csv('Indian_Kids_Screen_Time.csv')"
   ]
  },
  {
   "cell_type": "code",
   "execution_count": 52,
   "id": "2b2d7f5d-1fe8-4dad-a411-b3b30a354902",
   "metadata": {},
   "outputs": [
    {
     "data": {
      "text/plain": [
       "Age                                     0\n",
       "Gender                                  0\n",
       "Avg_Daily_Screen_Time_hr                0\n",
       "Primary_Device                          0\n",
       "Exceeded_Recommended_Limit              0\n",
       "Educational_to_Recreational_Ratio       0\n",
       "Health_Impacts                       3218\n",
       "Urban_or_Rural                          0\n",
       "dtype: int64"
      ]
     },
     "execution_count": 52,
     "metadata": {},
     "output_type": "execute_result"
    }
   ],
   "source": [
    "# missing values\n",
    "df.isna().sum()"
   ]
  },
  {
   "cell_type": "code",
   "execution_count": 53,
   "id": "18e4943c-b488-4592-8971-f6804b148633",
   "metadata": {},
   "outputs": [],
   "source": [
    "#fill numeric columns with mean and median\n",
    "numeric_cols = df.select_dtypes(include=['float64', 'int64']).columns"
   ]
  },
  {
   "cell_type": "code",
   "execution_count": 54,
   "id": "e2745406-564b-49c7-90f0-609522aa7c60",
   "metadata": {},
   "outputs": [],
   "source": [
    "# Fill with Mean\n",
    "df_mean_filled = df.copy()\n",
    "for col in numeric_cols:\n",
    "    mean_val = df_mean_filled[col].mean()\n",
    "    df_mean_filled[col] = df_mean_filled[col].fillna(mean_val)"
   ]
  },
  {
   "cell_type": "code",
   "execution_count": 55,
   "id": "974929f9-b915-418e-bba9-4df5079f1292",
   "metadata": {},
   "outputs": [],
   "source": [
    "# Fill with Median\n",
    "df_median_filled = df.copy()\n",
    "for col in numeric_cols:\n",
    "    median_val = df_median_filled[col].median()\n",
    "    df_median_filled[col] = df_median_filled[col].fillna(median_val)"
   ]
  },
  {
   "cell_type": "code",
   "execution_count": 56,
   "id": "2eb9fe97-e80c-46c1-bbd3-c60742597877",
   "metadata": {},
   "outputs": [],
   "source": [
    "#fill categorical column with mode\n",
    "health_mode = df['Health_Impacts'].mode()[0]\n",
    "df['Health_Impacts_filled'] = df['Health_Impacts'].fillna(health_mode)"
   ]
  },
  {
   "cell_type": "code",
   "execution_count": 57,
   "id": "7fbcc15c-3265-4bac-89ea-03a2a62d1a73",
   "metadata": {},
   "outputs": [],
   "source": [
    "# renaming the old column\n",
    "df.drop('Health_Impacts', axis=1, inplace=True)\n",
    "df.rename(columns={'Health_Impacts_filled': 'Health_Impacts'}, inplace=True)"
   ]
  },
  {
   "cell_type": "code",
   "execution_count": 58,
   "id": "1f08fc39-bde3-497d-88d9-87a060f7252c",
   "metadata": {},
   "outputs": [
    {
     "data": {
      "text/plain": [
       "Age                                  0\n",
       "Gender                               0\n",
       "Avg_Daily_Screen_Time_hr             0\n",
       "Primary_Device                       0\n",
       "Exceeded_Recommended_Limit           0\n",
       "Educational_to_Recreational_Ratio    0\n",
       "Urban_or_Rural                       0\n",
       "Health_Impacts                       0\n",
       "dtype: int64"
      ]
     },
     "execution_count": 58,
     "metadata": {},
     "output_type": "execute_result"
    }
   ],
   "source": [
    "#checking for missing values\n",
    "df.isna().sum()"
   ]
  },
  {
   "cell_type": "code",
   "execution_count": 59,
   "id": "f65afba0-ede2-4574-9b00-1cafc4585f35",
   "metadata": {},
   "outputs": [],
   "source": [
    "#normalize gender column\n",
    "df['Gender'] = df['Gender'].astype(str).str.strip().str.lower()\n",
    "df['Gender'] = df['Gender'].replace({\n",
    "    'm': 'male',\n",
    "    'f': 'female',\n",
    "    'male': 'male',\n",
    "    'female': 'female',\n",
    "    'others': 'other',\n",
    "    'other': 'other',\n",
    "    'na': 'unknown',\n",
    "    'nan': 'unknown',\n",
    "    '': 'unknown'\n",
    "})"
   ]
  },
  {
   "cell_type": "code",
   "execution_count": 60,
   "id": "0725a239-1e41-464f-95db-c0eac5bcef64",
   "metadata": {},
   "outputs": [],
   "source": [
    "#normalize Primary_Device column\n",
    "df['Primary_Device'] = df['Primary_Device'].astype(str).str.strip().str.lower()\n",
    "device_map = {\n",
    "    'mobile': 'smartphone',\n",
    "    'smart phone': 'smartphone',\n",
    "    'smartphone': 'smartphone',\n",
    "    'cellphone': 'smartphone',\n",
    "    'tablet': 'tablet',\n",
    "    'laptop': 'laptop',\n",
    "    'pc': 'computer',\n",
    "    'desktop': 'computer',\n",
    "    'television': 'tv',\n",
    "    'tv': 'tv',\n",
    "    '': 'unknown',\n",
    "    'na': 'unknown',\n",
    "    'nan': 'unknown'\n",
    "}\n",
    "df['Primary_Device'] = df['Primary_Device'].replace(device_map)"
   ]
  },
  {
   "cell_type": "code",
   "execution_count": 61,
   "id": "e7654815-41a8-434a-a196-83cf5f31a8ab",
   "metadata": {},
   "outputs": [],
   "source": [
    "# normalize Urban_or_Rural column\n",
    "df['Urban_or_Rural'] = df['Urban_or_Rural'].astype(str).str.strip().str.lower()\n",
    "df['Urban_or_Rural'] = df['Urban_or_Rural'].replace({\n",
    "    'urban area': 'urban',\n",
    "    'rural area': 'rural',\n",
    "    'urb': 'urban',\n",
    "    'rur': 'rural',\n",
    "    'city': 'urban',\n",
    "    'village': 'rural',\n",
    "    '': 'unknown',\n",
    "    'na': 'unknown',\n",
    "    'nan': 'unknown'\n",
    "})"
   ]
  },
  {
   "cell_type": "code",
   "execution_count": 62,
   "id": "1d1e7846-d873-4904-9f3d-ea79fa5fca5b",
   "metadata": {},
   "outputs": [
    {
     "data": {
      "text/plain": [
       "Gender\n",
       "male      4942\n",
       "female    4770\n",
       "Name: count, dtype: int64"
      ]
     },
     "execution_count": 62,
     "metadata": {},
     "output_type": "execute_result"
    }
   ],
   "source": [
    "# checking for inconsistency\n",
    "df['Gender'].value_counts()"
   ]
  },
  {
   "cell_type": "code",
   "execution_count": 63,
   "id": "4f8265c4-13d1-4a77-9304-5fcd405d1da3",
   "metadata": {},
   "outputs": [
    {
     "data": {
      "text/plain": [
       "Primary_Device\n",
       "smartphone    4568\n",
       "tv            2487\n",
       "laptop        1433\n",
       "tablet        1224\n",
       "Name: count, dtype: int64"
      ]
     },
     "execution_count": 63,
     "metadata": {},
     "output_type": "execute_result"
    }
   ],
   "source": [
    "df['Primary_Device'].value_counts()"
   ]
  },
  {
   "cell_type": "code",
   "execution_count": 64,
   "id": "eafb2fc6-cd83-49aa-a16c-df4849a874e9",
   "metadata": {},
   "outputs": [
    {
     "data": {
      "text/plain": [
       "Urban_or_Rural\n",
       "urban    6851\n",
       "rural    2861\n",
       "Name: count, dtype: int64"
      ]
     },
     "execution_count": 64,
     "metadata": {},
     "output_type": "execute_result"
    }
   ],
   "source": [
    "df['Urban_or_Rural'].value_counts()"
   ]
  },
  {
   "cell_type": "code",
   "execution_count": 65,
   "id": "c9bf7235-a3d3-4131-87bd-b996dcb2023d",
   "metadata": {},
   "outputs": [],
   "source": [
    "# age bands\n",
    "# define age bins and labels\n",
    "bins = [0, 5, 10, 15, 18, 100]\n",
    "labels = ['0-5', '6-10', '11-15', '16-18', '19+']\n",
    "\n",
    "df['Age_Band'] = pd.cut(df['Age'], bins=bins, labels=labels, right=True)"
   ]
  },
  {
   "cell_type": "code",
   "execution_count": 66,
   "id": "ec8de3cf-c142-47db-88d5-d23ba4a43ed1",
   "metadata": {},
   "outputs": [
    {
     "name": "stderr",
     "output_type": "stream",
     "text": [
      "C:\\Users\\santh\\AppData\\Local\\Temp\\ipykernel_19960\\4210008287.py:7: FutureWarning: \n",
      "\n",
      "Passing `palette` without assigning `hue` is deprecated and will be removed in v0.14.0. Assign the `x` variable to `hue` and set `legend=False` for the same effect.\n",
      "\n",
      "  sns.barplot(x=age_counts.index, y=age_counts.values, palette=\"Blues_d\")\n"
     ]
    },
    {
     "data": {
      "text/plain": [
       "Text(0, 0.5, 'Number of Kids')"
      ]
     },
     "execution_count": 66,
     "metadata": {},
     "output_type": "execute_result"
    },
    {
     "data": {
      "image/png": "[encoded data removed]",
      "text/plain": [
       "<Figure size 800x500 with 1 Axes>"
      ]
     },
     "metadata": {},
     "output_type": "display_data"
    }
   ],
   "source": [
    "# seaborn style\n",
    "sns.set(style=\"whitegrid\")\n",
    "\n",
    "# Age Band Distribution\n",
    "plt.figure(figsize=(8, 5))\n",
    "age_counts = df['Age_Band'].value_counts().sort_index()\n",
    "sns.barplot(x=age_counts.index, y=age_counts.values, palette=\"Blues_d\")\n",
    "plt.title('Distribution of Age Bands')\n",
    "plt.xlabel('Age Band')\n",
    "plt.ylabel('Number of Kids')"
   ]
  },
  {
   "cell_type": "code",
   "execution_count": 67,
   "id": "1c3b9b5e-3885-40ae-a604-76a0357eba35",
   "metadata": {},
   "outputs": [
    {
     "name": "stderr",
     "output_type": "stream",
     "text": [
      "C:\\Users\\santh\\AppData\\Local\\Temp\\ipykernel_19960\\3742857085.py:1: FutureWarning: The default of observed=False is deprecated and will be changed to True in a future version of pandas. Pass observed=False to retain current behavior or observed=True to adopt the future default and silence this warning.\n",
      "  device_age = df.groupby(['Age_Band', 'Primary_Device']).size().unstack(fill_value=0)\n"
     ]
    },
    {
     "data": {
      "image/png": "[encoded data removed]",
      "text/plain": [
       "<Figure size 1000x600 with 1 Axes>"
      ]
     },
     "metadata": {},
     "output_type": "display_data"
    }
   ],
   "source": [
    "device_age = df.groupby(['Age_Band', 'Primary_Device']).size().unstack(fill_value=0)\n",
    "\n",
    "# Convert counts to proportions within each age band\n",
    "device_age_percent = device_age.div(device_age.sum(axis=1), axis=0)\n",
    "\n",
    "# Plot stacked bar chart\n",
    "device_age_percent.plot(kind='bar', stacked=True, figsize=(10,6), colormap='tab20')\n",
    "plt.title('Device Usage Share by Age Band')\n",
    "plt.xlabel('Age Band')\n",
    "plt.ylabel('Proportion of Device Usage')\n",
    "plt.legend(title='Primary Device', bbox_to_anchor=(1.05, 1), loc='upper left')\n",
    "plt.tight_layout()\n",
    "plt.show()"
   ]
  },
  {
   "cell_type": "code",
   "execution_count": 68,
   "id": "ea289951-6898-4d1b-9797-f8548972f967",
   "metadata": {},
   "outputs": [
    {
     "data": {
      "image/png": "[encoded data removed]",
      "text/plain": [
       "<Figure size 800x500 with 1 Axes>"
      ]
     },
     "metadata": {},
     "output_type": "display_data"
    }
   ],
   "source": [
    "# Calculate shares\n",
    "df['Educational_Share'] = df['Educational_to_Recreational_Ratio'] / (1 + df['Educational_to_Recreational_Ratio'])\n",
    "df['Recreational_Share'] = 1 - df['Educational_Share']\n",
    "\n",
    "# Plot boxplots\n",
    "plt.figure(figsize=(8,5))\n",
    "sns.boxplot(data=df[['Educational_Share', 'Recreational_Share']], palette='Set2')\n",
    "plt.title('Distribution of Educational vs Recreational Screen Time Shares')\n",
    "plt.ylabel('Share')\n",
    "plt.show()\n"
   ]
  },
  {
   "cell_type": "code",
   "execution_count": 69,
   "id": "796e738c-1b05-40ea-be41-dd1f5db13b5b",
   "metadata": {},
   "outputs": [],
   "source": [
    "#Summary\n",
    "\n",
    "#1. Missing Values Handling\n",
    "\n",
    "# The dataset originally contained missing values primarily in the Health_Impacts column (approximately 33% missing).\n",
    "# Missing values in numeric columns were filled using appropriate statistics:\n",
    "# Mean or median imputation for continuous numeric features.\n",
    "# Mode or a constant value used for categorical features.\n",
    "# Specifically, a new column Health_Impacts_filled was created to fill missing values in Health_Impacts, after which the original column was replaced.\n",
    "# Result: No missing values remain in the dataset after imputation, ensuring data completeness for analysis.\n",
    "\n",
    "#2. Handling Inconsistent Categories\n",
    "\n",
    "#Categorical variables such as Gender, Primary_Device, and Urban_or_Rural had inconsistent labels due to case sensitivity, typos, or variant spellings.\n",
    "#Normalization involved:\n",
    "#Converting text to lowercase and stripping extra spaces.\n",
    "#Mapping common variations and typos to standardized categories.\n",
    "#Example: ‘m’, ‘male’ → ‘male’; ‘smart phone’, ‘mobile’ → ‘smartphone’; ‘urban area’, ‘city’ → ‘urban’.\n",
    "#Unknown or missing category labels were mapped to ‘unknown’ for consistency.\n",
    "#Result: Consistent and standardized categorical data, improving reliability of grouping and modeling.\n",
    "\n",
    "#3. Derived Features\n",
    "\n",
    "#Age Bands:\n",
    "#Grouped ages into bins: 0-5, 6-10, 11-15, 16-18, 19+\n",
    "#This helps analyze patterns and behavior by age groups rather than raw age.\n",
    "#Device Usage Shares:\n",
    "#Calculated overall device usage proportion for each device type.\n",
    "#Also calculated device usage shares within each age band to understand device preference changes with age.\n",
    "#Activity Shares:\n",
    "#Derived educational and recreational screen time shares based on the existing Educational_to_Recreational_Ratio feature.\n",
    "#These shares reflect how screen time is divided between educational and recreational activities.\n",
    "\n",
    "#4. Visualizations\n",
    "\n",
    "#Age Band Distribution:\n",
    "#Bar plot showing the count of children in each age band.\n",
    "#Insight: Visualizes population distribution across different age groups.\n",
    "#Device Usage Share by Age Band:\n",
    "#Stacked bar chart showing proportion of device types used within each age group.\n",
    "#Insight: Reveals how device preference varies with age (e.g., younger kids may prefer tablets, older ones smartphones).\n",
    "#Educational vs Recreational Shares:\n",
    "#Box plots to compare distribution of educational and recreational screen time shares.\n",
    "#Insight: Understand variability and central tendencies in how kids divide their screen time."
   ]
  },
  {
   "cell_type": "code",
   "execution_count": null,
   "id": "911fb0f2-2219-446e-b108-67ddd49a71a3",
   "metadata": {},
   "outputs": [],
   "source": []
  }
 ],
 "metadata": {
  "kernelspec": {
   "display_name": "Python 3 (ipykernel)",
   "language": "python",
   "name": "python3"
  },
  "language_info": {
   "codemirror_mode": {
    "name": "ipython",
    "version": 3
   },
   "file_extension": ".py",
   "mimetype": "text/x-python",
   "name": "python",
   "nbconvert_exporter": "python",
   "pygments_lexer": "ipython3",
   "version": "3.13.1"
  }
 },
 "nbformat": 4,
 "nbformat_minor": 5
}
