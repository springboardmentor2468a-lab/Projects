{
 "cells": [
  {
   "cell_type": "code",
   "execution_count": 1,
   "id": "cad3135a-01b1-4945-af44-c2f883d59c41",
   "metadata": {},
   "outputs": [
    {
     "data": {
      "text/plain": [
       "Age                                     0\n",
       "Gender                                  0\n",
       "Avg_Daily_Screen_Time_hr                0\n",
       "Primary_Device                          0\n",
       "Exceeded_Recommended_Limit              0\n",
       "Educational_to_Recreational_Ratio       0\n",
       "Health_Impacts                       3218\n",
       "Urban_or_Rural                          0\n",
       "dtype: int64"
      ]
     },
     "execution_count": 1,
     "metadata": {},
     "output_type": "execute_result"
    }
   ],
   "source": [
    "\n",
    "import pandas as pd\n",
    "\n",
    "df = pd.read_csv(\"Indian_Kids_Screen_Time.csv\")\n",
    "\n",
    "# Check if there are any missing values\n",
    "df.isnull().values.any()\n",
    "\n",
    "# count missing values in each column\n",
    "df.isnull().sum()"
   ]
  },
  {
   "cell_type": "code",
   "execution_count": 2,
   "id": "9ca05912-54ec-4035-abdc-21bc06544ef3",
   "metadata": {},
   "outputs": [
    {
     "data": {
      "text/plain": [
       "0       False\n",
       "1       False\n",
       "2       False\n",
       "3       False\n",
       "4       False\n",
       "        ...  \n",
       "9707    False\n",
       "9708    False\n",
       "9709    False\n",
       "9710    False\n",
       "9711    False\n",
       "Length: 9712, dtype: bool"
      ]
     },
     "execution_count": 2,
     "metadata": {},
     "output_type": "execute_result"
    }
   ],
   "source": [
    "# Check for duplicate rows\n",
    "duplicates = df.duplicated()\n",
    "duplicates"
   ]
  },
  {
   "cell_type": "code",
   "execution_count": 3,
   "id": "5052657c-290b-4dbb-8fc6-d41c5359a89f",
   "metadata": {},
   "outputs": [
    {
     "data": {
      "text/plain": [
       "Health_Impacts\n",
       "False    6494\n",
       "True     3218\n",
       "Name: count, dtype: int64"
      ]
     },
     "execution_count": 3,
     "metadata": {},
     "output_type": "execute_result"
    }
   ],
   "source": [
    "df['Health_Impacts'].isnull().value_counts()"
   ]
  },
  {
   "cell_type": "code",
   "execution_count": 4,
   "id": "22e68cf6-394d-4c1d-bd71-4b50d28b3eb3",
   "metadata": {},
   "outputs": [
    {
     "name": "stdout",
     "output_type": "stream",
     "text": [
      "Health_Impacts\n",
      "No health issues                                 3218\n",
      "Poor Sleep                                       2268\n",
      "Poor Sleep, Eye Strain                            979\n",
      "Eye Strain                                        644\n",
      "Poor Sleep, Anxiety                               608\n",
      "Poor Sleep, Obesity Risk                          452\n",
      "Anxiety                                           385\n",
      "Poor Sleep, Eye Strain, Anxiety                   258\n",
      "Obesity Risk                                      252\n",
      "Poor Sleep, Eye Strain, Obesity Risk              188\n",
      "Eye Strain, Anxiety                               135\n",
      "Eye Strain, Obesity Risk                          106\n",
      "Poor Sleep, Anxiety, Obesity Risk                  78\n",
      "Anxiety, Obesity Risk                              69\n",
      "Poor Sleep, Eye Strain, Anxiety, Obesity Risk      37\n",
      "Eye Strain, Anxiety, Obesity Risk                  35\n",
      "Name: count, dtype: int64\n"
     ]
    }
   ],
   "source": [
    "#replacing none values with \"no health issues\"\n",
    "df['Health_Impacts'] = df['Health_Impacts'].fillna(\"No health issues\")\n",
    "print(df['Health_Impacts'].value_counts())"
   ]
  },
  {
   "cell_type": "code",
   "execution_count": 5,
   "id": "e6877af7-89d4-419f-8fc0-0987fe2c0f87",
   "metadata": {},
   "outputs": [
    {
     "name": "stdout",
     "output_type": "stream",
     "text": [
      "      Age           Age_Group\n",
      "0      14   Teenagers (13-15)\n",
      "1      11    Pre-Teens (7-12)\n",
      "2      18  Late Teens (16-18)\n",
      "3      15   Teenagers (13-15)\n",
      "4      12    Pre-Teens (7-12)\n",
      "...   ...                 ...\n",
      "9707   17  Late Teens (16-18)\n",
      "9708   17  Late Teens (16-18)\n",
      "9709   16  Late Teens (16-18)\n",
      "9710   17  Late Teens (16-18)\n",
      "9711   15   Teenagers (13-15)\n",
      "\n",
      "[9712 rows x 2 columns]\n"
     ]
    }
   ],
   "source": [
    "import pandas as pd\n",
    "\n",
    "# Define bins and labels\n",
    "bins = [7, 12, 15, 18]\n",
    "labels = [\"Pre-Teens (7-12)\", \"Teenagers (13-15)\", \"Late Teens (16-18)\"]\n",
    "\n",
    "df['Age_Group'] = pd.cut(df['Age'], bins=bins, labels=labels, right=True)\n",
    "\n",
    "print(df[['Age', 'Age_Group']])"
   ]
  },
  {
   "cell_type": "code",
   "execution_count": 6,
   "id": "08be94be-76af-4efc-a88c-4f7c69c91525",
   "metadata": {},
   "outputs": [
    {
     "data": {
      "text/plain": [
       "Age                                  0\n",
       "Gender                               0\n",
       "Avg_Daily_Screen_Time_hr             0\n",
       "Primary_Device                       0\n",
       "Exceeded_Recommended_Limit           0\n",
       "Educational_to_Recreational_Ratio    0\n",
       "Health_Impacts                       0\n",
       "Urban_or_Rural                       0\n",
       "Age_Group                            0\n",
       "dtype: int64"
      ]
     },
     "execution_count": 6,
     "metadata": {},
     "output_type": "execute_result"
    }
   ],
   "source": [
    "df['Health_Impacts'].isnull().sum()\n",
    "df.isnull().sum()"
   ]
  },
  {
   "cell_type": "code",
   "execution_count": 7,
   "id": "47526453-e85d-4b97-9ad0-5acd62c3c627",
   "metadata": {},
   "outputs": [
    {
     "name": "stdout",
     "output_type": "stream",
     "text": [
      "['Age', 'Gender', 'Avg_Daily_Screen_Time_hr', 'Primary_Device', 'Exceeded_Recommended_Limit', 'Educational_to_Recreational_Ratio', 'Health_Impacts', 'Urban_or_Rural', 'Age_Group']\n"
     ]
    }
   ],
   "source": [
    "print(df.columns.tolist())"
   ]
  },
  {
   "cell_type": "code",
   "execution_count": 8,
   "id": "5a7cf1c1-3c29-4492-a259-ecac44edb660",
   "metadata": {},
   "outputs": [],
   "source": [
    "df['Health_Impacts'] = df['Health_Impacts'].astype(str).str.strip().str.lower()\n",
    "\n",
    "# Mapping dictionary\n",
    "health_map = {\n",
    "    \"eye strain\": \"Physical\",\n",
    "    \"headache\": \"Physical\",\n",
    "    \"obesity\": \"Physical\",\n",
    "    \"neck pain\": \"Physical\",\n",
    "    \"back pain\": \"Physical\",\n",
    "    \"poor posture\": \"Physical\",\n",
    "    \"fatigue\": \"Physical\",\n",
    "\n",
    "\n",
    "    \"anxiety\": \"Mental\",\n",
    "    \"depression\": \"Mental\",\n",
    "    \"stress\": \"Mental\",\n",
    "    \"poor sleep\": \"Mental\",\n",
    "    \"reduced attention span\": \"Mental\",\n",
    "     \"addiction\": \"Mental\",\n",
    "    \"no health issues\": \"None\",\n",
    "    \"none\": \"None\",\n",
    "    \"no issue\": \"None\",\n",
    "    \"no issues\": \"None\"\n",
    "}\n",
    "\n",
    "# Apply mapping\n",
    "df['Health_Category'] = df['Health_Impacts'].map(health_map)"
   ]
  },
  {
   "cell_type": "code",
   "execution_count": 9,
   "id": "435cc131-4a0f-4308-a6c0-523594904bc6",
   "metadata": {},
   "outputs": [
    {
     "data": {
      "text/html": [
       "<div>\n",
       "<style scoped>\n",
       "    .dataframe tbody tr th:only-of-type {\n",
       "        vertical-align: middle;\n",
       "    }\n",
       "\n",
       "    .dataframe tbody tr th {\n",
       "        vertical-align: top;\n",
       "    }\n",
       "\n",
       "    .dataframe thead th {\n",
       "        text-align: right;\n",
       "    }\n",
       "</style>\n",
       "<table border=\"1\" class=\"dataframe\">\n",
       "  <thead>\n",
       "    <tr style=\"text-align: right;\">\n",
       "      <th>Health_Category</th>\n",
       "      <th>Mental</th>\n",
       "      <th>None</th>\n",
       "      <th>Physical</th>\n",
       "    </tr>\n",
       "    <tr>\n",
       "      <th>Age_Group</th>\n",
       "      <th></th>\n",
       "      <th></th>\n",
       "      <th></th>\n",
       "    </tr>\n",
       "  </thead>\n",
       "  <tbody>\n",
       "    <tr>\n",
       "      <th>Pre-Teens (7-12)</th>\n",
       "      <td>1103</td>\n",
       "      <td>1795</td>\n",
       "      <td>257</td>\n",
       "    </tr>\n",
       "    <tr>\n",
       "      <th>Teenagers (13-15)</th>\n",
       "      <td>776</td>\n",
       "      <td>723</td>\n",
       "      <td>187</td>\n",
       "    </tr>\n",
       "    <tr>\n",
       "      <th>Late Teens (16-18)</th>\n",
       "      <td>774</td>\n",
       "      <td>700</td>\n",
       "      <td>200</td>\n",
       "    </tr>\n",
       "  </tbody>\n",
       "</table>\n",
       "</div>"
      ],
      "text/plain": [
       "Health_Category     Mental  None  Physical\n",
       "Age_Group                                 \n",
       "Pre-Teens (7-12)      1103  1795       257\n",
       "Teenagers (13-15)      776   723       187\n",
       "Late Teens (16-18)     774   700       200"
      ]
     },
     "execution_count": 9,
     "metadata": {},
     "output_type": "execute_result"
    }
   ],
   "source": [
    "#3. Create summary table (cross-tabulation) ---\n",
    "summary = pd.crosstab(df['Age_Group'], df['Health_Category'])\n",
    "summary"
   ]
  },
  {
   "cell_type": "code",
   "execution_count": 10,
   "id": "0a3cd5e1-d1df-44b2-b87b-380e4734eec9",
   "metadata": {},
   "outputs": [
    {
     "data": {
      "text/plain": [
       "Age                                     0\n",
       "Gender                                  0\n",
       "Avg_Daily_Screen_Time_hr                0\n",
       "Primary_Device                          0\n",
       "Exceeded_Recommended_Limit              0\n",
       "Educational_to_Recreational_Ratio       0\n",
       "Health_Impacts                          0\n",
       "Urban_or_Rural                          0\n",
       "Age_Group                               0\n",
       "Health_Category                      3197\n",
       "dtype: int64"
      ]
     },
     "execution_count": 10,
     "metadata": {},
     "output_type": "execute_result"
    }
   ],
   "source": [
    "df['Health_Impacts'].isnull().sum()\n",
    "df.isnull().sum()"
   ]
  },
  {
   "cell_type": "code",
   "execution_count": 11,
   "id": "8a675812-05e5-439c-bea0-7ee416893538",
   "metadata": {},
   "outputs": [
    {
     "data": {
      "image/png": "[encoded data removed]",
      "text/plain": [
       "<Figure size 1000x600 with 1 Axes>"
      ]
     },
     "metadata": {},
     "output_type": "display_data"
    }
   ],
   "source": [
    "import matplotlib.pyplot as plt\n",
    "\n",
    "# Calculate percentages\n",
    "pivot_percent = summary.div(summary.sum(axis=1), axis=0) * 100\n",
    "\n",
    "pivot_percent.plot(kind='bar', stacked=True, figsize=(10,6), colormap='Set2')\n",
    "plt.title(\"Percentage of Health Categories Across Age Bands\")\n",
    "plt.ylabel(\"Percentage (%)\")\n",
    "plt.xlabel(\"Age Band\")\n",
    "plt.legend(title='Health Category', bbox_to_anchor=(1.05, 1))\n",
    "plt.show()"
   ]
  },
  {
   "cell_type": "code",
   "execution_count": 12,
   "id": "c0591c18-c013-4a55-b8d0-22a475418e62",
   "metadata": {},
   "outputs": [
    {
     "data": {
      "image/png": "[encoded data removed]",
      "text/plain": [
       "<Figure size 600x500 with 1 Axes>"
      ]
     },
     "metadata": {},
     "output_type": "display_data"
    }
   ],
   "source": [
    "\n",
    "import matplotlib.pyplot as plt\n",
    "import seaborn as sns\n",
    "\n",
    "plt.figure(figsize=(6,5))\n",
    "sns.countplot(data=df, x='Health_Category', order=['Physical','Mental','None'])\n",
    "plt.title(\"Overall Comparison: Physical vs Mental Health Issues\")\n",
    "plt.xlabel(\"Health Category\")\n",
    "plt.ylabel(\"Number of Kids\")\n",
    "plt.show()"
   ]
  },
  {
   "cell_type": "code",
   "execution_count": 13,
   "id": "1aca1c01-2d0b-4f74-8942-e3cf6f2b2dee",
   "metadata": {},
   "outputs": [
    {
     "data": {
      "text/html": [
       "<div>\n",
       "<style scoped>\n",
       "    .dataframe tbody tr th:only-of-type {\n",
       "        vertical-align: middle;\n",
       "    }\n",
       "\n",
       "    .dataframe tbody tr th {\n",
       "        vertical-align: top;\n",
       "    }\n",
       "\n",
       "    .dataframe thead th {\n",
       "        text-align: right;\n",
       "    }\n",
       "</style>\n",
       "<table border=\"1\" class=\"dataframe\">\n",
       "  <thead>\n",
       "    <tr style=\"text-align: right;\">\n",
       "      <th></th>\n",
       "      <th>Primary_Device</th>\n",
       "      <th>Device_Size</th>\n",
       "      <th>Device_Category</th>\n",
       "      <th>Avg_Daily_Screen_Time_hr</th>\n",
       "      <th>Screen_Time_Category</th>\n",
       "    </tr>\n",
       "  </thead>\n",
       "  <tbody>\n",
       "    <tr>\n",
       "      <th>0</th>\n",
       "      <td>Smartphone</td>\n",
       "      <td>7</td>\n",
       "      <td>Small Screen (&lt;30\")</td>\n",
       "      <td>3.99</td>\n",
       "      <td>Medium Screen Time</td>\n",
       "    </tr>\n",
       "    <tr>\n",
       "      <th>1</th>\n",
       "      <td>Laptop</td>\n",
       "      <td>22</td>\n",
       "      <td>Small Screen (&lt;30\")</td>\n",
       "      <td>4.61</td>\n",
       "      <td>Medium Screen Time</td>\n",
       "    </tr>\n",
       "    <tr>\n",
       "      <th>2</th>\n",
       "      <td>TV</td>\n",
       "      <td>40</td>\n",
       "      <td>Large Screen (&gt;30\")</td>\n",
       "      <td>3.73</td>\n",
       "      <td>Medium Screen Time</td>\n",
       "    </tr>\n",
       "    <tr>\n",
       "      <th>3</th>\n",
       "      <td>Laptop</td>\n",
       "      <td>22</td>\n",
       "      <td>Small Screen (&lt;30\")</td>\n",
       "      <td>1.21</td>\n",
       "      <td>Low Screen Time</td>\n",
       "    </tr>\n",
       "    <tr>\n",
       "      <th>4</th>\n",
       "      <td>Smartphone</td>\n",
       "      <td>7</td>\n",
       "      <td>Small Screen (&lt;30\")</td>\n",
       "      <td>5.89</td>\n",
       "      <td>High Screen Time</td>\n",
       "    </tr>\n",
       "  </tbody>\n",
       "</table>\n",
       "</div>"
      ],
      "text/plain": [
       "  Primary_Device  Device_Size      Device_Category  Avg_Daily_Screen_Time_hr  \\\n",
       "0     Smartphone            7  Small Screen (<30\")                      3.99   \n",
       "1         Laptop           22  Small Screen (<30\")                      4.61   \n",
       "2             TV           40  Large Screen (>30\")                      3.73   \n",
       "3         Laptop           22  Small Screen (<30\")                      1.21   \n",
       "4     Smartphone            7  Small Screen (<30\")                      5.89   \n",
       "\n",
       "  Screen_Time_Category  \n",
       "0   Medium Screen Time  \n",
       "1   Medium Screen Time  \n",
       "2   Medium Screen Time  \n",
       "3      Low Screen Time  \n",
       "4     High Screen Time  "
      ]
     },
     "execution_count": 13,
     "metadata": {},
     "output_type": "execute_result"
    }
   ],
   "source": [
    "import pandas as pd\n",
    "\n",
    "# --- 1. Categorize Primary Device based on Screen Size ---\n",
    "# Example device-to-size mapping (in inches)\n",
    "device_screen_size = {\n",
    "    \"Smartphone\": 7,\n",
    "    \"Tablet\": 12,\n",
    "    \"Laptop\": 22,\n",
    "    \"TV\": 40\n",
    "}\n",
    "# Map screen sizes\n",
    "df['Device_Size'] = df['Primary_Device'].map(device_screen_size)\n",
    "# Categorize devices: Small (<30\") vs Large (>30\")\n",
    "df['Device_Category'] = df['Device_Size'].apply(lambda x: \"Small Screen (<30\\\")\" if x < 30 else \"Large Screen (>30\\\")\")\n",
    "\n",
    "# --- 2. Categorize Screen Time ---\n",
    "# Example thresholds (adjust as needed):\n",
    "# Low: <2 hrs, Medium: 2–5 hrs, High: >5 hrs\n",
    "def categorize_screen_time(hours):\n",
    "    if hours < 2:\n",
    "        return \"Low Screen Time\"\n",
    "    elif 2 <= hours <= 5:\n",
    "        return \"Medium Screen Time\"\n",
    "    else:\n",
    "        return \"High Screen Time\"\n",
    "\n",
    "df['Screen_Time_Category'] = df['Avg_Daily_Screen_Time_hr'].apply(categorize_screen_time)\n",
    "\n",
    "# --- 3. Check results ---\n",
    "df[['Primary_Device', 'Device_Size', 'Device_Category', 'Avg_Daily_Screen_Time_hr', 'Screen_Time_Category']].head()\n"
   ]
  },
  {
   "cell_type": "code",
   "execution_count": 14,
   "id": "afae8197-ca18-4eb7-8539-6be8351d7a4b",
   "metadata": {},
   "outputs": [
    {
     "data": {
      "image/png": "[encoded data removed]",
      "text/plain": [
       "<Figure size 600x400 with 1 Axes>"
      ]
     },
     "metadata": {},
     "output_type": "display_data"
    }
   ],
   "source": [
    "# 1. Device Category Count\n",
    "plt.figure(figsize=(6,4))\n",
    "sns.countplot(data=df, x=\"Device_Category\")\n",
    "plt.title(\"Distribution of Device Categories\")\n",
    "plt.xlabel(\"Device Category\")\n",
    "plt.ylabel(\"Count\")\n",
    "plt.show()"
   ]
  },
  {
   "cell_type": "code",
   "execution_count": 15,
   "id": "c708c211-765c-44eb-8832-4c9e6ca3b142",
   "metadata": {},
   "outputs": [
    {
     "data": {
      "image/png": "[encoded data removed]",
      "text/plain": [
       "<Figure size 600x400 with 1 Axes>"
      ]
     },
     "metadata": {},
     "output_type": "display_data"
    }
   ],
   "source": [
    "# 2. Screen Time Category Count\n",
    "plt.figure(figsize=(6,4))\n",
    "sns.countplot(data=df, x=\"Screen_Time_Category\", order=[\"Low Screen Time\", \"Medium Screen Time\", \"High Screen Time\"])\n",
    "plt.title(\"Distribution of Screen Time Levels\")\n",
    "plt.xlabel(\"Screen Time Category\")\n",
    "plt.ylabel(\"Count\")\n",
    "plt.show()"
   ]
  },
  {
   "cell_type": "code",
   "execution_count": null,
   "id": "7a23e0ae-24d9-40fd-bef4-2eb55463cd99",
   "metadata": {},
   "outputs": [],
   "source": [
    "#A new Age_Group column is created by categorizing ages into bins:\n",
    "#--Pre-Teens (7–12)\n",
    "#--Teenagers (13–15)\n",
    "#--Late Teens (16–18)\n",
    "\n",
    "#The Health_Impacts column is cleaned (converted to lowercase, stripped of spaces).\n",
    "#A mapping dictionary is used to classify health issues into categories:\n",
    "#--Physical (e.g., eye strain, headache, obesity, posture issues)\n",
    "#--Mental (e.g., anxiety, stress, poor sleep, addiction)\n",
    "#--None (no health-related issues)\n",
    "\n",
    "#A new column Health_Category is created based on this mapping.\n",
    "#A cross-tabulation summary (pd.crosstab) is generated to show the distribution of health categories across age groups.\n",
    "#A stacked bar chart is plotted to visualize the percentage of health issues by age group."
   ]
  }
 ],
 "metadata": {
  "kernelspec": {
   "display_name": "Python 3 (ipykernel)",
   "language": "python",
   "name": "python3"
  },
  "language_info": {
   "codemirror_mode": {
    "name": "ipython",
    "version": 3
   },
   "file_extension": ".py",
   "mimetype": "text/x-python",
   "name": "python",
   "nbconvert_exporter": "python",
   "pygments_lexer": "ipython3",
   "version": "3.13.1"
  }
 },
 "nbformat": 4,
 "nbformat_minor": 5
}
