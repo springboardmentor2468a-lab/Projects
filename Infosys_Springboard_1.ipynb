{
 "cells": [
  {
   "cell_type": "code",
   "execution_count": 1,
   "id": "7b8bc6c5-df22-4482-906e-44f5a697f3d9",
   "metadata": {},
   "outputs": [],
   "source": [
    "import pandas as pd\n",
    "import numpy as np"
   ]
  },
  {
   "cell_type": "markdown",
   "id": "efc01e16-5f3d-4eed-bf6f-f8a79012268e",
   "metadata": {},
   "source": [
    "## Load Dataset "
   ]
  },
  {
   "cell_type": "code",
   "execution_count": 2,
   "id": "893bc0b9-fde6-4422-871f-1634fe7b02d2",
   "metadata": {},
   "outputs": [],
   "source": [
    "data = pd.read_csv(r'Indian_Kids_Screen_Time.csv')"
   ]
  },
  {
   "cell_type": "code",
   "execution_count": 3,
   "id": "3be7b8b6-3278-455a-b2fa-7e1a5c498ea6",
   "metadata": {},
   "outputs": [
    {
     "data": {
      "text/html": [
       "<div>\n",
       "<style scoped>\n",
       "    .dataframe tbody tr th:only-of-type {\n",
       "        vertical-align: middle;\n",
       "    }\n",
       "\n",
       "    .dataframe tbody tr th {\n",
       "        vertical-align: top;\n",
       "    }\n",
       "\n",
       "    .dataframe thead th {\n",
       "        text-align: right;\n",
       "    }\n",
       "</style>\n",
       "<table border=\"1\" class=\"dataframe\">\n",
       "  <thead>\n",
       "    <tr style=\"text-align: right;\">\n",
       "      <th></th>\n",
       "      <th>Age</th>\n",
       "      <th>Gender</th>\n",
       "      <th>Avg_Daily_Screen_Time_hr</th>\n",
       "      <th>Primary_Device</th>\n",
       "      <th>Exceeded_Recommended_Limit</th>\n",
       "      <th>Educational_to_Recreational_Ratio</th>\n",
       "      <th>Health_Impacts</th>\n",
       "      <th>Urban_or_Rural</th>\n",
       "    </tr>\n",
       "  </thead>\n",
       "  <tbody>\n",
       "    <tr>\n",
       "      <th>0</th>\n",
       "      <td>14</td>\n",
       "      <td>Male</td>\n",
       "      <td>3.99</td>\n",
       "      <td>Smartphone</td>\n",
       "      <td>True</td>\n",
       "      <td>0.42</td>\n",
       "      <td>Poor Sleep, Eye Strain</td>\n",
       "      <td>Urban</td>\n",
       "    </tr>\n",
       "    <tr>\n",
       "      <th>1</th>\n",
       "      <td>11</td>\n",
       "      <td>Female</td>\n",
       "      <td>4.61</td>\n",
       "      <td>Laptop</td>\n",
       "      <td>True</td>\n",
       "      <td>0.30</td>\n",
       "      <td>Poor Sleep</td>\n",
       "      <td>Urban</td>\n",
       "    </tr>\n",
       "    <tr>\n",
       "      <th>2</th>\n",
       "      <td>18</td>\n",
       "      <td>Female</td>\n",
       "      <td>3.73</td>\n",
       "      <td>TV</td>\n",
       "      <td>True</td>\n",
       "      <td>0.32</td>\n",
       "      <td>Poor Sleep</td>\n",
       "      <td>Urban</td>\n",
       "    </tr>\n",
       "    <tr>\n",
       "      <th>3</th>\n",
       "      <td>15</td>\n",
       "      <td>Female</td>\n",
       "      <td>1.21</td>\n",
       "      <td>Laptop</td>\n",
       "      <td>False</td>\n",
       "      <td>0.39</td>\n",
       "      <td>NaN</td>\n",
       "      <td>Urban</td>\n",
       "    </tr>\n",
       "    <tr>\n",
       "      <th>4</th>\n",
       "      <td>12</td>\n",
       "      <td>Female</td>\n",
       "      <td>5.89</td>\n",
       "      <td>Smartphone</td>\n",
       "      <td>True</td>\n",
       "      <td>0.49</td>\n",
       "      <td>Poor Sleep, Anxiety</td>\n",
       "      <td>Urban</td>\n",
       "    </tr>\n",
       "  </tbody>\n",
       "</table>\n",
       "</div>"
      ],
      "text/plain": [
       "   Age  Gender  Avg_Daily_Screen_Time_hr Primary_Device  \\\n",
       "0   14    Male                      3.99     Smartphone   \n",
       "1   11  Female                      4.61         Laptop   \n",
       "2   18  Female                      3.73             TV   \n",
       "3   15  Female                      1.21         Laptop   \n",
       "4   12  Female                      5.89     Smartphone   \n",
       "\n",
       "   Exceeded_Recommended_Limit  Educational_to_Recreational_Ratio  \\\n",
       "0                        True                               0.42   \n",
       "1                        True                               0.30   \n",
       "2                        True                               0.32   \n",
       "3                       False                               0.39   \n",
       "4                        True                               0.49   \n",
       "\n",
       "           Health_Impacts Urban_or_Rural  \n",
       "0  Poor Sleep, Eye Strain          Urban  \n",
       "1              Poor Sleep          Urban  \n",
       "2              Poor Sleep          Urban  \n",
       "3                     NaN          Urban  \n",
       "4     Poor Sleep, Anxiety          Urban  "
      ]
     },
     "execution_count": 3,
     "metadata": {},
     "output_type": "execute_result"
    }
   ],
   "source": [
    "data.head()"
   ]
  },
  {
   "cell_type": "markdown",
   "id": "aebe124a-e065-494f-96dc-e1eddf81a2fa",
   "metadata": {},
   "source": [
    "## Check Null Values"
   ]
  },
  {
   "cell_type": "code",
   "execution_count": 5,
   "id": "e175c587-5d2e-4e1a-9159-259c52593ac6",
   "metadata": {},
   "outputs": [
    {
     "data": {
      "text/plain": [
       "Age                                     0\n",
       "Gender                                  0\n",
       "Avg_Daily_Screen_Time_hr                0\n",
       "Primary_Device                          0\n",
       "Exceeded_Recommended_Limit              0\n",
       "Educational_to_Recreational_Ratio       0\n",
       "Health_Impacts                       3218\n",
       "Urban_or_Rural                          0\n",
       "dtype: int64"
      ]
     },
     "execution_count": 5,
     "metadata": {},
     "output_type": "execute_result"
    }
   ],
   "source": [
    "data.isnull().sum()"
   ]
  },
  {
   "cell_type": "markdown",
   "id": "5121fec2-7e24-4493-b755-312356df63bb",
   "metadata": {},
   "source": [
    "## Check Duplicated Values"
   ]
  },
  {
   "cell_type": "code",
   "execution_count": 6,
   "id": "35898d83-9d8d-457e-9034-b922c9e13194",
   "metadata": {},
   "outputs": [
    {
     "data": {
      "text/plain": [
       "44"
      ]
     },
     "execution_count": 6,
     "metadata": {},
     "output_type": "execute_result"
    }
   ],
   "source": [
    "data.duplicated().sum()"
   ]
  },
  {
   "cell_type": "code",
   "execution_count": 11,
   "id": "d5d2c8fa-c265-4be8-a427-85f6af7016d1",
   "metadata": {},
   "outputs": [
    {
     "name": "stdout",
     "output_type": "stream",
     "text": [
      "      Age  Gender  Avg_Daily_Screen_Time_hr Primary_Device  \\\n",
      "0      14    Male                      3.99     Smartphone   \n",
      "1      11  Female                      4.61         Laptop   \n",
      "2      18  Female                      3.73             TV   \n",
      "3      15  Female                      1.21         Laptop   \n",
      "4      12  Female                      5.89     Smartphone   \n",
      "...   ...     ...                       ...            ...   \n",
      "9707   17    Male                      3.26     Smartphone   \n",
      "9708   17  Female                      4.43     Smartphone   \n",
      "9709   16    Male                      5.62     Smartphone   \n",
      "9710   17    Male                      5.60             TV   \n",
      "9711   15  Female                      6.12             TV   \n",
      "\n",
      "      Exceeded_Recommended_Limit  Educational_to_Recreational_Ratio  \\\n",
      "0                           True                               0.42   \n",
      "1                           True                               0.30   \n",
      "2                           True                               0.32   \n",
      "3                          False                               0.39   \n",
      "4                           True                               0.49   \n",
      "...                          ...                                ...   \n",
      "9707                        True                               0.44   \n",
      "9708                        True                               0.40   \n",
      "9709                        True                               0.39   \n",
      "9710                        True                               0.43   \n",
      "9711                        True                               0.33   \n",
      "\n",
      "                       Health_Impacts Urban_or_Rural  \n",
      "0              Poor Sleep, Eye Strain          Urban  \n",
      "1                          Poor Sleep          Urban  \n",
      "2                          Poor Sleep          Urban  \n",
      "3                                 NaN          Urban  \n",
      "4                 Poor Sleep, Anxiety          Urban  \n",
      "...                               ...            ...  \n",
      "9707                       Poor Sleep          Urban  \n",
      "9708                       Poor Sleep          Rural  \n",
      "9709  Poor Sleep, Eye Strain, Anxiety          Rural  \n",
      "9710                       Poor Sleep          Urban  \n",
      "9711                          Anxiety          Urban  \n",
      "\n",
      "[9712 rows x 8 columns]\n"
     ]
    }
   ],
   "source": [
    "df = pd.DataFrame(data)\n",
    "print(df)\n"
   ]
  },
  {
   "cell_type": "markdown",
   "id": "3887004f-b1e2-4941-9e3c-e15f540932d4",
   "metadata": {},
   "source": [
    "## Check Correlation"
   ]
  },
  {
   "cell_type": "code",
   "execution_count": 14,
   "id": "aedabdcd-45ce-4644-9546-98cf1806e717",
   "metadata": {},
   "outputs": [
    {
     "data": {
      "text/html": [
       "<div>\n",
       "<style scoped>\n",
       "    .dataframe tbody tr th:only-of-type {\n",
       "        vertical-align: middle;\n",
       "    }\n",
       "\n",
       "    .dataframe tbody tr th {\n",
       "        vertical-align: top;\n",
       "    }\n",
       "\n",
       "    .dataframe thead th {\n",
       "        text-align: right;\n",
       "    }\n",
       "</style>\n",
       "<table border=\"1\" class=\"dataframe\">\n",
       "  <thead>\n",
       "    <tr style=\"text-align: right;\">\n",
       "      <th></th>\n",
       "      <th>Age</th>\n",
       "      <th>Avg_Daily_Screen_Time_hr</th>\n",
       "      <th>Exceeded_Recommended_Limit</th>\n",
       "      <th>Educational_to_Recreational_Ratio</th>\n",
       "    </tr>\n",
       "  </thead>\n",
       "  <tbody>\n",
       "    <tr>\n",
       "      <th>Age</th>\n",
       "      <td>1.000000</td>\n",
       "      <td>0.118328</td>\n",
       "      <td>0.159173</td>\n",
       "      <td>-0.488617</td>\n",
       "    </tr>\n",
       "    <tr>\n",
       "      <th>Avg_Daily_Screen_Time_hr</th>\n",
       "      <td>0.118328</td>\n",
       "      <td>1.000000</td>\n",
       "      <td>0.664950</td>\n",
       "      <td>-0.087552</td>\n",
       "    </tr>\n",
       "    <tr>\n",
       "      <th>Exceeded_Recommended_Limit</th>\n",
       "      <td>0.159173</td>\n",
       "      <td>0.664950</td>\n",
       "      <td>1.000000</td>\n",
       "      <td>-0.126643</td>\n",
       "    </tr>\n",
       "    <tr>\n",
       "      <th>Educational_to_Recreational_Ratio</th>\n",
       "      <td>-0.488617</td>\n",
       "      <td>-0.087552</td>\n",
       "      <td>-0.126643</td>\n",
       "      <td>1.000000</td>\n",
       "    </tr>\n",
       "  </tbody>\n",
       "</table>\n",
       "</div>"
      ],
      "text/plain": [
       "                                        Age  Avg_Daily_Screen_Time_hr  \\\n",
       "Age                                1.000000                  0.118328   \n",
       "Avg_Daily_Screen_Time_hr           0.118328                  1.000000   \n",
       "Exceeded_Recommended_Limit         0.159173                  0.664950   \n",
       "Educational_to_Recreational_Ratio -0.488617                 -0.087552   \n",
       "\n",
       "                                   Exceeded_Recommended_Limit  \\\n",
       "Age                                                  0.159173   \n",
       "Avg_Daily_Screen_Time_hr                             0.664950   \n",
       "Exceeded_Recommended_Limit                           1.000000   \n",
       "Educational_to_Recreational_Ratio                   -0.126643   \n",
       "\n",
       "                                   Educational_to_Recreational_Ratio  \n",
       "Age                                                        -0.488617  \n",
       "Avg_Daily_Screen_Time_hr                                   -0.087552  \n",
       "Exceeded_Recommended_Limit                                 -0.126643  \n",
       "Educational_to_Recreational_Ratio                           1.000000  "
      ]
     },
     "execution_count": 14,
     "metadata": {},
     "output_type": "execute_result"
    }
   ],
   "source": [
    "df.corr(numeric_only=True)\n"
   ]
  },
  {
   "cell_type": "markdown",
   "id": "9dd36e2d-888e-45b9-bc75-48238c3fdc7d",
   "metadata": {},
   "source": [
    "## Check Info of Columns"
   ]
  },
  {
   "cell_type": "code",
   "execution_count": 15,
   "id": "91a7b508-990a-413d-b1aa-b0dc4a1a609d",
   "metadata": {},
   "outputs": [
    {
     "name": "stdout",
     "output_type": "stream",
     "text": [
      "<class 'pandas.core.frame.DataFrame'>\n",
      "RangeIndex: 9712 entries, 0 to 9711\n",
      "Data columns (total 8 columns):\n",
      " #   Column                             Non-Null Count  Dtype  \n",
      "---  ------                             --------------  -----  \n",
      " 0   Age                                9712 non-null   int64  \n",
      " 1   Gender                             9712 non-null   object \n",
      " 2   Avg_Daily_Screen_Time_hr           9712 non-null   float64\n",
      " 3   Primary_Device                     9712 non-null   object \n",
      " 4   Exceeded_Recommended_Limit         9712 non-null   bool   \n",
      " 5   Educational_to_Recreational_Ratio  9712 non-null   float64\n",
      " 6   Health_Impacts                     6494 non-null   object \n",
      " 7   Urban_or_Rural                     9712 non-null   object \n",
      "dtypes: bool(1), float64(2), int64(1), object(4)\n",
      "memory usage: 540.7+ KB\n"
     ]
    }
   ],
   "source": [
    "df.info()"
   ]
  },
  {
   "cell_type": "markdown",
   "id": "9223cb19-c427-4bac-bcb5-503108451a03",
   "metadata": {},
   "source": [
    "## Check Datatype of columns"
   ]
  },
  {
   "cell_type": "code",
   "execution_count": 18,
   "id": "dbbb2230-1082-40f4-8b0c-3123245144d4",
   "metadata": {
    "scrolled": true
   },
   "outputs": [
    {
     "data": {
      "text/plain": [
       "Age                                    int64\n",
       "Gender                                object\n",
       "Avg_Daily_Screen_Time_hr             float64\n",
       "Primary_Device                        object\n",
       "Exceeded_Recommended_Limit              bool\n",
       "Educational_to_Recreational_Ratio    float64\n",
       "Health_Impacts                        object\n",
       "Urban_or_Rural                        object\n",
       "dtype: object"
      ]
     },
     "execution_count": 18,
     "metadata": {},
     "output_type": "execute_result"
    }
   ],
   "source": [
    "data.dtypes"
   ]
  },
  {
   "cell_type": "markdown",
   "id": "329d8bbf-9d0b-49cf-81a7-8647fc56da72",
   "metadata": {},
   "source": [
    "## IQR for ML Models"
   ]
  },
  {
   "cell_type": "code",
   "execution_count": 19,
   "id": "70b235e2-a039-4b3b-910a-df680bb94d95",
   "metadata": {},
   "outputs": [
    {
     "name": "stdout",
     "output_type": "stream",
     "text": [
      "Outlier Counts:\n",
      " Age_Outlier                                    0\n",
      "Avg_Daily_Screen_Time_hr_Outlier             448\n",
      "Educational_to_Recreational_Ratio_Outlier      0\n",
      "Any_Outlier                                  448\n",
      "dtype: int64\n",
      "\n",
      "Sample Outliers:\n",
      "      Age  Gender  Avg_Daily_Screen_Time_hr Primary_Device  \\\n",
      "19     9  Female                      0.00             TV   \n",
      "28     8    Male                      0.31     Smartphone   \n",
      "36    10    Male                     11.68             TV   \n",
      "46     9  Female                      0.00     Smartphone   \n",
      "58     9    Male                      0.00     Smartphone   \n",
      "92    10  Female                      0.00         Tablet   \n",
      "96    10    Male                      0.00     Smartphone   \n",
      "107    9  Female                      0.45     Smartphone   \n",
      "145    9  Female                      0.00         Tablet   \n",
      "180    8    Male                      0.30             TV   \n",
      "\n",
      "     Exceeded_Recommended_Limit  Educational_to_Recreational_Ratio  \\\n",
      "19                        False                               0.42   \n",
      "28                        False                               0.51   \n",
      "36                         True                               0.47   \n",
      "46                        False                               0.47   \n",
      "58                        False                               0.59   \n",
      "92                        False                               0.40   \n",
      "96                        False                               0.45   \n",
      "107                       False                               0.46   \n",
      "145                       False                               0.49   \n",
      "180                       False                               0.48   \n",
      "\n",
      "    Health_Impacts Urban_or_Rural  Age_Outlier  \\\n",
      "19             NaN          Urban        False   \n",
      "28             NaN          Urban        False   \n",
      "36      Poor Sleep          Urban        False   \n",
      "46             NaN          Urban        False   \n",
      "58             NaN          Rural        False   \n",
      "92             NaN          Urban        False   \n",
      "96             NaN          Rural        False   \n",
      "107            NaN          Rural        False   \n",
      "145            NaN          Rural        False   \n",
      "180            NaN          Urban        False   \n",
      "\n",
      "     Avg_Daily_Screen_Time_hr_Outlier  \\\n",
      "19                               True   \n",
      "28                               True   \n",
      "36                               True   \n",
      "46                               True   \n",
      "58                               True   \n",
      "92                               True   \n",
      "96                               True   \n",
      "107                              True   \n",
      "145                              True   \n",
      "180                              True   \n",
      "\n",
      "     Educational_to_Recreational_Ratio_Outlier  Any_Outlier  \n",
      "19                                       False         True  \n",
      "28                                       False         True  \n",
      "36                                       False         True  \n",
      "46                                       False         True  \n",
      "58                                       False         True  \n",
      "92                                       False         True  \n",
      "96                                       False         True  \n",
      "107                                      False         True  \n",
      "145                                      False         True  \n",
      "180                                      False         True  \n"
     ]
    }
   ],
   "source": [
    "numeric_cols = ['Age', 'Avg_Daily_Screen_Time_hr', 'Educational_to_Recreational_Ratio']\n",
    "outlier_flags = pd.DataFrame(index=df.index)\n",
    "for col in numeric_cols:\n",
    "    Q1 = df[col].quantile(0.25)\n",
    "    Q3 = df[col].quantile(0.75)\n",
    "    IQR = Q3 - Q1\n",
    "    lower_bound = Q1 - 1.5 * IQR\n",
    "    upper_bound = Q3 + 1.5 * IQR\n",
    "    \n",
    "outlier_flags[col + '_Outlier'] = ~df[col].between(lower_bound, upper_bound)\n",
    "outlier_flags['Any_Outlier'] = outlier_flags.any(axis=1)\n",
    "df_outliers = df.join(outlier_flags)\n",
    "print(\"Outlier Counts:\\n\", outlier_flags.sum())\n",
    "print(\"\\nSample Outliers:\\n\", df_outliers[df_outliers['Any_Outlier']].head(10))\n"
   ]
  },
  {
   "cell_type": "code",
   "execution_count": null,
   "id": "249532b5-64cc-41f6-86ca-7be3e1060650",
   "metadata": {},
   "outputs": [],
   "source": []
  }
 ],
 "metadata": {
  "kernelspec": {
   "display_name": "Python 3 (ipykernel)",
   "language": "python",
   "name": "python3"
  },
  "language_info": {
   "codemirror_mode": {
    "name": "ipython",
    "version": 3
   },
   "file_extension": ".py",
   "mimetype": "text/x-python",
   "name": "python",
   "nbconvert_exporter": "python",
   "pygments_lexer": "ipython3",
   "version": "3.12.7"
  }
 },
 "nbformat": 4,
 "nbformat_minor": 5
}
