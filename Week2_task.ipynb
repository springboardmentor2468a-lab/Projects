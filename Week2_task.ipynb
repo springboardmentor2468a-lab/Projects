{
  "nbformat": 4,
  "nbformat_minor": 0,
  "metadata": {
    "colab": {
      "provenance": []
    },
    "kernelspec": {
      "name": "python3",
      "display_name": "Python 3"
    },
    "language_info": {
      "name": "python"
    }
  },
  "cells": [
    {
      "cell_type": "code",
      "execution_count": 1,
      "metadata": {
        "colab": {
          "base_uri": "https://localhost:8080/",
          "height": 317
        },
        "id": "Bqcp4UWN_u4w",
        "outputId": "8aa5d4d8-bdd8-4099-a5d2-30a1ef5893b9"
      },
      "outputs": [
        {
          "output_type": "display_data",
          "data": {
            "text/plain": [
              "<IPython.core.display.HTML object>"
            ],
            "text/html": [
              "\n",
              "     <input type=\"file\" id=\"files-d0ddd392-04fd-4327-81da-0e2887a9f204\" name=\"files[]\" multiple disabled\n",
              "        style=\"border:none\" />\n",
              "     <output id=\"result-d0ddd392-04fd-4327-81da-0e2887a9f204\">\n",
              "      Upload widget is only available when the cell has been executed in the\n",
              "      current browser session. Please rerun this cell to enable.\n",
              "      </output>\n",
              "      <script>// Copyright 2017 Google LLC\n",
              "//\n",
              "// Licensed under the Apache License, Version 2.0 (the \"License\");\n",
              "// you may not use this file except in compliance with the License.\n",
              "// You may obtain a copy of the License at\n",
              "//\n",
              "//      http://www.apache.org/licenses/LICENSE-2.0\n",
              "//\n",
              "// Unless required by applicable law or agreed to in writing, software\n",
              "// distributed under the License is distributed on an \"AS IS\" BASIS,\n",
              "// WITHOUT WARRANTIES OR CONDITIONS OF ANY KIND, either express or implied.\n",
              "// See the License for the specific language governing permissions and\n",
              "// limitations under the License.\n",
              "\n",
              "/**\n",
              " * @fileoverview Helpers for google.colab Python module.\n",
              " */\n",
              "(function(scope) {\n",
              "function span(text, styleAttributes = {}) {\n",
              "  const element = document.createElement('span');\n",
              "  element.textContent = text;\n",
              "  for (const key of Object.keys(styleAttributes)) {\n",
              "    element.style[key] = styleAttributes[key];\n",
              "  }\n",
              "  return element;\n",
              "}\n",
              "\n",
              "// Max number of bytes which will be uploaded at a time.\n",
              "const MAX_PAYLOAD_SIZE = 100 * 1024;\n",
              "\n",
              "function _uploadFiles(inputId, outputId) {\n",
              "  const steps = uploadFilesStep(inputId, outputId);\n",
              "  const outputElement = document.getElementById(outputId);\n",
              "  // Cache steps on the outputElement to make it available for the next call\n",
              "  // to uploadFilesContinue from Python.\n",
              "  outputElement.steps = steps;\n",
              "\n",
              "  return _uploadFilesContinue(outputId);\n",
              "}\n",
              "\n",
              "// This is roughly an async generator (not supported in the browser yet),\n",
              "// where there are multiple asynchronous steps and the Python side is going\n",
              "// to poll for completion of each step.\n",
              "// This uses a Promise to block the python side on completion of each step,\n",
              "// then passes the result of the previous step as the input to the next step.\n",
              "function _uploadFilesContinue(outputId) {\n",
              "  const outputElement = document.getElementById(outputId);\n",
              "  const steps = outputElement.steps;\n",
              "\n",
              "  const next = steps.next(outputElement.lastPromiseValue);\n",
              "  return Promise.resolve(next.value.promise).then((value) => {\n",
              "    // Cache the last promise value to make it available to the next\n",
              "    // step of the generator.\n",
              "    outputElement.lastPromiseValue = value;\n",
              "    return next.value.response;\n",
              "  });\n",
              "}\n",
              "\n",
              "/**\n",
              " * Generator function which is called between each async step of the upload\n",
              " * process.\n",
              " * @param {string} inputId Element ID of the input file picker element.\n",
              " * @param {string} outputId Element ID of the output display.\n",
              " * @return {!Iterable<!Object>} Iterable of next steps.\n",
              " */\n",
              "function* uploadFilesStep(inputId, outputId) {\n",
              "  const inputElement = document.getElementById(inputId);\n",
              "  inputElement.disabled = false;\n",
              "\n",
              "  const outputElement = document.getElementById(outputId);\n",
              "  outputElement.innerHTML = '';\n",
              "\n",
              "  const pickedPromise = new Promise((resolve) => {\n",
              "    inputElement.addEventListener('change', (e) => {\n",
              "      resolve(e.target.files);\n",
              "    });\n",
              "  });\n",
              "\n",
              "  const cancel = document.createElement('button');\n",
              "  inputElement.parentElement.appendChild(cancel);\n",
              "  cancel.textContent = 'Cancel upload';\n",
              "  const cancelPromise = new Promise((resolve) => {\n",
              "    cancel.onclick = () => {\n",
              "      resolve(null);\n",
              "    };\n",
              "  });\n",
              "\n",
              "  // Wait for the user to pick the files.\n",
              "  const files = yield {\n",
              "    promise: Promise.race([pickedPromise, cancelPromise]),\n",
              "    response: {\n",
              "      action: 'starting',\n",
              "    }\n",
              "  };\n",
              "\n",
              "  cancel.remove();\n",
              "\n",
              "  // Disable the input element since further picks are not allowed.\n",
              "  inputElement.disabled = true;\n",
              "\n",
              "  if (!files) {\n",
              "    return {\n",
              "      response: {\n",
              "        action: 'complete',\n",
              "      }\n",
              "    };\n",
              "  }\n",
              "\n",
              "  for (const file of files) {\n",
              "    const li = document.createElement('li');\n",
              "    li.append(span(file.name, {fontWeight: 'bold'}));\n",
              "    li.append(span(\n",
              "        `(${file.type || 'n/a'}) - ${file.size} bytes, ` +\n",
              "        `last modified: ${\n",
              "            file.lastModifiedDate ? file.lastModifiedDate.toLocaleDateString() :\n",
              "                                    'n/a'} - `));\n",
              "    const percent = span('0% done');\n",
              "    li.appendChild(percent);\n",
              "\n",
              "    outputElement.appendChild(li);\n",
              "\n",
              "    const fileDataPromise = new Promise((resolve) => {\n",
              "      const reader = new FileReader();\n",
              "      reader.onload = (e) => {\n",
              "        resolve(e.target.result);\n",
              "      };\n",
              "      reader.readAsArrayBuffer(file);\n",
              "    });\n",
              "    // Wait for the data to be ready.\n",
              "    let fileData = yield {\n",
              "      promise: fileDataPromise,\n",
              "      response: {\n",
              "        action: 'continue',\n",
              "      }\n",
              "    };\n",
              "\n",
              "    // Use a chunked sending to avoid message size limits. See b/62115660.\n",
              "    let position = 0;\n",
              "    do {\n",
              "      const length = Math.min(fileData.byteLength - position, MAX_PAYLOAD_SIZE);\n",
              "      const chunk = new Uint8Array(fileData, position, length);\n",
              "      position += length;\n",
              "\n",
              "      const base64 = btoa(String.fromCharCode.apply(null, chunk));\n",
              "      yield {\n",
              "        response: {\n",
              "          action: 'append',\n",
              "          file: file.name,\n",
              "          data: base64,\n",
              "        },\n",
              "      };\n",
              "\n",
              "      let percentDone = fileData.byteLength === 0 ?\n",
              "          100 :\n",
              "          Math.round((position / fileData.byteLength) * 100);\n",
              "      percent.textContent = `${percentDone}% done`;\n",
              "\n",
              "    } while (position < fileData.byteLength);\n",
              "  }\n",
              "\n",
              "  // All done.\n",
              "  yield {\n",
              "    response: {\n",
              "      action: 'complete',\n",
              "    }\n",
              "  };\n",
              "}\n",
              "\n",
              "scope.google = scope.google || {};\n",
              "scope.google.colab = scope.google.colab || {};\n",
              "scope.google.colab._files = {\n",
              "  _uploadFiles,\n",
              "  _uploadFilesContinue,\n",
              "};\n",
              "})(self);\n",
              "</script> "
            ]
          },
          "metadata": {}
        },
        {
          "output_type": "stream",
          "name": "stdout",
          "text": [
            "Saving Indian_Kids_Screen_Time.csv to Indian_Kids_Screen_Time.csv\n"
          ]
        },
        {
          "output_type": "execute_result",
          "data": {
            "text/plain": [
              "   Age  Gender  Avg_Daily_Screen_Time_hr Primary_Device  \\\n",
              "0   14    Male                      3.99     Smartphone   \n",
              "1   11  Female                      4.61         Laptop   \n",
              "2   18  Female                      3.73             TV   \n",
              "3   15  Female                      1.21         Laptop   \n",
              "4   12  Female                      5.89     Smartphone   \n",
              "\n",
              "   Exceeded_Recommended_Limit  Educational_to_Recreational_Ratio  \\\n",
              "0                        True                               0.42   \n",
              "1                        True                               0.30   \n",
              "2                        True                               0.32   \n",
              "3                       False                               0.39   \n",
              "4                        True                               0.49   \n",
              "\n",
              "           Health_Impacts Urban_or_Rural  \n",
              "0  Poor Sleep, Eye Strain          Urban  \n",
              "1              Poor Sleep          Urban  \n",
              "2              Poor Sleep          Urban  \n",
              "3                     NaN          Urban  \n",
              "4     Poor Sleep, Anxiety          Urban  "
            ],
            "text/html": [
              "\n",
              "  <div id=\"df-8467230e-c0e3-4a9d-a6ed-4eb887398d65\" class=\"colab-df-container\">\n",
              "    <div>\n",
              "<style scoped>\n",
              "    .dataframe tbody tr th:only-of-type {\n",
              "        vertical-align: middle;\n",
              "    }\n",
              "\n",
              "    .dataframe tbody tr th {\n",
              "        vertical-align: top;\n",
              "    }\n",
              "\n",
              "    .dataframe thead th {\n",
              "        text-align: right;\n",
              "    }\n",
              "</style>\n",
              "<table border=\"1\" class=\"dataframe\">\n",
              "  <thead>\n",
              "    <tr style=\"text-align: right;\">\n",
              "      <th></th>\n",
              "      <th>Age</th>\n",
              "      <th>Gender</th>\n",
              "      <th>Avg_Daily_Screen_Time_hr</th>\n",
              "      <th>Primary_Device</th>\n",
              "      <th>Exceeded_Recommended_Limit</th>\n",
              "      <th>Educational_to_Recreational_Ratio</th>\n",
              "      <th>Health_Impacts</th>\n",
              "      <th>Urban_or_Rural</th>\n",
              "    </tr>\n",
              "  </thead>\n",
              "  <tbody>\n",
              "    <tr>\n",
              "      <th>0</th>\n",
              "      <td>14</td>\n",
              "      <td>Male</td>\n",
              "      <td>3.99</td>\n",
              "      <td>Smartphone</td>\n",
              "      <td>True</td>\n",
              "      <td>0.42</td>\n",
              "      <td>Poor Sleep, Eye Strain</td>\n",
              "      <td>Urban</td>\n",
              "    </tr>\n",
              "    <tr>\n",
              "      <th>1</th>\n",
              "      <td>11</td>\n",
              "      <td>Female</td>\n",
              "      <td>4.61</td>\n",
              "      <td>Laptop</td>\n",
              "      <td>True</td>\n",
              "      <td>0.30</td>\n",
              "      <td>Poor Sleep</td>\n",
              "      <td>Urban</td>\n",
              "    </tr>\n",
              "    <tr>\n",
              "      <th>2</th>\n",
              "      <td>18</td>\n",
              "      <td>Female</td>\n",
              "      <td>3.73</td>\n",
              "      <td>TV</td>\n",
              "      <td>True</td>\n",
              "      <td>0.32</td>\n",
              "      <td>Poor Sleep</td>\n",
              "      <td>Urban</td>\n",
              "    </tr>\n",
              "    <tr>\n",
              "      <th>3</th>\n",
              "      <td>15</td>\n",
              "      <td>Female</td>\n",
              "      <td>1.21</td>\n",
              "      <td>Laptop</td>\n",
              "      <td>False</td>\n",
              "      <td>0.39</td>\n",
              "      <td>NaN</td>\n",
              "      <td>Urban</td>\n",
              "    </tr>\n",
              "    <tr>\n",
              "      <th>4</th>\n",
              "      <td>12</td>\n",
              "      <td>Female</td>\n",
              "      <td>5.89</td>\n",
              "      <td>Smartphone</td>\n",
              "      <td>True</td>\n",
              "      <td>0.49</td>\n",
              "      <td>Poor Sleep, Anxiety</td>\n",
              "      <td>Urban</td>\n",
              "    </tr>\n",
              "  </tbody>\n",
              "</table>\n",
              "</div>\n",
              "    <div class=\"colab-df-buttons\">\n",
              "\n",
              "  <div class=\"colab-df-container\">\n",
              "    <button class=\"colab-df-convert\" onclick=\"convertToInteractive('df-8467230e-c0e3-4a9d-a6ed-4eb887398d65')\"\n",
              "            title=\"Convert this dataframe to an interactive table.\"\n",
              "            style=\"display:none;\">\n",
              "\n",
              "  <svg xmlns=\"http://www.w3.org/2000/svg\" height=\"24px\" viewBox=\"0 -960 960 960\">\n",
              "    <path d=\"M120-120v-720h720v720H120Zm60-500h600v-160H180v160Zm220 220h160v-160H400v160Zm0 220h160v-160H400v160ZM180-400h160v-160H180v160Zm440 0h160v-160H620v160ZM180-180h160v-160H180v160Zm440 0h160v-160H620v160Z\"/>\n",
              "  </svg>\n",
              "    </button>\n",
              "\n",
              "  <style>\n",
              "    .colab-df-container {\n",
              "      display:flex;\n",
              "      gap: 12px;\n",
              "    }\n",
              "\n",
              "    .colab-df-convert {\n",
              "      background-color: #E8F0FE;\n",
              "      border: none;\n",
              "      border-radius: 50%;\n",
              "      cursor: pointer;\n",
              "      display: none;\n",
              "      fill: #1967D2;\n",
              "      height: 32px;\n",
              "      padding: 0 0 0 0;\n",
              "      width: 32px;\n",
              "    }\n",
              "\n",
              "    .colab-df-convert:hover {\n",
              "      background-color: #E2EBFA;\n",
              "      box-shadow: 0px 1px 2px rgba(60, 64, 67, 0.3), 0px 1px 3px 1px rgba(60, 64, 67, 0.15);\n",
              "      fill: #174EA6;\n",
              "    }\n",
              "\n",
              "    .colab-df-buttons div {\n",
              "      margin-bottom: 4px;\n",
              "    }\n",
              "\n",
              "    [theme=dark] .colab-df-convert {\n",
              "      background-color: #3B4455;\n",
              "      fill: #D2E3FC;\n",
              "    }\n",
              "\n",
              "    [theme=dark] .colab-df-convert:hover {\n",
              "      background-color: #434B5C;\n",
              "      box-shadow: 0px 1px 3px 1px rgba(0, 0, 0, 0.15);\n",
              "      filter: drop-shadow(0px 1px 2px rgba(0, 0, 0, 0.3));\n",
              "      fill: #FFFFFF;\n",
              "    }\n",
              "  </style>\n",
              "\n",
              "    <script>\n",
              "      const buttonEl =\n",
              "        document.querySelector('#df-8467230e-c0e3-4a9d-a6ed-4eb887398d65 button.colab-df-convert');\n",
              "      buttonEl.style.display =\n",
              "        google.colab.kernel.accessAllowed ? 'block' : 'none';\n",
              "\n",
              "      async function convertToInteractive(key) {\n",
              "        const element = document.querySelector('#df-8467230e-c0e3-4a9d-a6ed-4eb887398d65');\n",
              "        const dataTable =\n",
              "          await google.colab.kernel.invokeFunction('convertToInteractive',\n",
              "                                                    [key], {});\n",
              "        if (!dataTable) return;\n",
              "\n",
              "        const docLinkHtml = 'Like what you see? Visit the ' +\n",
              "          '<a target=\"_blank\" href=https://colab.research.google.com/notebooks/data_table.ipynb>data table notebook</a>'\n",
              "          + ' to learn more about interactive tables.';\n",
              "        element.innerHTML = '';\n",
              "        dataTable['output_type'] = 'display_data';\n",
              "        await google.colab.output.renderOutput(dataTable, element);\n",
              "        const docLink = document.createElement('div');\n",
              "        docLink.innerHTML = docLinkHtml;\n",
              "        element.appendChild(docLink);\n",
              "      }\n",
              "    </script>\n",
              "  </div>\n",
              "\n",
              "\n",
              "    <div id=\"df-8e967b32-2fa4-40b2-85e9-43945e8bf97f\">\n",
              "      <button class=\"colab-df-quickchart\" onclick=\"quickchart('df-8e967b32-2fa4-40b2-85e9-43945e8bf97f')\"\n",
              "                title=\"Suggest charts\"\n",
              "                style=\"display:none;\">\n",
              "\n",
              "<svg xmlns=\"http://www.w3.org/2000/svg\" height=\"24px\"viewBox=\"0 0 24 24\"\n",
              "     width=\"24px\">\n",
              "    <g>\n",
              "        <path d=\"M19 3H5c-1.1 0-2 .9-2 2v14c0 1.1.9 2 2 2h14c1.1 0 2-.9 2-2V5c0-1.1-.9-2-2-2zM9 17H7v-7h2v7zm4 0h-2V7h2v10zm4 0h-2v-4h2v4z\"/>\n",
              "    </g>\n",
              "</svg>\n",
              "      </button>\n",
              "\n",
              "<style>\n",
              "  .colab-df-quickchart {\n",
              "      --bg-color: #E8F0FE;\n",
              "      --fill-color: #1967D2;\n",
              "      --hover-bg-color: #E2EBFA;\n",
              "      --hover-fill-color: #174EA6;\n",
              "      --disabled-fill-color: #AAA;\n",
              "      --disabled-bg-color: #DDD;\n",
              "  }\n",
              "\n",
              "  [theme=dark] .colab-df-quickchart {\n",
              "      --bg-color: #3B4455;\n",
              "      --fill-color: #D2E3FC;\n",
              "      --hover-bg-color: #434B5C;\n",
              "      --hover-fill-color: #FFFFFF;\n",
              "      --disabled-bg-color: #3B4455;\n",
              "      --disabled-fill-color: #666;\n",
              "  }\n",
              "\n",
              "  .colab-df-quickchart {\n",
              "    background-color: var(--bg-color);\n",
              "    border: none;\n",
              "    border-radius: 50%;\n",
              "    cursor: pointer;\n",
              "    display: none;\n",
              "    fill: var(--fill-color);\n",
              "    height: 32px;\n",
              "    padding: 0;\n",
              "    width: 32px;\n",
              "  }\n",
              "\n",
              "  .colab-df-quickchart:hover {\n",
              "    background-color: var(--hover-bg-color);\n",
              "    box-shadow: 0 1px 2px rgba(60, 64, 67, 0.3), 0 1px 3px 1px rgba(60, 64, 67, 0.15);\n",
              "    fill: var(--button-hover-fill-color);\n",
              "  }\n",
              "\n",
              "  .colab-df-quickchart-complete:disabled,\n",
              "  .colab-df-quickchart-complete:disabled:hover {\n",
              "    background-color: var(--disabled-bg-color);\n",
              "    fill: var(--disabled-fill-color);\n",
              "    box-shadow: none;\n",
              "  }\n",
              "\n",
              "  .colab-df-spinner {\n",
              "    border: 2px solid var(--fill-color);\n",
              "    border-color: transparent;\n",
              "    border-bottom-color: var(--fill-color);\n",
              "    animation:\n",
              "      spin 1s steps(1) infinite;\n",
              "  }\n",
              "\n",
              "  @keyframes spin {\n",
              "    0% {\n",
              "      border-color: transparent;\n",
              "      border-bottom-color: var(--fill-color);\n",
              "      border-left-color: var(--fill-color);\n",
              "    }\n",
              "    20% {\n",
              "      border-color: transparent;\n",
              "      border-left-color: var(--fill-color);\n",
              "      border-top-color: var(--fill-color);\n",
              "    }\n",
              "    30% {\n",
              "      border-color: transparent;\n",
              "      border-left-color: var(--fill-color);\n",
              "      border-top-color: var(--fill-color);\n",
              "      border-right-color: var(--fill-color);\n",
              "    }\n",
              "    40% {\n",
              "      border-color: transparent;\n",
              "      border-right-color: var(--fill-color);\n",
              "      border-top-color: var(--fill-color);\n",
              "    }\n",
              "    60% {\n",
              "      border-color: transparent;\n",
              "      border-right-color: var(--fill-color);\n",
              "    }\n",
              "    80% {\n",
              "      border-color: transparent;\n",
              "      border-right-color: var(--fill-color);\n",
              "      border-bottom-color: var(--fill-color);\n",
              "    }\n",
              "    90% {\n",
              "      border-color: transparent;\n",
              "      border-bottom-color: var(--fill-color);\n",
              "    }\n",
              "  }\n",
              "</style>\n",
              "\n",
              "      <script>\n",
              "        async function quickchart(key) {\n",
              "          const quickchartButtonEl =\n",
              "            document.querySelector('#' + key + ' button');\n",
              "          quickchartButtonEl.disabled = true;  // To prevent multiple clicks.\n",
              "          quickchartButtonEl.classList.add('colab-df-spinner');\n",
              "          try {\n",
              "            const charts = await google.colab.kernel.invokeFunction(\n",
              "                'suggestCharts', [key], {});\n",
              "          } catch (error) {\n",
              "            console.error('Error during call to suggestCharts:', error);\n",
              "          }\n",
              "          quickchartButtonEl.classList.remove('colab-df-spinner');\n",
              "          quickchartButtonEl.classList.add('colab-df-quickchart-complete');\n",
              "        }\n",
              "        (() => {\n",
              "          let quickchartButtonEl =\n",
              "            document.querySelector('#df-8e967b32-2fa4-40b2-85e9-43945e8bf97f button');\n",
              "          quickchartButtonEl.style.display =\n",
              "            google.colab.kernel.accessAllowed ? 'block' : 'none';\n",
              "        })();\n",
              "      </script>\n",
              "    </div>\n",
              "\n",
              "    </div>\n",
              "  </div>\n"
            ],
            "application/vnd.google.colaboratory.intrinsic+json": {
              "type": "dataframe",
              "variable_name": "df",
              "summary": "{\n  \"name\": \"df\",\n  \"rows\": 9712,\n  \"fields\": [\n    {\n      \"column\": \"Age\",\n      \"properties\": {\n        \"dtype\": \"number\",\n        \"std\": 3,\n        \"min\": 8,\n        \"max\": 18,\n        \"num_unique_values\": 11,\n        \"samples\": [\n          17,\n          14,\n          8\n        ],\n        \"semantic_type\": \"\",\n        \"description\": \"\"\n      }\n    },\n    {\n      \"column\": \"Gender\",\n      \"properties\": {\n        \"dtype\": \"category\",\n        \"num_unique_values\": 2,\n        \"samples\": [\n          \"Female\",\n          \"Male\"\n        ],\n        \"semantic_type\": \"\",\n        \"description\": \"\"\n      }\n    },\n    {\n      \"column\": \"Avg_Daily_Screen_Time_hr\",\n      \"properties\": {\n        \"dtype\": \"number\",\n        \"std\": 1.718232459051636,\n        \"min\": 0.0,\n        \"max\": 13.89,\n        \"num_unique_values\": 899,\n        \"samples\": [\n          0.62,\n          9.05\n        ],\n        \"semantic_type\": \"\",\n        \"description\": \"\"\n      }\n    },\n    {\n      \"column\": \"Primary_Device\",\n      \"properties\": {\n        \"dtype\": \"category\",\n        \"num_unique_values\": 4,\n        \"samples\": [\n          \"Laptop\",\n          \"Tablet\"\n        ],\n        \"semantic_type\": \"\",\n        \"description\": \"\"\n      }\n    },\n    {\n      \"column\": \"Exceeded_Recommended_Limit\",\n      \"properties\": {\n        \"dtype\": \"boolean\",\n        \"num_unique_values\": 2,\n        \"samples\": [\n          false,\n          true\n        ],\n        \"semantic_type\": \"\",\n        \"description\": \"\"\n      }\n    },\n    {\n      \"column\": \"Educational_to_Recreational_Ratio\",\n      \"properties\": {\n        \"dtype\": \"number\",\n        \"std\": 0.07322124121854738,\n        \"min\": 0.3,\n        \"max\": 0.6,\n        \"num_unique_values\": 31,\n        \"samples\": [\n          0.57,\n          0.51\n        ],\n        \"semantic_type\": \"\",\n        \"description\": \"\"\n      }\n    },\n    {\n      \"column\": \"Health_Impacts\",\n      \"properties\": {\n        \"dtype\": \"category\",\n        \"num_unique_values\": 15,\n        \"samples\": [\n          \"Eye Strain, Anxiety, Obesity Risk\",\n          \"Poor Sleep, Eye Strain, Obesity Risk\"\n        ],\n        \"semantic_type\": \"\",\n        \"description\": \"\"\n      }\n    },\n    {\n      \"column\": \"Urban_or_Rural\",\n      \"properties\": {\n        \"dtype\": \"category\",\n        \"num_unique_values\": 2,\n        \"samples\": [\n          \"Rural\",\n          \"Urban\"\n        ],\n        \"semantic_type\": \"\",\n        \"description\": \"\"\n      }\n    }\n  ]\n}"
            }
          },
          "metadata": {},
          "execution_count": 1
        }
      ],
      "source": [
        "from google.colab import files\n",
        "import pandas as pd\n",
        "\n",
        "# Upload file\n",
        "uploaded = files.upload()\n",
        "\n",
        "# Read the CSV\n",
        "df = pd.read_csv(\"Indian_Kids_Screen_Time.csv\")\n",
        "\n",
        "# Preview\n",
        "df.head()\n"
      ]
    },
    {
      "cell_type": "code",
      "source": [
        "# Import libraries\n",
        "import pandas as pd\n",
        "import numpy as np\n",
        "import seaborn as sns\n",
        "import matplotlib.pyplot as plt"
      ],
      "metadata": {
        "id": "nfr2wTCpAdAI"
      },
      "execution_count": 2,
      "outputs": []
    },
    {
      "cell_type": "code",
      "source": [
        "# Load dataset\n",
        "df = pd.read_csv(\"Indian_Kids_Screen_Time.csv\")"
      ],
      "metadata": {
        "id": "cb4LKrHZAjA-"
      },
      "execution_count": 3,
      "outputs": []
    },
    {
      "cell_type": "code",
      "source": [
        "# 1. Basic Info\n",
        "print(\"Dataset Shape:\", df.shape)\n",
        "print(\"\\nPreview:\\n\", df.head())\n",
        "print(\"\\nMissing Values:\\n\", df.isnull().sum())\n",
        "print(\"\\nDuplicate Rows:\", df.duplicated().sum())"
      ],
      "metadata": {
        "colab": {
          "base_uri": "https://localhost:8080/"
        },
        "id": "fpHTPqk1AqyS",
        "outputId": "ed9b5a3b-86ea-42b8-f492-5cade7c35ea2"
      },
      "execution_count": 4,
      "outputs": [
        {
          "output_type": "stream",
          "name": "stdout",
          "text": [
            "Dataset Shape: (9712, 8)\n",
            "\n",
            "Preview:\n",
            "    Age  Gender  Avg_Daily_Screen_Time_hr Primary_Device  \\\n",
            "0   14    Male                      3.99     Smartphone   \n",
            "1   11  Female                      4.61         Laptop   \n",
            "2   18  Female                      3.73             TV   \n",
            "3   15  Female                      1.21         Laptop   \n",
            "4   12  Female                      5.89     Smartphone   \n",
            "\n",
            "   Exceeded_Recommended_Limit  Educational_to_Recreational_Ratio  \\\n",
            "0                        True                               0.42   \n",
            "1                        True                               0.30   \n",
            "2                        True                               0.32   \n",
            "3                       False                               0.39   \n",
            "4                        True                               0.49   \n",
            "\n",
            "           Health_Impacts Urban_or_Rural  \n",
            "0  Poor Sleep, Eye Strain          Urban  \n",
            "1              Poor Sleep          Urban  \n",
            "2              Poor Sleep          Urban  \n",
            "3                     NaN          Urban  \n",
            "4     Poor Sleep, Anxiety          Urban  \n",
            "\n",
            "Missing Values:\n",
            " Age                                     0\n",
            "Gender                                  0\n",
            "Avg_Daily_Screen_Time_hr                0\n",
            "Primary_Device                          0\n",
            "Exceeded_Recommended_Limit              0\n",
            "Educational_to_Recreational_Ratio       0\n",
            "Health_Impacts                       3218\n",
            "Urban_or_Rural                          0\n",
            "dtype: int64\n",
            "\n",
            "Duplicate Rows: 44\n"
          ]
        }
      ]
    },
    {
      "cell_type": "code",
      "source": [
        "# Drop duplicates if any\n",
        "df = df.drop_duplicates()"
      ],
      "metadata": {
        "id": "v6fjoBumAzkf"
      },
      "execution_count": 5,
      "outputs": []
    },
    {
      "cell_type": "code",
      "source": [
        "# 2. Statistical Summary\n",
        "print(\"\\nDescriptive Statistics:\\n\", df.describe(include=\"all\"))"
      ],
      "metadata": {
        "colab": {
          "base_uri": "https://localhost:8080/"
        },
        "id": "wBSNzFZ9A2-s",
        "outputId": "fe259055-b3e5-4033-f9b6-f7b90d9f8251"
      },
      "execution_count": 6,
      "outputs": [
        {
          "output_type": "stream",
          "name": "stdout",
          "text": [
            "\n",
            "Descriptive Statistics:\n",
            "                 Age Gender  Avg_Daily_Screen_Time_hr Primary_Device  \\\n",
            "count   9668.000000   9668               9668.000000           9668   \n",
            "unique          NaN      2                       NaN              4   \n",
            "top             NaN   Male                       NaN     Smartphone   \n",
            "freq            NaN   4928                       NaN           4540   \n",
            "mean      12.992760    NaN                  4.367780            NaN   \n",
            "std        3.158931    NaN                  1.703002            NaN   \n",
            "min        8.000000    NaN                  0.000000            NaN   \n",
            "25%       10.000000    NaN                  3.427500            NaN   \n",
            "50%       13.000000    NaN                  4.440000            NaN   \n",
            "75%       16.000000    NaN                  5.380000            NaN   \n",
            "max       18.000000    NaN                 13.890000            NaN   \n",
            "\n",
            "       Exceeded_Recommended_Limit  Educational_to_Recreational_Ratio  \\\n",
            "count                        9668                        9668.000000   \n",
            "unique                          2                                NaN   \n",
            "top                          True                                NaN   \n",
            "freq                         8292                                NaN   \n",
            "mean                          NaN                           0.427028   \n",
            "std                           NaN                           0.073185   \n",
            "min                           NaN                           0.300000   \n",
            "25%                           NaN                           0.370000   \n",
            "50%                           NaN                           0.430000   \n",
            "75%                           NaN                           0.480000   \n",
            "max                           NaN                           0.600000   \n",
            "\n",
            "       Health_Impacts Urban_or_Rural  \n",
            "count            6488           9668  \n",
            "unique             15              2  \n",
            "top        Poor Sleep          Urban  \n",
            "freq             2264           6810  \n",
            "mean              NaN            NaN  \n",
            "std               NaN            NaN  \n",
            "min               NaN            NaN  \n",
            "25%               NaN            NaN  \n",
            "50%               NaN            NaN  \n",
            "75%               NaN            NaN  \n",
            "max               NaN            NaN  \n"
          ]
        }
      ]
    },
    {
      "cell_type": "code",
      "source": [
        "# 3. Correlation Heatmap\n",
        "corr = df.corr(numeric_only=True)\n",
        "plt.figure(figsize=(6,5))\n",
        "sns.heatmap(corr, annot=True, cmap=\"coolwarm\")\n",
        "plt.title(\"Correlation Heatmap of Numerical Features\")\n",
        "plt.show()"
      ],
      "metadata": {
        "colab": {
          "base_uri": "https://localhost:8080/",
          "height": 693
        },
        "id": "mf_-pIXiA82L",
        "outputId": "6e584ad7-ea56-4d31-a5cb-6b43df8f0617"
      },
      "execution_count": 7,
      "outputs": [
        {
          "output_type": "display_data",
          "data": {
            "text/plain": [
              "<Figure size 600x500 with 2 Axes>"
            ],
            "image/png": "[encoded data removed]"
          },
          "metadata": {}
        }
      ]
    },
    {
      "cell_type": "code",
      "source": [
        "# 4. Age Grouping\n",
        "age_bins = [7, 10, 14, 18]\n",
        "age_labels = [\"Child (7-10)\", \"Pre-Teen (11-14)\", \"Teenager (15-18)\"]\n",
        "df[\"Age_Group\"] = pd.cut(df[\"Age\"], bins=age_bins, labels=age_labels)\n",
        "print(\"\\nAge Groups Created:\\n\", df[[\"Age\", \"Age_Group\"]].head())"
      ],
      "metadata": {
        "colab": {
          "base_uri": "https://localhost:8080/"
        },
        "id": "zp0TjaTABCAG",
        "outputId": "c2645817-5c98-436b-af54-6bde32bad134"
      },
      "execution_count": 8,
      "outputs": [
        {
          "output_type": "stream",
          "name": "stdout",
          "text": [
            "\n",
            "Age Groups Created:\n",
            "    Age         Age_Group\n",
            "0   14  Pre-Teen (11-14)\n",
            "1   11  Pre-Teen (11-14)\n",
            "2   18  Teenager (15-18)\n",
            "3   15  Teenager (15-18)\n",
            "4   12  Pre-Teen (11-14)\n"
          ]
        }
      ]
    },
    {
      "cell_type": "code",
      "source": [
        "# 5. Handling Missing Health_Impacts\n",
        "df[\"Health_Impacts\"] = df[\"Health_Impacts\"].fillna(\"No Reported Issues\")"
      ],
      "metadata": {
        "id": "t_V2m2QjBHUI"
      },
      "execution_count": 9,
      "outputs": []
    },
    {
      "cell_type": "code",
      "source": [
        "# 6. Categorizing Health Issues (Different keywords)\n",
        "def categorize_impact(text):\n",
        "    text = str(text).lower()\n",
        "    physical_terms = [\"eye\", \"vision\", \"fatigue\", \"posture\", \"weight\"]\n",
        "    mental_terms = [\"stress\", \"depression\", \"anxiety\", \"addiction\", \"attention\"]\n",
        "\n",
        "    if any(word in text for word in physical_terms) and any(word in text for word in mental_terms):\n",
        "        return \"Both Physical & Mental\"\n",
        "    elif any(word in text for word in physical_terms):\n",
        "        return \"Physical\"\n",
        "    elif any(word in text for word in mental_terms):\n",
        "        return \"Mental\"\n",
        "    else:\n",
        "        return \"None\"\n",
        "\n",
        "df[\"Health_Category\"] = df[\"Health_Impacts\"].apply(categorize_impact)\n",
        "\n",
        "print(\"\\nHealth Categories:\\n\", df[\"Health_Category\"].value_counts())\n"
      ],
      "metadata": {
        "colab": {
          "base_uri": "https://localhost:8080/"
        },
        "id": "jQ1Aw0ojBLoW",
        "outputId": "1be2a1eb-81c3-4a4c-929a-e975e5114a63"
      },
      "execution_count": 10,
      "outputs": [
        {
          "output_type": "stream",
          "name": "stdout",
          "text": [
            "\n",
            "Health Categories:\n",
            " Health_Category\n",
            "None                      6148\n",
            "Physical                  1916\n",
            "Mental                    1139\n",
            "Both Physical & Mental     465\n",
            "Name: count, dtype: int64\n"
          ]
        }
      ]
    },
    {
      "cell_type": "code",
      "source": [
        "# 7. Categorize Devices\n",
        "device_map = {\n",
        "    \"Smartphone\": \"Portable\",\n",
        "    \"Tablet\": \"Portable\",\n",
        "    \"Laptop\": \"Portable\",\n",
        "    \"TV\": \"Large Screen\"\n",
        "}\n",
        "df[\"Device_Type\"] = df[\"Primary_Device\"].map(device_map)\n",
        "print(\"\\nDevice Categories:\\n\", df[[\"Primary_Device\", \"Device_Type\"]].head())"
      ],
      "metadata": {
        "colab": {
          "base_uri": "https://localhost:8080/"
        },
        "id": "EcLEoZQoBTZO",
        "outputId": "a955ae48-d871-41b7-a7a0-3c2d72547d6c"
      },
      "execution_count": 11,
      "outputs": [
        {
          "output_type": "stream",
          "name": "stdout",
          "text": [
            "\n",
            "Device Categories:\n",
            "   Primary_Device   Device_Type\n",
            "0     Smartphone      Portable\n",
            "1         Laptop      Portable\n",
            "2             TV  Large Screen\n",
            "3         Laptop      Portable\n",
            "4     Smartphone      Portable\n"
          ]
        }
      ]
    },
    {
      "cell_type": "code",
      "source": [
        "# 8. Screen Time Categories\n",
        "def screen_time_band(hours):\n",
        "    if hours < 2:\n",
        "        return \"Low\"\n",
        "    elif 2 <= hours <= 4:\n",
        "        return \"Moderate\"\n",
        "    else:\n",
        "        return \"High\"\n",
        "\n",
        "df[\"Screen_Time_Category\"] = df[\"Avg_Daily_Screen_Time_hr\"].apply(screen_time_band)"
      ],
      "metadata": {
        "id": "Q-6cclf5BXqm"
      },
      "execution_count": 12,
      "outputs": []
    },
    {
      "cell_type": "code",
      "source": [
        "# 9. Group by Urban/Rural\n",
        "grouped = df.groupby(\"Urban_or_Rural\")[\"Avg_Daily_Screen_Time_hr\"].mean().round(2)\n",
        "print(\"\\nAverage Screen Time by Area:\\n\", grouped)"
      ],
      "metadata": {
        "colab": {
          "base_uri": "https://localhost:8080/"
        },
        "id": "kBrmHmMbBcUP",
        "outputId": "a23ca40b-b953-48ba-92bb-713ef8b73bc5"
      },
      "execution_count": 13,
      "outputs": [
        {
          "output_type": "stream",
          "name": "stdout",
          "text": [
            "\n",
            "Average Screen Time by Area:\n",
            " Urban_or_Rural\n",
            "Rural    4.38\n",
            "Urban    4.36\n",
            "Name: Avg_Daily_Screen_Time_hr, dtype: float64\n"
          ]
        }
      ]
    },
    {
      "cell_type": "code",
      "source": [
        "# 10. Visualizations\n",
        "plt.figure(figsize=(7,5))\n",
        "sns.countplot(data=df, x=\"Screen_Time_Category\", order=[\"Low\",\"Moderate\",\"High\"])\n",
        "plt.title(\"Screen Time Distribution\")\n",
        "plt.show()"
      ],
      "metadata": {
        "colab": {
          "base_uri": "https://localhost:8080/",
          "height": 487
        },
        "id": "vFbWkBx8BgTT",
        "outputId": "0d0c3cbf-e8e4-49f3-ee57-f2991f76ab0e"
      },
      "execution_count": 14,
      "outputs": [
        {
          "output_type": "display_data",
          "data": {
            "text/plain": [
              "<Figure size 700x500 with 1 Axes>"
            ],
            "image/png": "[encoded data removed]"
          },
          "metadata": {}
        }
      ]
    },
    {
      "cell_type": "code",
      "source": [
        "plt.figure(figsize=(7,5))\n",
        "sns.countplot(data=df, x=\"Device_Type\", hue=\"Screen_Time_Category\")\n",
        "plt.title(\"Device Type vs Screen Time\")\n",
        "plt.show()"
      ],
      "metadata": {
        "colab": {
          "base_uri": "https://localhost:8080/",
          "height": 487
        },
        "id": "crZyWX66BlTr",
        "outputId": "189a7a41-46ba-45c1-8461-9f388ecad7ab"
      },
      "execution_count": 15,
      "outputs": [
        {
          "output_type": "display_data",
          "data": {
            "text/plain": [
              "<Figure size 700x500 with 1 Axes>"
            ],
            "image/png": "[encoded data removed]"
          },
          "metadata": {}
        }
      ]
    },
    {
      "cell_type": "code",
      "source": [
        "# 11. Save Cleaned Dataset\n",
        "df.to_csv(\"Kids_ScreenTime_Cleaned.csv\", index=False)\n",
        "print(\"\\n Cleaned dataset saved as 'Kids_ScreenTime_Cleaned.csv'\")"
      ],
      "metadata": {
        "colab": {
          "base_uri": "https://localhost:8080/"
        },
        "id": "q7o_It38BoO7",
        "outputId": "f088f910-e9c7-4d71-c7ed-2b2b0e1fcb2c"
      },
      "execution_count": 17,
      "outputs": [
        {
          "output_type": "stream",
          "name": "stdout",
          "text": [
            "\n",
            " Cleaned dataset saved as 'Kids_ScreenTime_Cleaned.csv'\n"
          ]
        }
      ]
    },
    {
      "cell_type": "code",
      "source": [
        "files.download(\"Kids_ScreenTime_Cleaned.csv\")"
      ],
      "metadata": {
        "colab": {
          "base_uri": "https://localhost:8080/",
          "height": 17
        },
        "id": "zEiSsKwWCAWc",
        "outputId": "62520fda-7e10-49bf-8dff-c6c63df8d23d"
      },
      "execution_count": 18,
      "outputs": [
        {
          "output_type": "display_data",
          "data": {
            "text/plain": [
              "<IPython.core.display.Javascript object>"
            ],
            "application/javascript": [
              "\n",
              "    async function download(id, filename, size) {\n",
              "      if (!google.colab.kernel.accessAllowed) {\n",
              "        return;\n",
              "      }\n",
              "      const div = document.createElement('div');\n",
              "      const label = document.createElement('label');\n",
              "      label.textContent = `Downloading \"${filename}\": `;\n",
              "      div.appendChild(label);\n",
              "      const progress = document.createElement('progress');\n",
              "      progress.max = size;\n",
              "      div.appendChild(progress);\n",
              "      document.body.appendChild(div);\n",
              "\n",
              "      const buffers = [];\n",
              "      let downloaded = 0;\n",
              "\n",
              "      const channel = await google.colab.kernel.comms.open(id);\n",
              "      // Send a message to notify the kernel that we're ready.\n",
              "      channel.send({})\n",
              "\n",
              "      for await (const message of channel.messages) {\n",
              "        // Send a message to notify the kernel that we're ready.\n",
              "        channel.send({})\n",
              "        if (message.buffers) {\n",
              "          for (const buffer of message.buffers) {\n",
              "            buffers.push(buffer);\n",
              "            downloaded += buffer.byteLength;\n",
              "            progress.value = downloaded;\n",
              "          }\n",
              "        }\n",
              "      }\n",
              "      const blob = new Blob(buffers, {type: 'application/binary'});\n",
              "      const a = document.createElement('a');\n",
              "      a.href = window.URL.createObjectURL(blob);\n",
              "      a.download = filename;\n",
              "      div.appendChild(a);\n",
              "      a.click();\n",
              "      div.remove();\n",
              "    }\n",
              "  "
            ]
          },
          "metadata": {}
        },
        {
          "output_type": "display_data",
          "data": {
            "text/plain": [
              "<IPython.core.display.Javascript object>"
            ],
            "application/javascript": [
              "download(\"download_0a8608b3-3b91-4073-8e4e-6b6154fef01f\", \"Kids_ScreenTime_Cleaned.csv\", 918390)"
            ]
          },
          "metadata": {}
        }
      ]
    },
    {
      "cell_type": "markdown",
      "source": [
        "Summary\n",
        "\n",
        "Grouped the student's ages into bands so it's easier to compare across different age ranges.\n",
        "\n",
        "In the health section, some students had \"None\" written instead of leaving it blank. We changed those to say “No Reported Issues” so it's clearer.\n",
        "\n",
        "Health issues were then sorted into three simple categories: Physical, Mental, or Both.\n",
        "\n",
        "When looking at device usage, we noticed that most students prefer portable devices like phones or tablets over larger screens.\n",
        "\n",
        "Also divided their daily screen time into three groups: Low, Moderate, and High. Most of the children spend over 4 hours a day on screens, which falls in the high group.\n",
        "\n",
        "Finally, Saved this cleaned-up dataset so it can be used for deeper analysis later."
      ],
      "metadata": {
        "id": "wfHY3XW_CqTi"
      }
    }
  ]
}