{
 "cells": [
  {
   "cell_type": "markdown",
   "id": "ecea1882-6bec-463b-a609-d22e8e6fcf39",
   "metadata": {},
   "source": [
    "# Week 1"
   ]
  },
  {
   "cell_type": "code",
   "execution_count": 1,
   "id": "7b8bc6c5-df22-4482-906e-44f5a697f3d9",
   "metadata": {},
   "outputs": [],
   "source": [
    "import pandas as pd\n",
    "import numpy as np"
   ]
  },
  {
   "cell_type": "markdown",
   "id": "efc01e16-5f3d-4eed-bf6f-f8a79012268e",
   "metadata": {},
   "source": [
    "## Load Dataset "
   ]
  },
  {
   "cell_type": "code",
   "execution_count": 2,
   "id": "893bc0b9-fde6-4422-871f-1634fe7b02d2",
   "metadata": {},
   "outputs": [],
   "source": [
    "data = pd.read_csv(r'Indian_Kids_Screen_Time.csv')"
   ]
  },
  {
   "cell_type": "code",
   "execution_count": 3,
   "id": "3be7b8b6-3278-455a-b2fa-7e1a5c498ea6",
   "metadata": {},
   "outputs": [
    {
     "data": {
      "text/html": [
       "<div>\n",
       "<style scoped>\n",
       "    .dataframe tbody tr th:only-of-type {\n",
       "        vertical-align: middle;\n",
       "    }\n",
       "\n",
       "    .dataframe tbody tr th {\n",
       "        vertical-align: top;\n",
       "    }\n",
       "\n",
       "    .dataframe thead th {\n",
       "        text-align: right;\n",
       "    }\n",
       "</style>\n",
       "<table border=\"1\" class=\"dataframe\">\n",
       "  <thead>\n",
       "    <tr style=\"text-align: right;\">\n",
       "      <th></th>\n",
       "      <th>Age</th>\n",
       "      <th>Gender</th>\n",
       "      <th>Avg_Daily_Screen_Time_hr</th>\n",
       "      <th>Primary_Device</th>\n",
       "      <th>Exceeded_Recommended_Limit</th>\n",
       "      <th>Educational_to_Recreational_Ratio</th>\n",
       "      <th>Health_Impacts</th>\n",
       "      <th>Urban_or_Rural</th>\n",
       "    </tr>\n",
       "  </thead>\n",
       "  <tbody>\n",
       "    <tr>\n",
       "      <th>0</th>\n",
       "      <td>14</td>\n",
       "      <td>Male</td>\n",
       "      <td>3.99</td>\n",
       "      <td>Smartphone</td>\n",
       "      <td>True</td>\n",
       "      <td>0.42</td>\n",
       "      <td>Poor Sleep, Eye Strain</td>\n",
       "      <td>Urban</td>\n",
       "    </tr>\n",
       "    <tr>\n",
       "      <th>1</th>\n",
       "      <td>11</td>\n",
       "      <td>Female</td>\n",
       "      <td>4.61</td>\n",
       "      <td>Laptop</td>\n",
       "      <td>True</td>\n",
       "      <td>0.30</td>\n",
       "      <td>Poor Sleep</td>\n",
       "      <td>Urban</td>\n",
       "    </tr>\n",
       "    <tr>\n",
       "      <th>2</th>\n",
       "      <td>18</td>\n",
       "      <td>Female</td>\n",
       "      <td>3.73</td>\n",
       "      <td>TV</td>\n",
       "      <td>True</td>\n",
       "      <td>0.32</td>\n",
       "      <td>Poor Sleep</td>\n",
       "      <td>Urban</td>\n",
       "    </tr>\n",
       "    <tr>\n",
       "      <th>3</th>\n",
       "      <td>15</td>\n",
       "      <td>Female</td>\n",
       "      <td>1.21</td>\n",
       "      <td>Laptop</td>\n",
       "      <td>False</td>\n",
       "      <td>0.39</td>\n",
       "      <td>NaN</td>\n",
       "      <td>Urban</td>\n",
       "    </tr>\n",
       "    <tr>\n",
       "      <th>4</th>\n",
       "      <td>12</td>\n",
       "      <td>Female</td>\n",
       "      <td>5.89</td>\n",
       "      <td>Smartphone</td>\n",
       "      <td>True</td>\n",
       "      <td>0.49</td>\n",
       "      <td>Poor Sleep, Anxiety</td>\n",
       "      <td>Urban</td>\n",
       "    </tr>\n",
       "  </tbody>\n",
       "</table>\n",
       "</div>"
      ],
      "text/plain": [
       "   Age  Gender  Avg_Daily_Screen_Time_hr Primary_Device  \\\n",
       "0   14    Male                      3.99     Smartphone   \n",
       "1   11  Female                      4.61         Laptop   \n",
       "2   18  Female                      3.73             TV   \n",
       "3   15  Female                      1.21         Laptop   \n",
       "4   12  Female                      5.89     Smartphone   \n",
       "\n",
       "   Exceeded_Recommended_Limit  Educational_to_Recreational_Ratio  \\\n",
       "0                        True                               0.42   \n",
       "1                        True                               0.30   \n",
       "2                        True                               0.32   \n",
       "3                       False                               0.39   \n",
       "4                        True                               0.49   \n",
       "\n",
       "           Health_Impacts Urban_or_Rural  \n",
       "0  Poor Sleep, Eye Strain          Urban  \n",
       "1              Poor Sleep          Urban  \n",
       "2              Poor Sleep          Urban  \n",
       "3                     NaN          Urban  \n",
       "4     Poor Sleep, Anxiety          Urban  "
      ]
     },
     "execution_count": 3,
     "metadata": {},
     "output_type": "execute_result"
    }
   ],
   "source": [
    "data.head()"
   ]
  },
  {
   "cell_type": "markdown",
   "id": "aebe124a-e065-494f-96dc-e1eddf81a2fa",
   "metadata": {},
   "source": [
    "## Check Null Values"
   ]
  },
  {
   "cell_type": "code",
   "execution_count": 4,
   "id": "e175c587-5d2e-4e1a-9159-259c52593ac6",
   "metadata": {},
   "outputs": [
    {
     "data": {
      "text/plain": [
       "Age                                     0\n",
       "Gender                                  0\n",
       "Avg_Daily_Screen_Time_hr                0\n",
       "Primary_Device                          0\n",
       "Exceeded_Recommended_Limit              0\n",
       "Educational_to_Recreational_Ratio       0\n",
       "Health_Impacts                       3218\n",
       "Urban_or_Rural                          0\n",
       "dtype: int64"
      ]
     },
     "execution_count": 4,
     "metadata": {},
     "output_type": "execute_result"
    }
   ],
   "source": [
    "data.isnull().sum()"
   ]
  },
  {
   "cell_type": "markdown",
   "id": "5121fec2-7e24-4493-b755-312356df63bb",
   "metadata": {},
   "source": [
    "## Check Duplicated Values"
   ]
  },
  {
   "cell_type": "code",
   "execution_count": 5,
   "id": "35898d83-9d8d-457e-9034-b922c9e13194",
   "metadata": {},
   "outputs": [
    {
     "data": {
      "text/plain": [
       "44"
      ]
     },
     "execution_count": 5,
     "metadata": {},
     "output_type": "execute_result"
    }
   ],
   "source": [
    "data.duplicated().sum()"
   ]
  },
  {
   "cell_type": "code",
   "execution_count": 6,
   "id": "d5d2c8fa-c265-4be8-a427-85f6af7016d1",
   "metadata": {},
   "outputs": [
    {
     "name": "stdout",
     "output_type": "stream",
     "text": [
      "      Age  Gender  Avg_Daily_Screen_Time_hr Primary_Device  \\\n",
      "0      14    Male                      3.99     Smartphone   \n",
      "1      11  Female                      4.61         Laptop   \n",
      "2      18  Female                      3.73             TV   \n",
      "3      15  Female                      1.21         Laptop   \n",
      "4      12  Female                      5.89     Smartphone   \n",
      "...   ...     ...                       ...            ...   \n",
      "9707   17    Male                      3.26     Smartphone   \n",
      "9708   17  Female                      4.43     Smartphone   \n",
      "9709   16    Male                      5.62     Smartphone   \n",
      "9710   17    Male                      5.60             TV   \n",
      "9711   15  Female                      6.12             TV   \n",
      "\n",
      "      Exceeded_Recommended_Limit  Educational_to_Recreational_Ratio  \\\n",
      "0                           True                               0.42   \n",
      "1                           True                               0.30   \n",
      "2                           True                               0.32   \n",
      "3                          False                               0.39   \n",
      "4                           True                               0.49   \n",
      "...                          ...                                ...   \n",
      "9707                        True                               0.44   \n",
      "9708                        True                               0.40   \n",
      "9709                        True                               0.39   \n",
      "9710                        True                               0.43   \n",
      "9711                        True                               0.33   \n",
      "\n",
      "                       Health_Impacts Urban_or_Rural  \n",
      "0              Poor Sleep, Eye Strain          Urban  \n",
      "1                          Poor Sleep          Urban  \n",
      "2                          Poor Sleep          Urban  \n",
      "3                                 NaN          Urban  \n",
      "4                 Poor Sleep, Anxiety          Urban  \n",
      "...                               ...            ...  \n",
      "9707                       Poor Sleep          Urban  \n",
      "9708                       Poor Sleep          Rural  \n",
      "9709  Poor Sleep, Eye Strain, Anxiety          Rural  \n",
      "9710                       Poor Sleep          Urban  \n",
      "9711                          Anxiety          Urban  \n",
      "\n",
      "[9712 rows x 8 columns]\n"
     ]
    }
   ],
   "source": [
    "df = pd.DataFrame(data)\n",
    "print(df)\n"
   ]
  },
  {
   "cell_type": "markdown",
   "id": "3887004f-b1e2-4941-9e3c-e15f540932d4",
   "metadata": {},
   "source": [
    "## Check Correlation"
   ]
  },
  {
   "cell_type": "code",
   "execution_count": 7,
   "id": "aedabdcd-45ce-4644-9546-98cf1806e717",
   "metadata": {},
   "outputs": [
    {
     "data": {
      "text/html": [
       "<div>\n",
       "<style scoped>\n",
       "    .dataframe tbody tr th:only-of-type {\n",
       "        vertical-align: middle;\n",
       "    }\n",
       "\n",
       "    .dataframe tbody tr th {\n",
       "        vertical-align: top;\n",
       "    }\n",
       "\n",
       "    .dataframe thead th {\n",
       "        text-align: right;\n",
       "    }\n",
       "</style>\n",
       "<table border=\"1\" class=\"dataframe\">\n",
       "  <thead>\n",
       "    <tr style=\"text-align: right;\">\n",
       "      <th></th>\n",
       "      <th>Age</th>\n",
       "      <th>Avg_Daily_Screen_Time_hr</th>\n",
       "      <th>Exceeded_Recommended_Limit</th>\n",
       "      <th>Educational_to_Recreational_Ratio</th>\n",
       "    </tr>\n",
       "  </thead>\n",
       "  <tbody>\n",
       "    <tr>\n",
       "      <th>Age</th>\n",
       "      <td>1.000000</td>\n",
       "      <td>0.118328</td>\n",
       "      <td>0.159173</td>\n",
       "      <td>-0.488617</td>\n",
       "    </tr>\n",
       "    <tr>\n",
       "      <th>Avg_Daily_Screen_Time_hr</th>\n",
       "      <td>0.118328</td>\n",
       "      <td>1.000000</td>\n",
       "      <td>0.664950</td>\n",
       "      <td>-0.087552</td>\n",
       "    </tr>\n",
       "    <tr>\n",
       "      <th>Exceeded_Recommended_Limit</th>\n",
       "      <td>0.159173</td>\n",
       "      <td>0.664950</td>\n",
       "      <td>1.000000</td>\n",
       "      <td>-0.126643</td>\n",
       "    </tr>\n",
       "    <tr>\n",
       "      <th>Educational_to_Recreational_Ratio</th>\n",
       "      <td>-0.488617</td>\n",
       "      <td>-0.087552</td>\n",
       "      <td>-0.126643</td>\n",
       "      <td>1.000000</td>\n",
       "    </tr>\n",
       "  </tbody>\n",
       "</table>\n",
       "</div>"
      ],
      "text/plain": [
       "                                        Age  Avg_Daily_Screen_Time_hr  \\\n",
       "Age                                1.000000                  0.118328   \n",
       "Avg_Daily_Screen_Time_hr           0.118328                  1.000000   \n",
       "Exceeded_Recommended_Limit         0.159173                  0.664950   \n",
       "Educational_to_Recreational_Ratio -0.488617                 -0.087552   \n",
       "\n",
       "                                   Exceeded_Recommended_Limit  \\\n",
       "Age                                                  0.159173   \n",
       "Avg_Daily_Screen_Time_hr                             0.664950   \n",
       "Exceeded_Recommended_Limit                           1.000000   \n",
       "Educational_to_Recreational_Ratio                   -0.126643   \n",
       "\n",
       "                                   Educational_to_Recreational_Ratio  \n",
       "Age                                                        -0.488617  \n",
       "Avg_Daily_Screen_Time_hr                                   -0.087552  \n",
       "Exceeded_Recommended_Limit                                 -0.126643  \n",
       "Educational_to_Recreational_Ratio                           1.000000  "
      ]
     },
     "execution_count": 7,
     "metadata": {},
     "output_type": "execute_result"
    }
   ],
   "source": [
    "df.corr(numeric_only=True)\n"
   ]
  },
  {
   "cell_type": "markdown",
   "id": "9dd36e2d-888e-45b9-bc75-48238c3fdc7d",
   "metadata": {},
   "source": [
    "## Check Info of Columns"
   ]
  },
  {
   "cell_type": "code",
   "execution_count": 8,
   "id": "91a7b508-990a-413d-b1aa-b0dc4a1a609d",
   "metadata": {},
   "outputs": [
    {
     "name": "stdout",
     "output_type": "stream",
     "text": [
      "<class 'pandas.core.frame.DataFrame'>\n",
      "RangeIndex: 9712 entries, 0 to 9711\n",
      "Data columns (total 8 columns):\n",
      " #   Column                             Non-Null Count  Dtype  \n",
      "---  ------                             --------------  -----  \n",
      " 0   Age                                9712 non-null   int64  \n",
      " 1   Gender                             9712 non-null   object \n",
      " 2   Avg_Daily_Screen_Time_hr           9712 non-null   float64\n",
      " 3   Primary_Device                     9712 non-null   object \n",
      " 4   Exceeded_Recommended_Limit         9712 non-null   bool   \n",
      " 5   Educational_to_Recreational_Ratio  9712 non-null   float64\n",
      " 6   Health_Impacts                     6494 non-null   object \n",
      " 7   Urban_or_Rural                     9712 non-null   object \n",
      "dtypes: bool(1), float64(2), int64(1), object(4)\n",
      "memory usage: 540.7+ KB\n"
     ]
    }
   ],
   "source": [
    "df.info()"
   ]
  },
  {
   "cell_type": "markdown",
   "id": "9223cb19-c427-4bac-bcb5-503108451a03",
   "metadata": {},
   "source": [
    "## Check Datatype of columns"
   ]
  },
  {
   "cell_type": "code",
   "execution_count": 9,
   "id": "dbbb2230-1082-40f4-8b0c-3123245144d4",
   "metadata": {
    "scrolled": true
   },
   "outputs": [
    {
     "data": {
      "text/plain": [
       "Age                                    int64\n",
       "Gender                                object\n",
       "Avg_Daily_Screen_Time_hr             float64\n",
       "Primary_Device                        object\n",
       "Exceeded_Recommended_Limit              bool\n",
       "Educational_to_Recreational_Ratio    float64\n",
       "Health_Impacts                        object\n",
       "Urban_or_Rural                        object\n",
       "dtype: object"
      ]
     },
     "execution_count": 9,
     "metadata": {},
     "output_type": "execute_result"
    }
   ],
   "source": [
    "data.dtypes"
   ]
  },
  {
   "cell_type": "markdown",
   "id": "329d8bbf-9d0b-49cf-81a7-8647fc56da72",
   "metadata": {},
   "source": [
    "## IQR for ML Models"
   ]
  },
  {
   "cell_type": "code",
   "execution_count": 10,
   "id": "70b235e2-a039-4b3b-910a-df680bb94d95",
   "metadata": {},
   "outputs": [
    {
     "name": "stdout",
     "output_type": "stream",
     "text": [
      "Outlier Counts:\n",
      " Educational_to_Recreational_Ratio_Outlier    0\n",
      "Any_Outlier                                  0\n",
      "dtype: int64\n",
      "\n",
      "Sample Outliers:\n",
      " Empty DataFrame\n",
      "Columns: [Age, Gender, Avg_Daily_Screen_Time_hr, Primary_Device, Exceeded_Recommended_Limit, Educational_to_Recreational_Ratio, Health_Impacts, Urban_or_Rural, Educational_to_Recreational_Ratio_Outlier, Any_Outlier]\n",
      "Index: []\n"
     ]
    }
   ],
   "source": [
    "numeric_cols = ['Age', 'Avg_Daily_Screen_Time_hr', 'Educational_to_Recreational_Ratio']\n",
    "outlier_flags = pd.DataFrame(index=df.index)\n",
    "for col in numeric_cols:\n",
    "    Q1 = df[col].quantile(0.25)\n",
    "    Q3 = df[col].quantile(0.75)\n",
    "    IQR = Q3 - Q1\n",
    "    lower_bound = Q1 - 1.5 * IQR\n",
    "    upper_bound = Q3 + 1.5 * IQR\n",
    "    \n",
    "outlier_flags[col + '_Outlier'] = ~df[col].between(lower_bound, upper_bound)\n",
    "outlier_flags['Any_Outlier'] = outlier_flags.any(axis=1)\n",
    "df_outliers = df.join(outlier_flags)\n",
    "print(\"Outlier Counts:\\n\", outlier_flags.sum())\n",
    "print(\"\\nSample Outliers:\\n\", df_outliers[df_outliers['Any_Outlier']].head(10))\n"
   ]
  },
  {
   "cell_type": "code",
   "execution_count": 19,
   "id": "508bd09b-0d5a-4adc-87f8-5e24546a98d4",
   "metadata": {},
   "outputs": [
    {
     "name": "stdout",
     "output_type": "stream",
     "text": [
      "IQR: 1.9699999999999998\n"
     ]
    }
   ],
   "source": [
    "Q1 = df['Avg_Daily_Screen_Time_hr'].quantile(0.25)\n",
    "Q3 = df['Avg_Daily_Screen_Time_hr'].quantile(0.75)\n",
    "IQR = Q3 - Q1\n",
    "print(\"IQR:\", IQR)"
   ]
  },
  {
   "cell_type": "markdown",
   "id": "3804e91b-673a-4d4d-9e2c-5096dac49cf7",
   "metadata": {},
   "source": [
    "## Understanding of Week 1"
   ]
  },
  {
   "cell_type": "markdown",
   "id": "6b50ae93-d09d-4bce-a491-67e46d7ee8de",
   "metadata": {},
   "source": [
    "## 1. Imported Dataset\n",
    "\n",
    "Loaded the dataset with 9712 rows and 8 columns.\n",
    "\n",
    "## 2. Checked for Missing Values\n",
    "\n",
    "No empty values in main columns.\n",
    "In Health_Impacts, 3218 rows have \"None\", so useful health data is limited.\n",
    "\n",
    "## 3. Checked for Duplicates\n",
    "\n",
    "Found 44 duplicate rows.\n",
    "\n",
    "## 4. Checked for Duplicate Columns\n",
    "\n",
    "No duplicate columns were found.\n",
    "\n",
    "## 5. Correlation Check\n",
    "\n",
    "Age has a small link with screen time (older kids use more).\n",
    "Educational ratio decreases as total screen time increases.\n",
    "\n",
    "## 6. IQR and Outliers\n",
    "\n",
    "IQR of Avg_Daily_Screen_Time_hr = 1.97\n",
    "Some kids reported very high screen time, which is not realistic.\n",
    "\n",
    "## 7. Screen Time in Urban vs Rural\n",
    "\n",
    "Urban: 4.38 hrs/day\n",
    "Rural: 4.36 hrs/day\n",
    "Little difference between the two areas.\n",
    "\n",
    "## 8. Unique Entries in Columns\n",
    "\n",
    "Gender: 2 (Male, Female)\n",
    "Primary Device: 4 types\n",
    "Urban or Rural: 2 (Urban, Rural)\n",
    "Health Impacts: 16 values (some inconsistent).\n",
    "Final Notes\n",
    "\n",
    "Dataset is mostly clean.\n",
    "Needs duplicate rows removed.\n",
    "Health_Impacts values need fixing.\n",
    "Urban and rural kids spend almost the same time on screens."
   ]
  },
  {
   "cell_type": "markdown",
   "id": "19874218-f220-43a4-babe-e27077924446",
   "metadata": {},
   "source": [
    "## Data Visualization (HeatMap)"
   ]
  },
  {
   "cell_type": "code",
   "execution_count": 11,
   "id": "b09099a2-b392-4bb7-b52e-b846b248b13f",
   "metadata": {},
   "outputs": [
    {
     "data": {
      "image/png": "[encoded data removed]",
      "text/plain": [
       "<Figure size 1000x600 with 2 Axes>"
      ]
     },
     "metadata": {},
     "output_type": "display_data"
    }
   ],
   "source": [
    "import matplotlib.pyplot as plt\n",
    "import seaborn as sns\n",
    "\n",
    "# Select only numeric columns\n",
    "numeric_df = df.select_dtypes(include=['int64', 'float64'])\n",
    "\n",
    "# Calculate correlation matrix\n",
    "corr_matrix = numeric_df.corr()\n",
    "\n",
    "# Set up the figure\n",
    "plt.figure(figsize=(10, 6))\n",
    "\n",
    "# Create heatmap\n",
    "sns.heatmap(corr_matrix, annot=True, cmap=\"coolwarm\", fmt=\".2f\", linewidths=0.5)\n",
    "\n",
    "# Add title\n",
    "plt.title(\"Correlation Heatmap of Indian Kids Screen Time Dataset\", fontsize=14)\n",
    "\n",
    "# Show plot\n",
    "plt.show()\n"
   ]
  },
  {
   "cell_type": "markdown",
   "id": "9723eed4-d808-4f36-ac34-a68f2c232f66",
   "metadata": {},
   "source": [
    "# Week 2"
   ]
  },
  {
   "cell_type": "markdown",
   "id": "7452152a-aed6-42ec-b17d-2e1e273be25f",
   "metadata": {},
   "source": [
    "## Handling Null Values"
   ]
  },
  {
   "cell_type": "code",
   "execution_count": 21,
   "id": "c32cdb30-7ab2-4893-9071-138f30cab5f7",
   "metadata": {},
   "outputs": [
    {
     "name": "stdout",
     "output_type": "stream",
     "text": [
      "   Age Age_Group\n",
      "0   14      Teen\n",
      "1   11     Child\n",
      "2   18      Teen\n",
      "3   15      Teen\n",
      "4   12     Child\n"
     ]
    }
   ],
   "source": [
    "df = df[df['Age'] <= 18]  \n",
    "df['Age_Group'] = pd.cut(df['Age'], [0, 3, 12, 18], labels=['Toddler', 'Child', 'Teen'])\n",
    "\n",
    "print(df[['Age', 'Age_Group']].head())"
   ]
  },
  {
   "cell_type": "markdown",
   "id": "8f6afcbc-9873-49bd-8033-adf55a0b206a",
   "metadata": {},
   "source": [
    "## Making Age Bands"
   ]
  },
  {
   "cell_type": "code",
   "execution_count": 22,
   "id": "b6c6b072-3dbb-4c58-8a97-2f02d67bfccf",
   "metadata": {},
   "outputs": [
    {
     "name": "stdout",
     "output_type": "stream",
     "text": [
      "      Age Age_Group  Gender  Avg_Daily_Screen_Time_hr Primary_Device  \\\n",
      "0      14      Teen    Male                      3.99     Smartphone   \n",
      "1      11     Child  Female                      4.61         Laptop   \n",
      "2      18      Teen  Female                      3.73             TV   \n",
      "3      15      Teen  Female                      1.21         Laptop   \n",
      "4      12     Child  Female                      5.89     Smartphone   \n",
      "...   ...       ...     ...                       ...            ...   \n",
      "9707   17      Teen    Male                      3.26     Smartphone   \n",
      "9708   17      Teen  Female                      4.43     Smartphone   \n",
      "9709   16      Teen    Male                      5.62     Smartphone   \n",
      "9710   17      Teen    Male                      5.60             TV   \n",
      "9711   15      Teen  Female                      6.12             TV   \n",
      "\n",
      "      Exceeded_Recommended_Limit  Educational_to_Recreational_Ratio  \\\n",
      "0                           True                               0.42   \n",
      "1                           True                               0.30   \n",
      "2                           True                               0.32   \n",
      "3                          False                               0.39   \n",
      "4                           True                               0.49   \n",
      "...                          ...                                ...   \n",
      "9707                        True                               0.44   \n",
      "9708                        True                               0.40   \n",
      "9709                        True                               0.39   \n",
      "9710                        True                               0.43   \n",
      "9711                        True                               0.33   \n",
      "\n",
      "                       Health_Impacts Urban_or_Rural Age_Band  \n",
      "0              Poor Sleep, Eye Strain          Urban    14-16  \n",
      "1                          Poor Sleep          Urban    11-13  \n",
      "2                          Poor Sleep          Urban    17-19  \n",
      "3                          Poor Sleep          Urban    14-16  \n",
      "4                 Poor Sleep, Anxiety          Urban    11-13  \n",
      "...                               ...            ...      ...  \n",
      "9707                       Poor Sleep          Urban    17-19  \n",
      "9708                       Poor Sleep          Rural    17-19  \n",
      "9709  Poor Sleep, Eye Strain, Anxiety          Rural    14-16  \n",
      "9710                       Poor Sleep          Urban    17-19  \n",
      "9711                          Anxiety          Urban    14-16  \n",
      "\n",
      "[9712 rows x 10 columns]\n"
     ]
    }
   ],
   "source": [
    "cols = df.columns.tolist()\n",
    "cols.insert(cols.index('Age') + 1, cols.pop(cols.index('Age_Group')))\n",
    "df = df[cols]\n",
    "\n",
    "print(df)"
   ]
  },
  {
   "cell_type": "code",
   "execution_count": 23,
   "id": "fd2e0758-285a-4cb6-9f13-1309c9649dd4",
   "metadata": {},
   "outputs": [
    {
     "name": "stdout",
     "output_type": "stream",
     "text": [
      "Missing values per column:\n",
      "Age                                  0\n",
      "Age_Group                            0\n",
      "Gender                               0\n",
      "Avg_Daily_Screen_Time_hr             0\n",
      "Primary_Device                       0\n",
      "Exceeded_Recommended_Limit           0\n",
      "Educational_to_Recreational_Ratio    0\n",
      "Health_Impacts                       0\n",
      "Urban_or_Rural                       0\n",
      "Age_Band                             0\n",
      "dtype: int64\n"
     ]
    }
   ],
   "source": [
    "print(\"Missing values per column:\")\n",
    "print(df.isnull().sum())"
   ]
  },
  {
   "cell_type": "code",
   "execution_count": 24,
   "id": "558b3817-298e-41ae-941b-42d0332db932",
   "metadata": {},
   "outputs": [
    {
     "name": "stdout",
     "output_type": "stream",
     "text": [
      "Dataset saved successfully!\n"
     ]
    }
   ],
   "source": [
    "df.to_csv(\"Indian_Kids_Screen_Time_Updated.csv\", index=False)\n",
    "\n",
    "print(\"Dataset saved successfully!\")"
   ]
  },
  {
   "cell_type": "code",
   "execution_count": 25,
   "id": "f74801e4-6ecb-435f-9b5c-266af92c3b8a",
   "metadata": {},
   "outputs": [
    {
     "data": {
      "text/html": [
       "<div>\n",
       "<style scoped>\n",
       "    .dataframe tbody tr th:only-of-type {\n",
       "        vertical-align: middle;\n",
       "    }\n",
       "\n",
       "    .dataframe tbody tr th {\n",
       "        vertical-align: top;\n",
       "    }\n",
       "\n",
       "    .dataframe thead th {\n",
       "        text-align: right;\n",
       "    }\n",
       "</style>\n",
       "<table border=\"1\" class=\"dataframe\">\n",
       "  <thead>\n",
       "    <tr style=\"text-align: right;\">\n",
       "      <th></th>\n",
       "      <th>Age</th>\n",
       "      <th>Age_Group</th>\n",
       "      <th>Gender</th>\n",
       "      <th>Avg_Daily_Screen_Time_hr</th>\n",
       "      <th>Primary_Device</th>\n",
       "      <th>Exceeded_Recommended_Limit</th>\n",
       "      <th>Educational_to_Recreational_Ratio</th>\n",
       "      <th>Health_Impacts</th>\n",
       "      <th>Urban_or_Rural</th>\n",
       "      <th>Age_Band</th>\n",
       "    </tr>\n",
       "  </thead>\n",
       "  <tbody>\n",
       "    <tr>\n",
       "      <th>0</th>\n",
       "      <td>14</td>\n",
       "      <td>Teen</td>\n",
       "      <td>Male</td>\n",
       "      <td>3.99</td>\n",
       "      <td>Smartphone</td>\n",
       "      <td>True</td>\n",
       "      <td>0.42</td>\n",
       "      <td>Poor Sleep, Eye Strain</td>\n",
       "      <td>Urban</td>\n",
       "      <td>14-16</td>\n",
       "    </tr>\n",
       "    <tr>\n",
       "      <th>1</th>\n",
       "      <td>11</td>\n",
       "      <td>Child</td>\n",
       "      <td>Female</td>\n",
       "      <td>4.61</td>\n",
       "      <td>Laptop</td>\n",
       "      <td>True</td>\n",
       "      <td>0.30</td>\n",
       "      <td>Poor Sleep</td>\n",
       "      <td>Urban</td>\n",
       "      <td>11-13</td>\n",
       "    </tr>\n",
       "    <tr>\n",
       "      <th>2</th>\n",
       "      <td>18</td>\n",
       "      <td>Teen</td>\n",
       "      <td>Female</td>\n",
       "      <td>3.73</td>\n",
       "      <td>TV</td>\n",
       "      <td>True</td>\n",
       "      <td>0.32</td>\n",
       "      <td>Poor Sleep</td>\n",
       "      <td>Urban</td>\n",
       "      <td>17-19</td>\n",
       "    </tr>\n",
       "    <tr>\n",
       "      <th>3</th>\n",
       "      <td>15</td>\n",
       "      <td>Teen</td>\n",
       "      <td>Female</td>\n",
       "      <td>1.21</td>\n",
       "      <td>Laptop</td>\n",
       "      <td>False</td>\n",
       "      <td>0.39</td>\n",
       "      <td>Poor Sleep</td>\n",
       "      <td>Urban</td>\n",
       "      <td>14-16</td>\n",
       "    </tr>\n",
       "    <tr>\n",
       "      <th>4</th>\n",
       "      <td>12</td>\n",
       "      <td>Child</td>\n",
       "      <td>Female</td>\n",
       "      <td>5.89</td>\n",
       "      <td>Smartphone</td>\n",
       "      <td>True</td>\n",
       "      <td>0.49</td>\n",
       "      <td>Poor Sleep, Anxiety</td>\n",
       "      <td>Urban</td>\n",
       "      <td>11-13</td>\n",
       "    </tr>\n",
       "  </tbody>\n",
       "</table>\n",
       "</div>"
      ],
      "text/plain": [
       "   Age Age_Group  Gender  Avg_Daily_Screen_Time_hr Primary_Device  \\\n",
       "0   14      Teen    Male                      3.99     Smartphone   \n",
       "1   11     Child  Female                      4.61         Laptop   \n",
       "2   18      Teen  Female                      3.73             TV   \n",
       "3   15      Teen  Female                      1.21         Laptop   \n",
       "4   12     Child  Female                      5.89     Smartphone   \n",
       "\n",
       "   Exceeded_Recommended_Limit  Educational_to_Recreational_Ratio  \\\n",
       "0                        True                               0.42   \n",
       "1                        True                               0.30   \n",
       "2                        True                               0.32   \n",
       "3                       False                               0.39   \n",
       "4                        True                               0.49   \n",
       "\n",
       "           Health_Impacts Urban_or_Rural Age_Band  \n",
       "0  Poor Sleep, Eye Strain          Urban    14-16  \n",
       "1              Poor Sleep          Urban    11-13  \n",
       "2              Poor Sleep          Urban    17-19  \n",
       "3              Poor Sleep          Urban    14-16  \n",
       "4     Poor Sleep, Anxiety          Urban    11-13  "
      ]
     },
     "execution_count": 25,
     "metadata": {},
     "output_type": "execute_result"
    }
   ],
   "source": [
    "df.head()"
   ]
  },
  {
   "cell_type": "markdown",
   "id": "7fb14b25-2b00-41b8-93c0-bdf5cb0775f1",
   "metadata": {},
   "source": [
    "Handling Null Values:\n",
    "\n",
    "Different strategies: dropping rows/columns, mean/median/mode replacement, or forward/backward fill.\n",
    "\n",
    "Mode is especially useful for categorical data.\n",
    "\n",
    "Making Age Bands:\n",
    "\n",
    "Grouping continuous age into categories.\n",
    "\n",
    "Importance in simplifying analysis and improving model interpretability.\n",
    "\n",
    "\n",
    "Mode Imputation:\n",
    "\n",
    "Filling missing categorical values with the most frequent category of that age band.\n",
    "\n",
    "Helps maintain dataset size and consistency."
   ]
  },
  {
   "cell_type": "code",
   "execution_count": null,
   "id": "d5e041a5-999a-4a4a-9e99-50917779b876",
   "metadata": {},
   "outputs": [],
   "source": []
  }
 ],
 "metadata": {
  "kernelspec": {
   "display_name": "Python 3 (ipykernel)",
   "language": "python",
   "name": "python3"
  },
  "language_info": {
   "codemirror_mode": {
    "name": "ipython",
    "version": 3
   },
   "file_extension": ".py",
   "mimetype": "text/x-python",
   "name": "python",
   "nbconvert_exporter": "python",
   "pygments_lexer": "ipython3",
   "version": "3.12.7"
  }
 },
 "nbformat": 4,
 "nbformat_minor": 5
}
