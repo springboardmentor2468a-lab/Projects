{
 "cells": [
  {
   "cell_type": "markdown",
   "id": "aa3429c1",
   "metadata": {},
   "source": [
    "# 📱 Final Insights — Indian Kids Screen Time Analysis\n",
    "\n",
    "Prepared: 2025-11-01 09:59 UTC\n",
    "\n",
    "This notebook documents the Power BI dashboard `Final Dashboard.pbix` and provides a concise,\n",
    "internship-ready design summary, visuals mapping, DAX examples, color palette, and layout guidance.\n",
    "\n"
   ]
  },
  {
   "cell_type": "markdown",
   "id": "8bf7f380",
   "metadata": {},
   "source": [
    "## 🎯 Objective\n",
    "\n",
    "Summarize the existing visuals in `Final Dashboard.pbix` and provide clear documentation for submission.\n",
    "\n"
   ]
  },
  {
   "cell_type": "markdown",
   "id": "e63ee0a6",
   "metadata": {},
   "source": [
    "## 📊 Visual Layers Summary\n",
    "\n",
    "| Position | Visual Type | Fields Used | X-Axis | Y-Axis | Legend / Size | Purpose / Insight | Recommended Colors |\n",
    "|---|---|---|---|---|---|---|---|\n",
    "| Top Left | Clustered Column | Age_Group, Gender, Avg_Daily_Screen_Time_hr | Age_Group | Avg_Daily_Screen_Time_hr | Gender | Compare screen time by age and gender | Blue / Pink |\n",
    "| Top Right | Pie Chart | Device_Category | — | Count of Device_Category | — | Device usage proportion | Sky Blue / Orange / Green |\n",
    "| Middle Left | Stacked Column | Urban_or_Rural, Health_Impact_Category, Avg_Daily_Screen_Time_hr | Urban_or_Rural | Avg_Daily_Screen_TIME_hr | Health_Impact_Category | Urban vs Rural screen impact | Light Blue / Teal |\n",
    "| Middle Right | Scatter Chart | awareness, Health_Impact_Category, Avg_Daily_Screen_TIME_hr, Age_Group | awareness | Health_Impact_Category | Size: Avg_Daily_Screen_TIME_hr; Color: Age_Group | Awareness vs health impact | Yellow / Green / Blue |\n",
    "| Bottom Left | Clustered Bar | Gender, Exceeded_Recommended_Limit, Avg_Daily_Screen_TIME_hr | Gender | Avg_Daily_Screen_TIME_hr | Exceeded_Recommended_Limit | Gender comparison of exceeding limits | Purple / Blue |\n",
    "| Bottom Right | Donut Chart | Primary_Device, Health_Impact_Category | — | Count of Primary_Device | Health_Impact_Category | Device and health link | Orange / Grey / Cyan |\n",
    "| Top Center | KPI Cards | Avg_Daily_Screen_TIME_hr, Exceeded_Recommended_Limit, awareness | — | — | — | Avg Screen Time, Exceed Rate, Awareness % | Blue Shades |\n",
    "\n"
   ]
  },
  {
   "cell_type": "markdown",
   "id": "7143d04f",
   "metadata": {},
   "source": [
    "## 🎨 Color Palette & Styling\n",
    "\n",
    "- **Primary Blue:** `#2563EB` — main accents & KPI values\n",
    "- **Sky Blue:** `#8FD3FE` — light contrasts\n",
    "- **Teal:** `#0D9488` — awareness/device visuals\n",
    "- **Amber:** `#F59E0B` — warnings/highlight\n",
    "- **Red:** `#EF4444` — exceeded / negative impacts\n",
    "- **Gray:** `#6B7280` — labels and gridlines\n",
    "\n",
    "**Fonts:** Segoe UI or Calibri. Keep sizes consistent (Titles 20–28pt, Axis 10–12pt).\n",
    "\n"
   ]
  },
  {
   "cell_type": "markdown",
   "id": "4786d6f1",
   "metadata": {},
   "source": [
    "## 🧮 Key DAX Measures (Examples)\n",
    "\n",
    "ExceedRate (percentage of kids exceeding recommended screen time):\n",
    "\n",
    "```DAX\n",
    "ExceedRate = DIVIDE(\n",
    "  COUNTROWS(\n",
    "    FILTER('Indian_Kids_Screen_Time', 'Indian_Kids_Screen_TIME'[Exceeded_Recommended_Limit] = \"Yes\")\n",
    "  ),\n",
    "  COUNTROWS('Indian_Kids_Screen_Time')\n",
    ")\n",
    "```\n",
    "\n",
    "AvgScreenTime measure:\n",
    "\n",
    "```DAX\n",
    "AvgScreenTime = AVERAGE('Indian_Kids_Screen_Time'[Avg_Daily_Screen_TIME_hr])\n",
    "```\n",
    "\n"
   ]
  },
  {
   "cell_type": "markdown",
   "id": "473d948c",
   "metadata": {},
   "source": [
    "## 🗺️ Dashboard Layout (Suggested)\n",
    "\n",
    "Top Row: Title + KPI Cards (Avg Time | % Exceeded | Awareness %)\n",
    "\n",
    "Row 2: Clustered Column (Age vs Gender) | Device Pie\n",
    "\n",
    "Row 3: Stacked Column (Urban vs Rural) | Scatter (Awareness vs Health)\n",
    "\n",
    "Row 4: Clustered Bar (Gender vs Exceed) | Donut (Device vs Health)\n",
    "\n",
    "Right Side: Slicers — Age_Group, Gender, Urban_or_Rural, Device_Category, awareness\n",
    "\n"
   ]
  },
  {
   "cell_type": "markdown",
   "id": "3767751b",
   "metadata": {},
   "source": [
    "## 💡 Key Insights (From Analysis)\n",
    "\n",
    "1. Older age groups show higher average screen time.\n",
    "2. Urban children tend to have higher screen time and more reported health impacts.\n",
    "3. Smartphones are the most used primary device.\n",
    "4. Higher awareness correlates with lower health impacts.\n",
    "5. A significant percentage of children exceed recommended screen time limits.\n",
    "\n"
   ]
  },
  {
   "cell_type": "markdown",
   "id": "33e2454e",
   "metadata": {},
   "source": [
    "----\n",
    "\n",
    "This notebook (`Final Insights.ipynb`) documents the `Final Dashboard.pbix` visuals and provides guidance for presentation and submission. \n",
    "If you'd like, I can also generate PNG mockups of the dashboard layout or export the DAX measures as a separate file.\n"
   ]
  }
 ],
 "metadata": {},
 "nbformat": 4,
 "nbformat_minor": 5
}
