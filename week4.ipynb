{
 "cells": [
  {
   "cell_type": "markdown",
   "id": "1e7ee7b1",
   "metadata": {},
   "source": [
    "# Indian Kids Screen Time Analysis\n",
    "**Author:** Subhash Kadiyam\n",
    "\n",
    "**Deliverables:**\n",
    "- Compare device mix and activity categories across demographics\n",
    "- Visualize weekday vs. weekend differences and time patterns (see note)\n",
    "- Minimum 8 visuals + observations on peak usage cohorts\n",
    "\n",
    "---"
   ]
  },
  {
   "cell_type": "code",
   "execution_count": null,
   "id": "a81d1d59",
   "metadata": {},
   "outputs": [],
   "source": [
    "# Cell: Imports and settings\n",
    "import numpy as np\n",
    "import pandas as pd\n",
    "import matplotlib.pyplot as plt\n",
    "%matplotlib inline\n",
    "\n",
    "RANDOM_STATE = 42\n"
   ]
  },
  {
   "cell_type": "code",
   "execution_count": null,
   "id": "2f13f7a1",
   "metadata": {},
   "outputs": [],
   "source": [
    "# Cell: Load dataset\n",
    "DATA_PATH = r\"/mnt/data/Indian_Kids_Screen_Time.csv\"\n",
    "df = pd.read_csv(DATA_PATH)\n",
    "print(\"Shape:\", df.shape)\n",
    "df.head()"
   ]
  },
  {
   "cell_type": "code",
   "execution_count": null,
   "id": "de2f8762",
   "metadata": {},
   "outputs": [],
   "source": [
    "# Cell: Basic info, dtypes and missing values\n",
    "df.info()\n",
    "print('\\nMissing values per column:')\n",
    "print(df.isnull().sum())"
   ]
  },
  {
   "cell_type": "code",
   "execution_count": null,
   "id": "3555988a",
   "metadata": {},
   "outputs": [],
   "source": [
    "# Cell: Unique values for key categorical columns\n",
    "for col in ['Primary_Device', 'Gender', 'Urban_or_Rural', 'Health_Impacts']:\n",
    "    if col in df.columns:\n",
    "        print(col, '->', df[col].nunique(), 'unique values')\n",
    "        print(df[col].value_counts().head(10))\n",
    "        print('---')"
   ]
  },
  {
   "cell_type": "code",
   "execution_count": null,
   "id": "4bc88dc4",
   "metadata": {},
   "outputs": [],
   "source": [
    "# Cell: Derived columns: Age groups and Activity Category (from Educational_to_Recreational_Ratio)\n",
    "# Age groups: 0-4,5-7,8-10,11-13,14+ (adapt if needed)\n",
    "if 'Age' in df.columns:\n",
    "    bins = [0,4,7,10,13,100]\n",
    "    labels = ['0-4','5-7','8-10','11-13','14+']\n",
    "    df['Age_Group'] = pd.cut(df['Age'], bins=bins, labels=labels, right=True)\n",
    "else:\n",
    "    df['Age_Group'] = 'Unknown'\n",
    "\n",
    "# Activity category from Educational_to_Recreational_Ratio:\n",
    "# Higher ratio -> more educational. We'll bin into Mostly Recreational, Mixed, Mostly Educational.\n",
    "if 'Educational_to_Recreational_Ratio' in df.columns:\n",
    "    df['Activity_Category'] = pd.cut(df['Educational_to_Recreational_Ratio'],\n",
    "                                     bins=[-1, 0.8, 1.2, 100],\n",
    "                                     labels=['Mostly Recreational','Mixed','Mostly Educational'])\n",
    "else:\n",
    "    df['Activity_Category'] = 'Unknown'\n",
    "\n",
    "df[['Age','Age_Group','Educational_to_Recreational_Ratio','Activity_Category']].head()"
   ]
  },
  {
   "cell_type": "code",
   "execution_count": null,
   "id": "9e1da611",
   "metadata": {},
   "outputs": [],
   "source": [
    "# Cell: Plot 1 - Device mix (overall)\n",
    "plt.figure(figsize=(6,4))\n",
    "if 'Primary_Device' in df.columns:\n",
    "    counts = df['Primary_Device'].value_counts()\n",
    "    counts.plot(kind='bar')\n",
    "    plt.title('Device mix (overall)')\n",
    "    plt.ylabel('Count')\n",
    "    plt.xlabel('Primary Device')\n",
    "    plt.tight_layout()\n",
    "else:\n",
    "    print('Primary_Device column not found')\n"
   ]
  },
  {
   "cell_type": "code",
   "execution_count": null,
   "id": "b7a12ca0",
   "metadata": {},
   "outputs": [],
   "source": [
    "# Cell: Plot 2 - Device mix by Gender\n",
    "plt.figure(figsize=(8,4))\n",
    "if ('Primary_Device' in df.columns) and ('Gender' in df.columns):\n",
    "    pivot = df.pivot_table(index='Primary_Device', columns='Gender', aggfunc='size', fill_value=0)\n",
    "    pivot.plot(kind='bar', stacked=False, figsize=(8,4))\n",
    "    plt.title('Device mix by Gender')\n",
    "    plt.ylabel('Count')\n",
    "    plt.xlabel('Primary Device')\n",
    "    plt.tight_layout()\n",
    "else:\n",
    "    print('Required columns not found')\n"
   ]
  },
  {
   "cell_type": "code",
   "execution_count": null,
   "id": "13fe442b",
   "metadata": {},
   "outputs": [],
   "source": [
    "# Cell: Plot 3 - Device mix by Age Group\n",
    "plt.figure(figsize=(8,4))\n",
    "if ('Primary_Device' in df.columns) and ('Age_Group' in df.columns):\n",
    "    pivot = df.pivot_table(index='Age_Group', columns='Primary_Device', aggfunc='size', fill_value=0)\n",
    "    pivot.plot(kind='bar', stacked=True, figsize=(8,4))\n",
    "    plt.title('Device mix by Age Group')\n",
    "    plt.ylabel('Count')\n",
    "    plt.xlabel('Age Group')\n",
    "    plt.tight_layout()\n",
    "else:\n",
    "    print('Required columns not found')\n"
   ]
  },
  {
   "cell_type": "code",
   "execution_count": null,
   "id": "5f695ce9",
   "metadata": {},
   "outputs": [],
   "source": [
    "# Cell: Plot 4 - Device mix by Urban_or_Rural\n",
    "plt.figure(figsize=(8,4))\n",
    "if ('Primary_Device' in df.columns) and ('Urban_or_Rural' in df.columns):\n",
    "    pivot = df.pivot_table(index='Urban_or_Rural', columns='Primary_Device', aggfunc='size', fill_value=0)\n",
    "    pivot.plot(kind='bar', stacked=True, figsize=(8,4))\n",
    "    plt.title('Device mix by Urban/Rural')\n",
    "    plt.ylabel('Count')\n",
    "    plt.xlabel('Urban or Rural')\n",
    "    plt.tight_layout()\n",
    "else:\n",
    "    print('Required columns not found')\n"
   ]
  },
  {
   "cell_type": "code",
   "execution_count": null,
   "id": "bfa2d0e6",
   "metadata": {},
   "outputs": [],
   "source": [
    "# Cell: Plot 5 - Activity category (overall)\n",
    "plt.figure(figsize=(6,4))\n",
    "if 'Activity_Category' in df.columns:\n",
    "    counts = df['Activity_Category'].value_counts()\n",
    "    counts.plot(kind='bar')\n",
    "    plt.title('Activity category (derived from Educational_to_Recreational_Ratio)')\n",
    "    plt.ylabel('Count')\n",
    "    plt.xlabel('Activity Category')\n",
    "    plt.tight_layout()\n",
    "else:\n",
    "    print('Activity_Category not available')\n"
   ]
  },
  {
   "cell_type": "code",
   "execution_count": null,
   "id": "a7610439",
   "metadata": {},
   "outputs": [],
   "source": [
    "# Cell: Plot 6 - Activity category by Gender\n",
    "plt.figure(figsize=(8,4))\n",
    "if ('Activity_Category' in df.columns) and ('Gender' in df.columns):\n",
    "    pivot = df.pivot_table(index='Activity_Category', columns='Gender', aggfunc='size', fill_value=0)\n",
    "    pivot.plot(kind='bar', figsize=(8,4))\n",
    "    plt.title('Activity category by Gender')\n",
    "    plt.ylabel('Count')\n",
    "    plt.xlabel('Activity Category')\n",
    "    plt.tight_layout()\n",
    "else:\n",
    "    print('Required columns not found')\n"
   ]
  },
  {
   "cell_type": "code",
   "execution_count": null,
   "id": "7afabaac",
   "metadata": {},
   "outputs": [],
   "source": [
    "# Cell: Plot 7 - Avg Daily Screen Time by Age Group\n",
    "plt.figure(figsize=(8,4))\n",
    "if ('Avg_Daily_Screen_Time_hr' in df.columns) and ('Age_Group' in df.columns):\n",
    "    agg = df.groupby('Age_Group')['Avg_Daily_Screen_Time_hr'].mean()\n",
    "    agg.plot(kind='bar')\n",
    "    plt.title('Average Daily Screen Time (hours) by Age Group')\n",
    "    plt.ylabel('Avg Daily Screen Time (hr)')\n",
    "    plt.xlabel('Age Group')\n",
    "    plt.tight_layout()\n",
    "else:\n",
    "    print('Required columns not found')\n"
   ]
  },
  {
   "cell_type": "code",
   "execution_count": null,
   "id": "d3368a09",
   "metadata": {},
   "outputs": [],
   "source": [
    "# Cell: Plot 8 - Avg Daily Screen Time by Primary Device\n",
    "plt.figure(figsize=(8,4))\n",
    "if ('Avg_Daily_Screen_Time_hr' in df.columns) and ('Primary_Device' in df.columns):\n",
    "    agg = df.groupby('Primary_Device')['Avg_Daily_Screen_Time_hr'].mean().sort_values(ascending=False)\n",
    "    agg.plot(kind='bar')\n",
    "    plt.title('Average Daily Screen Time (hours) by Primary Device')\n",
    "    plt.ylabel('Avg Daily Screen Time (hr)')\n",
    "    plt.xlabel('Primary Device')\n",
    "    plt.tight_layout()\n",
    "else:\n",
    "    print('Required columns not found')\n"
   ]
  },
  {
   "cell_type": "code",
   "execution_count": null,
   "id": "fe7500bb",
   "metadata": {},
   "outputs": [],
   "source": [
    "# Cell: Peak usage cohorts (summary)\n",
    "if 'Avg_Daily_Screen_Time_hr' in df.columns:\n",
    "    print('Top Age Groups by avg screen time:')\n",
    "    if 'Age_Group' in df.columns:\n",
    "        print(df.groupby('Age_Group')['Avg_Daily_Screen_Time_hr'].mean().sort_values(ascending=False))\n",
    "    print('\\nTop Devices by avg screen time:')\n",
    "    if 'Primary_Device' in df.columns:\n",
    "        print(df.groupby('Primary_Device')['Avg_Daily_Screen_Time_hr'].mean().sort_values(ascending=False))\n",
    "    print('\\nTop by Gender:')\n",
    "    if 'Gender' in df.columns:\n",
    "        print(df.groupby('Gender')['Avg_Daily_Screen_Time_hr'].mean().sort_values(ascending=False))\n",
    "else:\n",
    "    print('Avg_Daily_Screen_Time_hr not found')\n"
   ]
  },
  {
   "cell_type": "markdown",
   "id": "4a7fec77",
   "metadata": {},
   "source": [
    "## Weekday vs Weekend differences & time patterns\n",
    "\n",
    "**Important:** The current dataset does *not* contain session-level timestamps or a column indicating day-of-week / weekday vs weekend. That means we cannot directly compute weekday vs weekend patterns or hourly time-of-day usage from this dataset.\n",
    "\n",
    "If you have a session-level file with a timestamp (for example columns like `session_start`, `session_end`, or `day_of_week`), paste it in and run the template cell below. The template shows how to create `day_of_week` and `day_type` and aggregate by hour."
   ]
  },
  {
   "cell_type": "code",
   "execution_count": null,
   "id": "4a0ce4be",
   "metadata": {},
   "outputs": [],
   "source": [
    "# Cell: Template for weekday vs weekend analysis (run if you have session-level timestamps)\n",
    "# Example assumes you have a dataframe `sessions` with columns: 'user_id', 'session_start' (datetime), 'duration_min' (numeric)\n",
    "# and optionally 'Primary_Device' or 'Activity_Category'.\n",
    "# The template shows how to create 'day_of_week' and 'day_type' and then aggregate.\n",
    "\n",
    "# sessions['session_start'] = pd.to_datetime(sessions['session_start'])\n",
    "# sessions['day_of_week'] = sessions['session_start'].dt.day_name()\n",
    "# sessions['hour'] = sessions['session_start'].dt.hour\n",
    "# sessions['day_type'] = sessions['session_start'].dt.weekday.apply(lambda x: 'Weekend' if x>=5 else 'Weekday')\n",
    "# agg = sessions.groupby(['hour','day_type'])['duration_min'].mean().unstack()\n",
    "# agg.plot(kind='bar')\n",
    "# plt.title('Average session duration: Weekday vs Weekend by hour')\n",
    "# plt.show()\n",
    "\n",
    "print('This is a template. Replace `sessions` with your session-level DataFrame and uncomment code to run.')"
   ]
  },
  {
   "cell_type": "code",
   "execution_count": null,
   "id": "1aeb193d",
   "metadata": {},
   "outputs": [],
   "source": [
    "# Cell: Auto-detect day columns and run weekday/weekend analysis if available\n",
    "possible_cols = [c for c in df.columns if c.lower() in ['daytype','day_type','day_of_week','dayofweek','day','weekday']]\n",
    "print('Detected potential day columns:', possible_cols)\n",
    "if len(possible_cols) > 0:\n",
    "    col = possible_cols[0]\n",
    "    print('Using column:', col)\n",
    "    try:\n",
    "        s = df[col].astype(str)\n",
    "        if s.str.lower().isin(['weekday','weekend']).any():\n",
    "            agg = df.groupby(col)['Avg_Daily_Screen_Time_hr'].mean()\n",
    "            print('Average screen time by', col)\n",
    "            print(agg)\n",
    "        else:\n",
    "            print('Column found but does not contain explicit Weekday/Weekend values. Values sample:')\n",
    "            print(s.unique()[:20])\n",
    "    except Exception as e:\n",
    "        print('Could not analyze day column:', e)\n",
    "else:\n",
    "    print('No day-of-week / weekday columns found in dataset. Cannot compute weekday vs weekend differences.')"
   ]
  },
  {
   "cell_type": "markdown",
   "id": "5ae13c44",
   "metadata": {},
   "source": [
    "## Observations & Peak Usage Cohorts\n",
    "\n",
    "- (Auto-computed summaries are printed in the previous cell.)\n",
    "\n",
    "- **Sample observations you can include:**\n",
    "  - Which age groups have the highest average screen time\n",
    "  - Which device(s) correspond to highest average screen time\n",
    "  - Differences by gender or urban/rural status\n",
    "  - Recommendations or next steps (e.g., collect session-level timestamps for weekday/weekend analysis)\n",
    "\n"
   ]
  }
 ],
 "metadata": {},
 "nbformat": 4,
 "nbformat_minor": 5
}
