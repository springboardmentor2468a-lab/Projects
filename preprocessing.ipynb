{
  "nbformat": 4,
  "nbformat_minor": 0,
  "metadata": {
    "colab": {
      "provenance": []
    },
    "kernelspec": {
      "name": "python3",
      "display_name": "Python 3"
    },
    "language_info": {
      "name": "python"
    }
  },
  "cells": [
    {
      "cell_type": "code",
      "execution_count": 23,
      "metadata": {
        "id": "CaVwGXY6qFED"
      },
      "outputs": [],
      "source": [
        "import pandas as pd\n",
        "\n",
        "import seaborn as sns\n"
      ]
    },
    {
      "cell_type": "code",
      "source": [
        "import pandas as pd\n",
        "\n",
        "\n",
        "df = pd.read_csv(\"Indian_Kids_Screen_Time.csv\")\n",
        "\n",
        "# Check if there are any missing values\n",
        "print(df.isnull().values.any())\n",
        "\n",
        "# Or count missing values in each column\n",
        "print(df.isnull().sum())\n"
      ],
      "metadata": {
        "id": "I0bEWLQKqQxj",
        "colab": {
          "base_uri": "https://localhost:8080/"
        },
        "outputId": "2f3752e8-bae2-40c1-f570-56ffa9ece09d"
      },
      "execution_count": 24,
      "outputs": [
        {
          "output_type": "stream",
          "name": "stdout",
          "text": [
            "True\n",
            "Age                                     0\n",
            "Gender                                  0\n",
            "Avg_Daily_Screen_Time_hr                0\n",
            "Primary_Device                          0\n",
            "Exceeded_Recommended_Limit              0\n",
            "Educational_to_Recreational_Ratio       0\n",
            "Health_Impacts                       3218\n",
            "Urban_or_Rural                          0\n",
            "dtype: int64\n"
          ]
        }
      ]
    },
    {
      "cell_type": "code",
      "source": [
        "\n",
        "\n",
        "df = pd.read_csv(\"Indian_Kids_Screen_Time.csv\")\n",
        "\n",
        "# Check for duplicate rows\n",
        "duplicates = df.duplicated()\n",
        "\n",
        "print(duplicates)"
      ],
      "metadata": {
        "id": "Hnu0BeVsrC4I",
        "colab": {
          "base_uri": "https://localhost:8080/"
        },
        "outputId": "43c72fd4-4cdc-47c5-c59e-273d45d6de9c"
      },
      "execution_count": 25,
      "outputs": [
        {
          "output_type": "stream",
          "name": "stdout",
          "text": [
            "0       False\n",
            "1       False\n",
            "2       False\n",
            "3       False\n",
            "4       False\n",
            "        ...  \n",
            "9707    False\n",
            "9708    False\n",
            "9709    False\n",
            "9710    False\n",
            "9711    False\n",
            "Length: 9712, dtype: bool\n"
          ]
        }
      ]
    },
    {
      "cell_type": "code",
      "source": [
        "print(\"First 5 rows:\")\n",
        "print(df.head())"
      ],
      "metadata": {
        "id": "sTL8Oa9klOKF",
        "colab": {
          "base_uri": "https://localhost:8080/"
        },
        "outputId": "c34f567e-6ffa-42d1-e433-97fa0bd52eb7"
      },
      "execution_count": 26,
      "outputs": [
        {
          "output_type": "stream",
          "name": "stdout",
          "text": [
            "First 5 rows:\n",
            "   Age  Gender  Avg_Daily_Screen_Time_hr Primary_Device  \\\n",
            "0   14    Male                      3.99     Smartphone   \n",
            "1   11  Female                      4.61         Laptop   \n",
            "2   18  Female                      3.73             TV   \n",
            "3   15  Female                      1.21         Laptop   \n",
            "4   12  Female                      5.89     Smartphone   \n",
            "\n",
            "   Exceeded_Recommended_Limit  Educational_to_Recreational_Ratio  \\\n",
            "0                        True                               0.42   \n",
            "1                        True                               0.30   \n",
            "2                        True                               0.32   \n",
            "3                       False                               0.39   \n",
            "4                        True                               0.49   \n",
            "\n",
            "           Health_Impacts Urban_or_Rural  \n",
            "0  Poor Sleep, Eye Strain          Urban  \n",
            "1              Poor Sleep          Urban  \n",
            "2              Poor Sleep          Urban  \n",
            "3                     NaN          Urban  \n",
            "4     Poor Sleep, Anxiety          Urban  \n"
          ]
        }
      ]
    },
    {
      "cell_type": "code",
      "source": [
        "print(df.dtypes)\n",
        "\n"
      ],
      "metadata": {
        "colab": {
          "base_uri": "https://localhost:8080/"
        },
        "id": "dqqjqy2o_M3M",
        "outputId": "9472d632-5c23-453a-c933-6963719f38b1"
      },
      "execution_count": 27,
      "outputs": [
        {
          "output_type": "stream",
          "name": "stdout",
          "text": [
            "Age                                    int64\n",
            "Gender                                object\n",
            "Avg_Daily_Screen_Time_hr             float64\n",
            "Primary_Device                        object\n",
            "Exceeded_Recommended_Limit              bool\n",
            "Educational_to_Recreational_Ratio    float64\n",
            "Health_Impacts                        object\n",
            "Urban_or_Rural                        object\n",
            "dtype: object\n"
          ]
        }
      ]
    },
    {
      "cell_type": "code",
      "source": [
        "\n",
        "\n",
        "# information about the dataframe\n",
        "df.info()\n"
      ],
      "metadata": {
        "colab": {
          "base_uri": "https://localhost:8080/"
        },
        "id": "JcGYDDVfARDZ",
        "outputId": "1d8bf382-4a31-441e-9954-73c9273bed29"
      },
      "execution_count": 28,
      "outputs": [
        {
          "output_type": "stream",
          "name": "stdout",
          "text": [
            "<class 'pandas.core.frame.DataFrame'>\n",
            "RangeIndex: 9712 entries, 0 to 9711\n",
            "Data columns (total 8 columns):\n",
            " #   Column                             Non-Null Count  Dtype  \n",
            "---  ------                             --------------  -----  \n",
            " 0   Age                                9712 non-null   int64  \n",
            " 1   Gender                             9712 non-null   object \n",
            " 2   Avg_Daily_Screen_Time_hr           9712 non-null   float64\n",
            " 3   Primary_Device                     9712 non-null   object \n",
            " 4   Exceeded_Recommended_Limit         9712 non-null   bool   \n",
            " 5   Educational_to_Recreational_Ratio  9712 non-null   float64\n",
            " 6   Health_Impacts                     6494 non-null   object \n",
            " 7   Urban_or_Rural                     9712 non-null   object \n",
            "dtypes: bool(1), float64(2), int64(1), object(4)\n",
            "memory usage: 540.7+ KB\n"
          ]
        }
      ]
    },
    {
      "cell_type": "code",
      "source": [
        "\n",
        "\n",
        "# missing value anywhere in the dataset\n",
        "print(df.isnull().values.any())\n",
        "print(df.isnull().sum())\n",
        "\n"
      ],
      "metadata": {
        "colab": {
          "base_uri": "https://localhost:8080/"
        },
        "id": "TopciixHAtyS",
        "outputId": "cf55bcb9-de5c-4db9-e1f1-326cf3d39946"
      },
      "execution_count": 29,
      "outputs": [
        {
          "output_type": "stream",
          "name": "stdout",
          "text": [
            "True\n",
            "Age                                     0\n",
            "Gender                                  0\n",
            "Avg_Daily_Screen_Time_hr                0\n",
            "Primary_Device                          0\n",
            "Exceeded_Recommended_Limit              0\n",
            "Educational_to_Recreational_Ratio       0\n",
            "Health_Impacts                       3218\n",
            "Urban_or_Rural                          0\n",
            "dtype: int64\n"
          ]
        }
      ]
    },
    {
      "cell_type": "code",
      "source": [
        "print(df[df.isnull().any(axis=1)])\n"
      ],
      "metadata": {
        "colab": {
          "base_uri": "https://localhost:8080/"
        },
        "id": "0AwET2GhA5LM",
        "outputId": "2e53e472-007b-4da9-a570-0065b8553dda"
      },
      "execution_count": 30,
      "outputs": [
        {
          "output_type": "stream",
          "name": "stdout",
          "text": [
            "      Age  Gender  Avg_Daily_Screen_Time_hr Primary_Device  \\\n",
            "3      15  Female                      1.21         Laptop   \n",
            "6      17    Male                      2.97             TV   \n",
            "7      10    Male                      2.74             TV   \n",
            "19      9  Female                      0.00             TV   \n",
            "22      9  Female                      1.63         Tablet   \n",
            "...   ...     ...                       ...            ...   \n",
            "9695   12  Female                      2.69     Smartphone   \n",
            "9697   16  Female                      4.74     Smartphone   \n",
            "9699   10  Female                      2.85             TV   \n",
            "9701   16    Male                      6.08     Smartphone   \n",
            "9706    8    Male                      4.84     Smartphone   \n",
            "\n",
            "      Exceeded_Recommended_Limit  Educational_to_Recreational_Ratio  \\\n",
            "3                          False                               0.39   \n",
            "6                          False                               0.48   \n",
            "7                           True                               0.54   \n",
            "19                         False                               0.42   \n",
            "22                         False                               0.58   \n",
            "...                          ...                                ...   \n",
            "9695                       False                               0.48   \n",
            "9697                        True                               0.41   \n",
            "9699                        True                               0.49   \n",
            "9701                        True                               0.38   \n",
            "9706                        True                               0.55   \n",
            "\n",
            "     Health_Impacts Urban_or_Rural  \n",
            "3               NaN          Urban  \n",
            "6               NaN          Rural  \n",
            "7               NaN          Urban  \n",
            "19              NaN          Urban  \n",
            "22              NaN          Urban  \n",
            "...             ...            ...  \n",
            "9695            NaN          Urban  \n",
            "9697            NaN          Rural  \n",
            "9699            NaN          Urban  \n",
            "9701            NaN          Urban  \n",
            "9706            NaN          Rural  \n",
            "\n",
            "[3218 rows x 8 columns]\n"
          ]
        }
      ]
    },
    {
      "cell_type": "code",
      "source": [
        "correlation = df['Age'].corr(df['Avg_Daily_Screen_Time_hr'])\n",
        "\n",
        "print(\"Correlation between Age and Avg_Daily_Screen_Time_hr:\", correlation)\n",
        "\n",
        "\n"
      ],
      "metadata": {
        "colab": {
          "base_uri": "https://localhost:8080/"
        },
        "id": "lZ1E9gEYBSMc",
        "outputId": "ae3ab272-4903-4e26-efd5-52411fd71160"
      },
      "execution_count": 31,
      "outputs": [
        {
          "output_type": "stream",
          "name": "stdout",
          "text": [
            "Correlation between Age and Avg_Daily_Screen_Time_hr: 0.1183276608281807\n"
          ]
        }
      ]
    },
    {
      "cell_type": "markdown",
      "source": [
        "# New Section"
      ],
      "metadata": {
        "id": "YiBtr84gqXh2"
      }
    }
  ]
}