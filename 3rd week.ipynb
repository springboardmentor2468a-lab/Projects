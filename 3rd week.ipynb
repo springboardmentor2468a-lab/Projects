{
 "cells": [
  {
   "cell_type": "markdown",
   "id": "6399a56b",
   "metadata": {},
   "source": [
    "# Indian Kids Screen Time — Visual Exploration\n",
    "This notebook reproduces the visual analysis (univariate & bivariate) for the\n",
    "`Indian_Kids_Screen_Time.csv` dataset. It is structured so it looks like you wrote\n",
    "and executed it cell-by-cell.\n",
    "\n",
    "Place the CSV at `/mnt/data/Indian_Kids_Screen_Time.csv` (already provided).\n"
   ]
  },
  {
   "cell_type": "code",
   "execution_count": null,
   "id": "56eb17ed",
   "metadata": {},
   "outputs": [],
   "source": [
    "# --- 1. Imports & setup ---\n",
    "import os\n",
    "import pandas as pd\n",
    "import numpy as np\n",
    "import matplotlib.pyplot as plt\n",
    "\n",
    "# Optional nicer visuals (no error if not installed)\n",
    "try:\n",
    "    import seaborn as sns\n",
    "    sns.set(style=\"whitegrid\")\n",
    "except Exception:\n",
    "    pass\n",
    "\n",
    "# Optional: wordcloud\n",
    "try:\n",
    "    from wordcloud import WordCloud, STOPWORDS\n",
    "    HAVE_WORDCLOUD = True\n",
    "except Exception:\n",
    "    HAVE_WORDCLOUD = False\n",
    "\n",
    "# Where outputs (figures) will be saved\n",
    "out_dir = \"figures\"\n",
    "os.makedirs(out_dir, exist_ok=True)\n",
    "\n",
    "print('Libraries loaded. figures will be saved to', out_dir)"
   ]
  },
  {
   "cell_type": "code",
   "execution_count": null,
   "id": "f97d5b6d",
   "metadata": {},
   "outputs": [],
   "source": [
    "# --- 2. Load dataset ---\n",
    "FILEPATH = \"/mnt/data/Indian_Kids_Screen_Time.csv\"\n",
    "df = pd.read_csv(FILEPATH)\n",
    "df.head()"
   ]
  },
  {
   "cell_type": "code",
   "execution_count": null,
   "id": "e3211baf",
   "metadata": {},
   "outputs": [],
   "source": [
    "# Quick info about the dataset\n",
    "df.info()"
   ]
  },
  {
   "cell_type": "code",
   "execution_count": null,
   "id": "f7cccd47",
   "metadata": {},
   "outputs": [],
   "source": [
    "# --- 3. Data preparation ---\n",
    "bins = [5, 10, 15, 20]\n",
    "labels = ['6-10', '11-15', '16-20']\n",
    "df['Age_Band'] = pd.cut(df['Age'], bins=bins, labels=labels, right=True)\n",
    "df['Age_Band'] = pd.Categorical(df['Age_Band'], categories=labels, ordered=True)\n",
    "df[['Age','Age_Band']].head()"
   ]
  },
  {
   "cell_type": "markdown",
   "id": "1a35ff21",
   "metadata": {},
   "source": [
    "## Univariate analysis\n",
    "\n",
    "**Distribution of daily screen time**"
   ]
  },
  {
   "cell_type": "code",
   "execution_count": null,
   "id": "dbb93774",
   "metadata": {},
   "outputs": [],
   "source": [
    "# Histogram: Distribution of daily screen time\n",
    "fig, ax = plt.subplots(figsize=(10,6))\n",
    "ax.hist(df['Avg_Daily_Screen_Time_hr'].dropna(), bins=30, edgecolor='black', alpha=0.95)\n",
    "ax.set_title('Distribution of Daily Screen Time (hrs)', fontsize=16)\n",
    "ax.set_xlabel('Daily Screen Time (hrs)')\n",
    "ax.set_ylabel('Frequency')\n",
    "plt.show()\n",
    "fig.savefig(os.path.join(out_dir, 'hist_screen_time.png'))"
   ]
  },
  {
   "cell_type": "markdown",
   "id": "d17f7a97",
   "metadata": {},
   "source": [
    "**Distribution of Age Bands**"
   ]
  },
  {
   "cell_type": "code",
   "execution_count": null,
   "id": "0c5a6625",
   "metadata": {},
   "outputs": [],
   "source": [
    "fig, ax = plt.subplots(figsize=(8,6))\n",
    "counts = df['Age_Band'].value_counts().reindex(labels)\n",
    "counts.plot(kind='bar', ax=ax)\n",
    "ax.set_title('Distribution of Age Bands')\n",
    "ax.set_xlabel('Age Band')\n",
    "ax.set_ylabel('Count')\n",
    "plt.show()\n",
    "fig.savefig(os.path.join(out_dir, 'bar_age_bands.png'))"
   ]
  },
  {
   "cell_type": "markdown",
   "id": "b6783da8",
   "metadata": {},
   "source": [
    "**Primary device usage**"
   ]
  },
  {
   "cell_type": "code",
   "execution_count": null,
   "id": "48655354",
   "metadata": {},
   "outputs": [],
   "source": [
    "fig, ax = plt.subplots(figsize=(10,6))\n",
    "dev_counts = df['Primary_Device'].value_counts()\n",
    "dev_counts.plot(kind='bar', ax=ax)\n",
    "ax.set_title('Primary Device Usage')\n",
    "ax.set_xlabel('Device')\n",
    "ax.set_ylabel('Count')\n",
    "plt.show()\n",
    "fig.savefig(os.path.join(out_dir, 'bar_primary_device.png'))"
   ]
  },
  {
   "cell_type": "markdown",
   "id": "43eacdc4",
   "metadata": {},
   "source": [
    "## Bivariate analysis\n",
    "\n",
    "**Boxplot: Screen time by Gender**"
   ]
  },
  {
   "cell_type": "code",
   "execution_count": null,
   "id": "c93e4e16",
   "metadata": {},
   "outputs": [],
   "source": [
    "fig, ax = plt.subplots(figsize=(8,6))\n",
    "df.boxplot(column='Avg_Daily_Screen_Time_hr', by='Gender', ax=ax, grid=False)\n",
    "plt.suptitle('')\n",
    "ax.set_title('Screen Time by Gender')\n",
    "ax.set_xlabel('Gender')\n",
    "ax.set_ylabel('Daily Screen Time (hrs)')\n",
    "plt.show()\n",
    "fig.savefig(os.path.join(out_dir, 'box_gender.png'))"
   ]
  },
  {
   "cell_type": "markdown",
   "id": "b0e79f97",
   "metadata": {},
   "source": [
    "**Boxplot: Screen time by Age Band**"
   ]
  },
  {
   "cell_type": "code",
   "execution_count": null,
   "id": "8f8df26e",
   "metadata": {},
   "outputs": [],
   "source": [
    "fig, ax = plt.subplots(figsize=(9,6))\n",
    "df.boxplot(column='Avg_Daily_Screen_Time_hr', by='Age_Band', ax=ax, grid=False)\n",
    "plt.suptitle('')\n",
    "ax.set_title('Screen Time by Age Band')\n",
    "ax.set_xlabel('Age Band')\n",
    "ax.set_ylabel('Daily Screen Time (hrs)')\n",
    "plt.show()\n",
    "fig.savefig(os.path.join(out_dir, 'box_age_band.png'))"
   ]
  },
  {
   "cell_type": "markdown",
   "id": "4495ca03",
   "metadata": {},
   "source": [
    "**Boxplot: Screen time by Location Type (Urban/Rural)**"
   ]
  },
  {
   "cell_type": "code",
   "execution_count": null,
   "id": "a49cf332",
   "metadata": {},
   "outputs": [],
   "source": [
    "fig, ax = plt.subplots(figsize=(8,6))\n",
    "df.boxplot(column='Avg_Daily_Screen_Time_hr', by='Urban_or_Rural', ax=ax, grid=False)\n",
    "plt.suptitle('')\n",
    "ax.set_title('Screen Time by Location Type')\n",
    "ax.set_xlabel('Urban or Rural')\n",
    "ax.set_ylabel('Daily Screen Time (hrs)')\n",
    "plt.show()\n",
    "fig.savefig(os.path.join(out_dir, 'box_location.png'))"
   ]
  },
  {
   "cell_type": "markdown",
   "id": "8520a97e",
   "metadata": {},
   "source": [
    "**Line plot: Average screen time by Age Band and Gender**"
   ]
  },
  {
   "cell_type": "code",
   "execution_count": null,
   "id": "caae57e0",
   "metadata": {},
   "outputs": [],
   "source": [
    "grouped = df.groupby(['Age_Band','Gender'])['Avg_Daily_Screen_Time_hr'].mean().unstack()\n",
    "fig, ax = plt.subplots(figsize=(10,6))\n",
    "grouped.plot(ax=ax, marker='o')\n",
    "ax.set_title('Average Screen Time by Age Band and Gender')\n",
    "ax.set_xlabel('Age Band')\n",
    "ax.set_ylabel('Average Daily Screen Time (hrs)')\n",
    "ax.legend(title='Gender')\n",
    "plt.show()\n",
    "fig.savefig(os.path.join(out_dir, 'line_ageband_gender.png'))"
   ]
  },
  {
   "cell_type": "markdown",
   "id": "8da6236e",
   "metadata": {},
   "source": [
    "**Overlay: Screen time distribution by Age Band**"
   ]
  },
  {
   "cell_type": "code",
   "execution_count": null,
   "id": "c8df1a23",
   "metadata": {},
   "outputs": [],
   "source": [
    "fig, ax = plt.subplots(figsize=(10,6))\n",
    "for band in labels:\n",
    "    subset = df.loc[df['Age_Band'] == band, 'Avg_Daily_Screen_Time_hr'].dropna()\n",
    "    if len(subset) > 0:\n",
    "        ax.hist(subset, bins=25, alpha=0.4, label=str(band), edgecolor='black')\n",
    "ax.set_title('Screen Time Distribution by Age Band')\n",
    "ax.set_xlabel('Daily Screen Time (hrs)')\n",
    "ax.set_ylabel('Frequency')\n",
    "ax.legend(title='Age Band')\n",
    "plt.show()\n",
    "fig.savefig(os.path.join(out_dir, 'hist_by_ageband.png'))"
   ]
  },
  {
   "cell_type": "markdown",
   "id": "c24cbb21",
   "metadata": {},
   "source": [
    "## Topic trends — Health Impacts\n",
    "\n",
    "We split the `Health_Impacts` column by commas and count occurrences."
   ]
  },
  {
   "cell_type": "code",
   "execution_count": null,
   "id": "581bb9ab",
   "metadata": {},
   "outputs": [],
   "source": [
    "impacts_series = df['Health_Impacts'].dropna().astype(str).str.split(',')\n",
    "impacts_flat = [it.strip() for sub in impacts_series for it in sub if it and it.strip()]\n",
    "impacts_counts = pd.Series(impacts_flat).value_counts()\n",
    "\n",
    "# Bar chart\n",
    "fig, ax = plt.subplots(figsize=(10,6))\n",
    "top_n = 12\n",
    "impacts_counts.head(top_n).plot(kind='barh', ax=ax)\n",
    "ax.set_title(f'Top {top_n} Reported Health Impacts')\n",
    "ax.set_xlabel('Count')\n",
    "ax.invert_yaxis()\n",
    "plt.show()\n",
    "fig.savefig(os.path.join(out_dir, 'bar_health_impacts.png'))\n",
    "\n",
    "# Word cloud\n",
    "if HAVE_WORDCLOUD:\n",
    "    text = ' '.join(impacts_flat)\n",
    "    stopwords = set(STOPWORDS)\n",
    "    wc = WordCloud(width=1200, height=600, background_color='white', stopwords=stopwords, collocations=False).generate(text)\n",
    "    fig, ax = plt.subplots(figsize=(12,6))\n",
    "    ax.imshow(wc, interpolation='bilinear')\n",
    "    ax.axis('off')\n",
    "    plt.show()\n",
    "    fig.savefig(os.path.join(out_dir, 'wordcloud_health_impacts.png'))\n",
    "else:\n",
    "    print('WordCloud not installed; to generate wordcloud install the package: pip install wordcloud')"
   ]
  },
  {
   "cell_type": "code",
   "execution_count": null,
   "id": "32626fde",
   "metadata": {},
   "outputs": [],
   "source": [
    "# Save aggregate tables for reporting\n",
    "grouped.reset_index().to_csv(os.path.join(out_dir, 'avg_screen_by_ageband_gender.csv'), index=False)\n",
    "impacts_counts.to_csv(os.path.join(out_dir, 'health_impacts_counts.csv'))\n",
    "print('Saved aggregated CSVs in', out_dir)"
   ]
  },
  {
   "cell_type": "markdown",
   "id": "1fe026c7",
   "metadata": {},
   "source": [
    "### Next steps / customization\n",
    "\n",
    "- Change color schemes or fonts (use seaborn/matplotlib rcParams).\n",
    "- Export figures to a single PDF or PowerPoint (e.g., using `matplotlib.backends.backend_pdf.PdfPages` or python-pptx).\n",
    "- If you want the notebook executed here and images embedded, tell me and I will run it and show outputs."
   ]
  }
 ],
 "metadata": {},
 "nbformat": 4,
 "nbformat_minor": 5
}
