{
 "cells": [
  {
   "cell_type": "markdown",
   "id": "6f7338c5-e36e-4849-b5bc-7922c5461d0a",
   "metadata": {},
   "source": [
    "## Import Libraries"
   ]
  },
  {
   "cell_type": "code",
   "execution_count": 3,
   "id": "a8708209-df97-4a45-b3f5-73c2e38345ff",
   "metadata": {},
   "outputs": [],
   "source": [
    "import numpy as np\n",
    "import pandas as pd\n",
    "import matplotlib.pyplot as plt\n",
    "import seaborn as sns"
   ]
  },
  {
   "cell_type": "markdown",
   "id": "c01a3b68-ddfa-48dc-9d2d-fb1e07de24d5",
   "metadata": {},
   "source": [
    "## Load Dataset"
   ]
  },
  {
   "cell_type": "code",
   "execution_count": 4,
   "id": "e7af18d5-96db-4b3b-8893-b85124a8ba60",
   "metadata": {},
   "outputs": [
    {
     "data": {
      "text/html": [
       "<div>\n",
       "<style scoped>\n",
       "    .dataframe tbody tr th:only-of-type {\n",
       "        vertical-align: middle;\n",
       "    }\n",
       "\n",
       "    .dataframe tbody tr th {\n",
       "        vertical-align: top;\n",
       "    }\n",
       "\n",
       "    .dataframe thead th {\n",
       "        text-align: right;\n",
       "    }\n",
       "</style>\n",
       "<table border=\"1\" class=\"dataframe\">\n",
       "  <thead>\n",
       "    <tr style=\"text-align: right;\">\n",
       "      <th></th>\n",
       "      <th>Age</th>\n",
       "      <th>Gender</th>\n",
       "      <th>Avg_Daily_Screen_Time_hr</th>\n",
       "      <th>Primary_Device</th>\n",
       "      <th>Exceeded_Recommended_Limit</th>\n",
       "      <th>Educational_to_Recreational_Ratio</th>\n",
       "      <th>Health_Impacts</th>\n",
       "      <th>Urban_or_Rural</th>\n",
       "    </tr>\n",
       "  </thead>\n",
       "  <tbody>\n",
       "    <tr>\n",
       "      <th>0</th>\n",
       "      <td>14</td>\n",
       "      <td>Male</td>\n",
       "      <td>3.99</td>\n",
       "      <td>Smartphone</td>\n",
       "      <td>True</td>\n",
       "      <td>0.42</td>\n",
       "      <td>Poor Sleep, Eye Strain</td>\n",
       "      <td>Urban</td>\n",
       "    </tr>\n",
       "    <tr>\n",
       "      <th>1</th>\n",
       "      <td>11</td>\n",
       "      <td>Female</td>\n",
       "      <td>4.61</td>\n",
       "      <td>Laptop</td>\n",
       "      <td>True</td>\n",
       "      <td>0.30</td>\n",
       "      <td>Poor Sleep</td>\n",
       "      <td>Urban</td>\n",
       "    </tr>\n",
       "    <tr>\n",
       "      <th>2</th>\n",
       "      <td>18</td>\n",
       "      <td>Female</td>\n",
       "      <td>3.73</td>\n",
       "      <td>TV</td>\n",
       "      <td>True</td>\n",
       "      <td>0.32</td>\n",
       "      <td>Poor Sleep</td>\n",
       "      <td>Urban</td>\n",
       "    </tr>\n",
       "    <tr>\n",
       "      <th>3</th>\n",
       "      <td>15</td>\n",
       "      <td>Female</td>\n",
       "      <td>1.21</td>\n",
       "      <td>Laptop</td>\n",
       "      <td>False</td>\n",
       "      <td>0.39</td>\n",
       "      <td>NaN</td>\n",
       "      <td>Urban</td>\n",
       "    </tr>\n",
       "    <tr>\n",
       "      <th>4</th>\n",
       "      <td>12</td>\n",
       "      <td>Female</td>\n",
       "      <td>5.89</td>\n",
       "      <td>Smartphone</td>\n",
       "      <td>True</td>\n",
       "      <td>0.49</td>\n",
       "      <td>Poor Sleep, Anxiety</td>\n",
       "      <td>Urban</td>\n",
       "    </tr>\n",
       "    <tr>\n",
       "      <th>5</th>\n",
       "      <td>14</td>\n",
       "      <td>Female</td>\n",
       "      <td>4.88</td>\n",
       "      <td>Smartphone</td>\n",
       "      <td>True</td>\n",
       "      <td>0.44</td>\n",
       "      <td>Poor Sleep</td>\n",
       "      <td>Urban</td>\n",
       "    </tr>\n",
       "    <tr>\n",
       "      <th>6</th>\n",
       "      <td>17</td>\n",
       "      <td>Male</td>\n",
       "      <td>2.97</td>\n",
       "      <td>TV</td>\n",
       "      <td>False</td>\n",
       "      <td>0.48</td>\n",
       "      <td>NaN</td>\n",
       "      <td>Rural</td>\n",
       "    </tr>\n",
       "    <tr>\n",
       "      <th>7</th>\n",
       "      <td>10</td>\n",
       "      <td>Male</td>\n",
       "      <td>2.74</td>\n",
       "      <td>TV</td>\n",
       "      <td>True</td>\n",
       "      <td>0.54</td>\n",
       "      <td>NaN</td>\n",
       "      <td>Urban</td>\n",
       "    </tr>\n",
       "    <tr>\n",
       "      <th>8</th>\n",
       "      <td>14</td>\n",
       "      <td>Male</td>\n",
       "      <td>4.61</td>\n",
       "      <td>Laptop</td>\n",
       "      <td>True</td>\n",
       "      <td>0.36</td>\n",
       "      <td>Poor Sleep, Anxiety</td>\n",
       "      <td>Rural</td>\n",
       "    </tr>\n",
       "    <tr>\n",
       "      <th>9</th>\n",
       "      <td>18</td>\n",
       "      <td>Male</td>\n",
       "      <td>3.24</td>\n",
       "      <td>Tablet</td>\n",
       "      <td>True</td>\n",
       "      <td>0.48</td>\n",
       "      <td>Poor Sleep, Obesity Risk</td>\n",
       "      <td>Urban</td>\n",
       "    </tr>\n",
       "  </tbody>\n",
       "</table>\n",
       "</div>"
      ],
      "text/plain": [
       "   Age  Gender  Avg_Daily_Screen_Time_hr Primary_Device  \\\n",
       "0   14    Male                      3.99     Smartphone   \n",
       "1   11  Female                      4.61         Laptop   \n",
       "2   18  Female                      3.73             TV   \n",
       "3   15  Female                      1.21         Laptop   \n",
       "4   12  Female                      5.89     Smartphone   \n",
       "5   14  Female                      4.88     Smartphone   \n",
       "6   17    Male                      2.97             TV   \n",
       "7   10    Male                      2.74             TV   \n",
       "8   14    Male                      4.61         Laptop   \n",
       "9   18    Male                      3.24         Tablet   \n",
       "\n",
       "   Exceeded_Recommended_Limit  Educational_to_Recreational_Ratio  \\\n",
       "0                        True                               0.42   \n",
       "1                        True                               0.30   \n",
       "2                        True                               0.32   \n",
       "3                       False                               0.39   \n",
       "4                        True                               0.49   \n",
       "5                        True                               0.44   \n",
       "6                       False                               0.48   \n",
       "7                        True                               0.54   \n",
       "8                        True                               0.36   \n",
       "9                        True                               0.48   \n",
       "\n",
       "             Health_Impacts Urban_or_Rural  \n",
       "0    Poor Sleep, Eye Strain          Urban  \n",
       "1                Poor Sleep          Urban  \n",
       "2                Poor Sleep          Urban  \n",
       "3                       NaN          Urban  \n",
       "4       Poor Sleep, Anxiety          Urban  \n",
       "5                Poor Sleep          Urban  \n",
       "6                       NaN          Rural  \n",
       "7                       NaN          Urban  \n",
       "8       Poor Sleep, Anxiety          Rural  \n",
       "9  Poor Sleep, Obesity Risk          Urban  "
      ]
     },
     "execution_count": 4,
     "metadata": {},
     "output_type": "execute_result"
    }
   ],
   "source": [
    "df = pd.read_csv(\"Indian_Kids_Screen_Time.CSV\")\n",
    "df.head(10)"
   ]
  },
  {
   "cell_type": "markdown",
   "id": "f1ed9439-6548-4dd0-b1ca-c834c36bf7af",
   "metadata": {},
   "source": [
    "## Handle Missing Values and Inconsistent Categories"
   ]
  },
  {
   "cell_type": "code",
   "execution_count": 6,
   "id": "97f1d154-1458-48cd-85e6-47b894a2e1e1",
   "metadata": {},
   "outputs": [
    {
     "name": "stdout",
     "output_type": "stream",
     "text": [
      "Missing values before handling:\n",
      " Age                                     0\n",
      "Gender                                  0\n",
      "Avg_Daily_Screen_Time_hr                0\n",
      "Primary_Device                          0\n",
      "Exceeded_Recommended_Limit              0\n",
      "Educational_to_Recreational_Ratio       0\n",
      "Health_Impacts                       3218\n",
      "Urban_or_Rural                          0\n",
      "dtype: int64 \n",
      "\n"
     ]
    }
   ],
   "source": [
    "# Check missing values\n",
    "print(\"Missing values before handling:\\n\", df.isnull().sum(), \"\\n\")"
   ]
  },
  {
   "cell_type": "code",
   "execution_count": 22,
   "id": "74eb3250-d532-4b7c-ab0d-c7d175ca1232",
   "metadata": {},
   "outputs": [
    {
     "name": "stdout",
     "output_type": "stream",
     "text": [
      "After cleaning:\n",
      "    Age  Gender  Avg_Daily_Screen_Time_hr Primary_Device  \\\n",
      "0   14    Male                      3.99     Smartphone   \n",
      "1   11  Female                      4.61         Laptop   \n",
      "2   18  Female                      3.73             Tv   \n",
      "3   15  Female                      1.21         Laptop   \n",
      "4   12  Female                      5.89     Smartphone   \n",
      "\n",
      "   Exceeded_Recommended_Limit  Educational_to_Recreational_Ratio  \\\n",
      "0                        True                               0.42   \n",
      "1                        True                               0.30   \n",
      "2                        True                               0.32   \n",
      "3                       False                               0.39   \n",
      "4                        True                               0.49   \n",
      "\n",
      "           Health_Impacts Urban_or_Rural   Age_Band  Educational_Share  \\\n",
      "0  Poor Sleep, Eye Strain          Urban  13-15 yrs               0.42   \n",
      "1              Poor Sleep          Urban  10-12 yrs               0.30   \n",
      "2              Poor Sleep          Urban  16-18 yrs               0.32   \n",
      "3              Poor Sleep          Urban  13-15 yrs               0.39   \n",
      "4     Poor Sleep, Anxiety          Urban  10-12 yrs               0.49   \n",
      "\n",
      "   Recreational_Share  \n",
      "0                0.58  \n",
      "1                0.70  \n",
      "2                0.68  \n",
      "3                0.61  \n",
      "4                0.51  \n",
      "Missing values per column after cleaning:\n",
      " Age                                  0\n",
      "Gender                               0\n",
      "Avg_Daily_Screen_Time_hr             0\n",
      "Primary_Device                       0\n",
      "Exceeded_Recommended_Limit           0\n",
      "Educational_to_Recreational_Ratio    0\n",
      "Health_Impacts                       0\n",
      "Urban_or_Rural                       0\n",
      "Age_Band                             0\n",
      "Educational_Share                    0\n",
      "Recreational_Share                   0\n",
      "dtype: int64\n"
     ]
    }
   ],
   "source": [
    "# Option 1: Fill missing numerical values with mean\n",
    "num_cols = df.select_dtypes(include=['int64', 'float64']).columns\n",
    "for col in num_cols:\n",
    "    df[col] = df[col].fillna(df[col].mean())\n",
    "\n",
    "# Option 2: Fill missing categorical values with mode\n",
    "cat_cols = df.select_dtypes(include=['object']).columns\n",
    "for col in cat_cols:\n",
    "    df[col] = df[col].fillna(df[col].mode()[0])\n",
    "\n",
    "# 2. Handling Inconsistent Categories (e.g., different spelling/case)\n",
    "# Example: Standardize 'Yes'/'yes'/'YES' into 'Yes'\n",
    "for col in cat_cols:\n",
    "    df[col] = df[col].str.strip()  # Removes Leading and Trailing spaces \n",
    "\n",
    "# Optional: Verify changes\n",
    "print(\"After cleaning:\\n\", df.head())"
   ]
  },
  {
   "cell_type": "code",
   "execution_count": 23,
   "id": "940a21db-fa69-4e84-a3ce-08f4db47c3c8",
   "metadata": {},
   "outputs": [
    {
     "name": "stdout",
     "output_type": "stream",
     "text": [
      "Missing values after handling:\n",
      " Age                                  0\n",
      "Gender                               0\n",
      "Avg_Daily_Screen_Time_hr             0\n",
      "Primary_Device                       0\n",
      "Exceeded_Recommended_Limit           0\n",
      "Educational_to_Recreational_Ratio    0\n",
      "Health_Impacts                       0\n",
      "Urban_or_Rural                       0\n",
      "Age_Band                             0\n",
      "Educational_Share                    0\n",
      "Recreational_Share                   0\n",
      "dtype: int64 \n",
      "\n"
     ]
    }
   ],
   "source": [
    "print(\"Missing values after handling:\\n\", df.isnull().sum(), \"\\n\")"
   ]
  },
  {
   "cell_type": "markdown",
   "id": "268de2f6-6b8b-4208-8c0e-2e46da473422",
   "metadata": {},
   "source": [
    "## Create derived fields"
   ]
  },
  {
   "cell_type": "code",
   "execution_count": 11,
   "id": "d962c976-cf70-46fa-baf2-af39bf6a87bf",
   "metadata": {},
   "outputs": [
    {
     "data": {
      "text/html": [
       "<div>\n",
       "<style scoped>\n",
       "    .dataframe tbody tr th:only-of-type {\n",
       "        vertical-align: middle;\n",
       "    }\n",
       "\n",
       "    .dataframe tbody tr th {\n",
       "        vertical-align: top;\n",
       "    }\n",
       "\n",
       "    .dataframe thead th {\n",
       "        text-align: right;\n",
       "    }\n",
       "</style>\n",
       "<table border=\"1\" class=\"dataframe\">\n",
       "  <thead>\n",
       "    <tr style=\"text-align: right;\">\n",
       "      <th></th>\n",
       "      <th>Age</th>\n",
       "      <th>Gender</th>\n",
       "      <th>Avg_Daily_Screen_Time_hr</th>\n",
       "      <th>Primary_Device</th>\n",
       "      <th>Exceeded_Recommended_Limit</th>\n",
       "      <th>Educational_to_Recreational_Ratio</th>\n",
       "      <th>Health_Impacts</th>\n",
       "      <th>Urban_or_Rural</th>\n",
       "      <th>Age_Band</th>\n",
       "    </tr>\n",
       "  </thead>\n",
       "  <tbody>\n",
       "    <tr>\n",
       "      <th>0</th>\n",
       "      <td>14</td>\n",
       "      <td>Male</td>\n",
       "      <td>3.99</td>\n",
       "      <td>Smartphone</td>\n",
       "      <td>True</td>\n",
       "      <td>0.42</td>\n",
       "      <td>Poor Sleep, Eye Strain</td>\n",
       "      <td>Urban</td>\n",
       "      <td>13-15 yrs</td>\n",
       "    </tr>\n",
       "    <tr>\n",
       "      <th>1</th>\n",
       "      <td>11</td>\n",
       "      <td>Female</td>\n",
       "      <td>4.61</td>\n",
       "      <td>Laptop</td>\n",
       "      <td>True</td>\n",
       "      <td>0.30</td>\n",
       "      <td>Poor Sleep</td>\n",
       "      <td>Urban</td>\n",
       "      <td>10-12 yrs</td>\n",
       "    </tr>\n",
       "    <tr>\n",
       "      <th>2</th>\n",
       "      <td>18</td>\n",
       "      <td>Female</td>\n",
       "      <td>3.73</td>\n",
       "      <td>TV</td>\n",
       "      <td>True</td>\n",
       "      <td>0.32</td>\n",
       "      <td>Poor Sleep</td>\n",
       "      <td>Urban</td>\n",
       "      <td>16-18 yrs</td>\n",
       "    </tr>\n",
       "    <tr>\n",
       "      <th>3</th>\n",
       "      <td>15</td>\n",
       "      <td>Female</td>\n",
       "      <td>1.21</td>\n",
       "      <td>Laptop</td>\n",
       "      <td>False</td>\n",
       "      <td>0.39</td>\n",
       "      <td>Poor Sleep</td>\n",
       "      <td>Urban</td>\n",
       "      <td>13-15 yrs</td>\n",
       "    </tr>\n",
       "    <tr>\n",
       "      <th>4</th>\n",
       "      <td>12</td>\n",
       "      <td>Female</td>\n",
       "      <td>5.89</td>\n",
       "      <td>Smartphone</td>\n",
       "      <td>True</td>\n",
       "      <td>0.49</td>\n",
       "      <td>Poor Sleep, Anxiety</td>\n",
       "      <td>Urban</td>\n",
       "      <td>10-12 yrs</td>\n",
       "    </tr>\n",
       "    <tr>\n",
       "      <th>5</th>\n",
       "      <td>14</td>\n",
       "      <td>Female</td>\n",
       "      <td>4.88</td>\n",
       "      <td>Smartphone</td>\n",
       "      <td>True</td>\n",
       "      <td>0.44</td>\n",
       "      <td>Poor Sleep</td>\n",
       "      <td>Urban</td>\n",
       "      <td>13-15 yrs</td>\n",
       "    </tr>\n",
       "    <tr>\n",
       "      <th>6</th>\n",
       "      <td>17</td>\n",
       "      <td>Male</td>\n",
       "      <td>2.97</td>\n",
       "      <td>TV</td>\n",
       "      <td>False</td>\n",
       "      <td>0.48</td>\n",
       "      <td>Poor Sleep</td>\n",
       "      <td>Rural</td>\n",
       "      <td>16-18 yrs</td>\n",
       "    </tr>\n",
       "    <tr>\n",
       "      <th>7</th>\n",
       "      <td>10</td>\n",
       "      <td>Male</td>\n",
       "      <td>2.74</td>\n",
       "      <td>TV</td>\n",
       "      <td>True</td>\n",
       "      <td>0.54</td>\n",
       "      <td>Poor Sleep</td>\n",
       "      <td>Urban</td>\n",
       "      <td>10-12 yrs</td>\n",
       "    </tr>\n",
       "    <tr>\n",
       "      <th>8</th>\n",
       "      <td>14</td>\n",
       "      <td>Male</td>\n",
       "      <td>4.61</td>\n",
       "      <td>Laptop</td>\n",
       "      <td>True</td>\n",
       "      <td>0.36</td>\n",
       "      <td>Poor Sleep, Anxiety</td>\n",
       "      <td>Rural</td>\n",
       "      <td>13-15 yrs</td>\n",
       "    </tr>\n",
       "    <tr>\n",
       "      <th>9</th>\n",
       "      <td>18</td>\n",
       "      <td>Male</td>\n",
       "      <td>3.24</td>\n",
       "      <td>Tablet</td>\n",
       "      <td>True</td>\n",
       "      <td>0.48</td>\n",
       "      <td>Poor Sleep, Obesity Risk</td>\n",
       "      <td>Urban</td>\n",
       "      <td>16-18 yrs</td>\n",
       "    </tr>\n",
       "  </tbody>\n",
       "</table>\n",
       "</div>"
      ],
      "text/plain": [
       "   Age  Gender  Avg_Daily_Screen_Time_hr Primary_Device  \\\n",
       "0   14    Male                      3.99     Smartphone   \n",
       "1   11  Female                      4.61         Laptop   \n",
       "2   18  Female                      3.73             TV   \n",
       "3   15  Female                      1.21         Laptop   \n",
       "4   12  Female                      5.89     Smartphone   \n",
       "5   14  Female                      4.88     Smartphone   \n",
       "6   17    Male                      2.97             TV   \n",
       "7   10    Male                      2.74             TV   \n",
       "8   14    Male                      4.61         Laptop   \n",
       "9   18    Male                      3.24         Tablet   \n",
       "\n",
       "   Exceeded_Recommended_Limit  Educational_to_Recreational_Ratio  \\\n",
       "0                        True                               0.42   \n",
       "1                        True                               0.30   \n",
       "2                        True                               0.32   \n",
       "3                       False                               0.39   \n",
       "4                        True                               0.49   \n",
       "5                        True                               0.44   \n",
       "6                       False                               0.48   \n",
       "7                        True                               0.54   \n",
       "8                        True                               0.36   \n",
       "9                        True                               0.48   \n",
       "\n",
       "             Health_Impacts Urban_or_Rural   Age_Band  \n",
       "0    Poor Sleep, Eye Strain          Urban  13-15 yrs  \n",
       "1                Poor Sleep          Urban  10-12 yrs  \n",
       "2                Poor Sleep          Urban  16-18 yrs  \n",
       "3                Poor Sleep          Urban  13-15 yrs  \n",
       "4       Poor Sleep, Anxiety          Urban  10-12 yrs  \n",
       "5                Poor Sleep          Urban  13-15 yrs  \n",
       "6                Poor Sleep          Rural  16-18 yrs  \n",
       "7                Poor Sleep          Urban  10-12 yrs  \n",
       "8       Poor Sleep, Anxiety          Rural  13-15 yrs  \n",
       "9  Poor Sleep, Obesity Risk          Urban  16-18 yrs  "
      ]
     },
     "execution_count": 11,
     "metadata": {},
     "output_type": "execute_result"
    }
   ],
   "source": [
    "#Create Age Bands\n",
    "age_bins = [5, 9, 12, 15, 18]   # ranges for grouping\n",
    "age_labels = [\"5-9 yrs\", \"10-12 yrs\", \"13-15 yrs\", \"16-18 yrs\"]\n",
    "\n",
    "df[\"Age_Band\"] = pd.cut(df[\"Age\"], bins=age_bins, labels=age_labels, right=True)\n",
    "df.head(10)"
   ]
  },
  {
   "cell_type": "code",
   "execution_count": 13,
   "id": "ebda71b0-418c-4e93-b637-0b642426b666",
   "metadata": {},
   "outputs": [
    {
     "data": {
      "image/png": "[encoded data removed]",
      "text/plain": [
       "<Figure size 600x400 with 1 Axes>"
      ]
     },
     "metadata": {},
     "output_type": "display_data"
    }
   ],
   "source": [
    "#Age Band Distribution\n",
    "\n",
    "plt.figure(figsize=(6,4))\n",
    "sns.countplot(x=\"Age_Band\", data=df, hue=\"Age_Band\", palette=\"Set2\", legend=False)\n",
    "plt.title(\"Distribution of Kids by Age Band\")\n",
    "plt.xlabel(\"Age Band\")\n",
    "plt.ylabel(\"Count of Kids\")\n",
    "plt.show()"
   ]
  },
  {
   "cell_type": "code",
   "execution_count": 14,
   "id": "22862a3f-6b82-485f-b074-c11b3fffe091",
   "metadata": {},
   "outputs": [
    {
     "name": "stdout",
     "output_type": "stream",
     "text": [
      "Device Share(% of kids using each device):\n",
      " Primary_Device\n",
      "Smartphone    47.034596\n",
      "TV            25.607496\n",
      "Laptop        14.754942\n",
      "Tablet        12.602965\n",
      "Name: proportion, dtype: float64 \n",
      "\n"
     ]
    }
   ],
   "source": [
    "#Device Share (Proportion of each device used)\n",
    "# Count device usage and calculate share\n",
    "device_share = df[\"Primary_Device\"].value_counts(normalize=True) * 100\n",
    "print(\"Device Share(% of kids using each device):\\n\", device_share, \"\\n\")"
   ]
  },
  {
   "cell_type": "code",
   "execution_count": 15,
   "id": "83b8c967-23ba-470c-a98c-cdf91c6c203a",
   "metadata": {},
   "outputs": [
    {
     "data": {
      "image/png": "[encoded data removed]",
      "text/plain": [
       "<Figure size 600x600 with 1 Axes>"
      ]
     },
     "metadata": {},
     "output_type": "display_data"
    }
   ],
   "source": [
    "#Device Share\n",
    "plt.figure(figsize=(6,6))\n",
    "device_share.plot(kind=\"pie\", autopct=\"%.1f%%\", startangle=90, colormap=\"Set3\")\n",
    "plt.title(\"Device Usage Share\")\n",
    "plt.ylabel(\"\")\n",
    "plt.show()"
   ]
  },
  {
   "cell_type": "code",
   "execution_count": 16,
   "id": "959d9c36-e21c-4db7-9f4c-c15bdcfbb360",
   "metadata": {},
   "outputs": [
    {
     "name": "stdout",
     "output_type": "stream",
     "text": [
      "Sample with Activity Shares:\n",
      "    Age  Gender  Avg_Daily_Screen_Time_hr Primary_Device  \\\n",
      "0   14    Male                      3.99     Smartphone   \n",
      "1   11  Female                      4.61         Laptop   \n",
      "2   18  Female                      3.73             TV   \n",
      "3   15  Female                      1.21         Laptop   \n",
      "4   12  Female                      5.89     Smartphone   \n",
      "\n",
      "   Exceeded_Recommended_Limit  Educational_to_Recreational_Ratio  \\\n",
      "0                        True                               0.42   \n",
      "1                        True                               0.30   \n",
      "2                        True                               0.32   \n",
      "3                       False                               0.39   \n",
      "4                        True                               0.49   \n",
      "\n",
      "           Health_Impacts Urban_or_Rural   Age_Band  Educational_Share  \\\n",
      "0  Poor Sleep, Eye Strain          Urban  13-15 yrs               0.42   \n",
      "1              Poor Sleep          Urban  10-12 yrs               0.30   \n",
      "2              Poor Sleep          Urban  16-18 yrs               0.32   \n",
      "3              Poor Sleep          Urban  13-15 yrs               0.39   \n",
      "4     Poor Sleep, Anxiety          Urban  10-12 yrs               0.49   \n",
      "\n",
      "   Recreational_Share  \n",
      "0                0.58  \n",
      "1                0.70  \n",
      "2                0.68  \n",
      "3                0.61  \n",
      "4                0.51   \n",
      "\n"
     ]
    }
   ],
   "source": [
    "# Activity Share\n",
    "df[\"Educational_Share\"] = df[\"Educational_to_Recreational_Ratio\"]\n",
    "df[\"Recreational_Share\"] = 1 - df[\"Educational_to_Recreational_Ratio\"]\n",
    "print(\"Sample with Activity Shares:\\n\", df.head(), \"\\n\")"
   ]
  },
  {
   "cell_type": "code",
   "execution_count": 36,
   "id": "721dab03-e6ef-42f1-b02a-8bc5ccedfcf1",
   "metadata": {},
   "outputs": [
    {
     "data": {
      "image/png": "[encoded data removed]",
      "text/plain": [
       "<Figure size 600x600 with 1 Axes>"
      ]
     },
     "metadata": {},
     "output_type": "display_data"
    }
   ],
   "source": [
    "# Educational vs Recreational Share\n",
    "avg_activity_share = {\n",
    "    \"Educational\": df[\"Educational_Share\"].mean() * 100,\n",
    "    \"Recreational\": df[\"Recreational_Share\"].mean() * 100\n",
    "}\n",
    "\n",
    "plt.figure(figsize=(6,6))\n",
    "plt.pie(avg_activity_share.values(), labels=avg_activity_share.keys(),\n",
    "        autopct=\"%.1f%%\", startangle=90, colors=[\"#4CAF50\", \"#FF7043\"])\n",
    "plt.title(\"Average Screen Time Split: Educational vs Recreational\")\n",
    "plt.show()"
   ]
  },
  {
   "cell_type": "markdown",
   "id": "d04c90e1-c50c-49f2-b8a1-ed8fc737bae4",
   "metadata": {},
   "source": [
    "## Save Preprocessed data for reuse"
   ]
  },
  {
   "cell_type": "code",
   "execution_count": 18,
   "id": "89d0ee2b-8373-4561-be71-588e8825697f",
   "metadata": {},
   "outputs": [
    {
     "name": "stdout",
     "output_type": "stream",
     "text": [
      "Preprocessed dataset saved successfully!\n"
     ]
    }
   ],
   "source": [
    "# Save Preprocessed Dataset\n",
    "df.to_csv(\"Indian_Kids_Screen_Time_Preprocessed.csv\", index=False)\n",
    "\n",
    "print(\"Preprocessed dataset saved successfully!\")"
   ]
  },
  {
   "cell_type": "markdown",
   "id": "687e5f49-f850-4069-9d4d-c0637467c690",
   "metadata": {},
   "source": [
    "## OBSERVATIONS"
   ]
  },
  {
   "cell_type": "code",
   "execution_count": null,
   "id": "5cc1a4ec-93dc-47b6-8f80-bd1bd29eb309",
   "metadata": {},
   "outputs": [],
   "source": [
    "1. Fisrt load the dataset.\n",
    "2. Check for null values in each column. I found 3218 null values present in Health_Impacts Categorical Column.\n",
    "3. Handle these null values with mode(most frequent) values.\n",
    "4. Then we create Age_Band Column By grouping of Age(Age Column) in [\"5-9 yrs\", \"10-12 yrs\", \"13-15 yrs\", \"16-18 yrs\"].\n",
    "5. After that I calculate the device share of Kids, Then I found Smartphone 47%, TV 25.6%, Laptop 14.7% and Tablet 12.6% used By Kids.\n",
    "6. After that I also Calculate the Activity Share of Kids, Then I found 42.7% of Time used in Education and 57.3% of time used in Recreational.\n",
    "7. Saved the updated dataset for further analysis."
   ]
  }
 ],
 "metadata": {
  "kernelspec": {
   "display_name": "Python 3 (ipykernel)",
   "language": "python",
   "name": "python3"
  },
  "language_info": {
   "codemirror_mode": {
    "name": "ipython",
    "version": 3
   },
   "file_extension": ".py",
   "mimetype": "text/x-python",
   "name": "python",
   "nbconvert_exporter": "python",
   "pygments_lexer": "ipython3",
   "version": "3.13.5"
  }
 },
 "nbformat": 4,
 "nbformat_minor": 5
}
