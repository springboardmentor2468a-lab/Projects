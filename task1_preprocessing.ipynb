{
 "cells": [
  {
   "cell_type": "code",
   "execution_count": 5,
   "id": "ffff86cd-6e06-43e8-adb7-b380a392fccd",
   "metadata": {},
   "outputs": [
    {
     "name": "stdout",
     "output_type": "stream",
     "text": [
      "Initial Data Head:\n",
      "   Age  Gender  Avg_Daily_Screen_Time_hr Primary_Device  \\\n",
      "0   14    Male                      3.99     Smartphone   \n",
      "1   11  Female                      4.61         Laptop   \n",
      "2   18  Female                      3.73             TV   \n",
      "3   15  Female                      1.21         Laptop   \n",
      "4   12  Female                      5.89     Smartphone   \n",
      "\n",
      "   Exceeded_Recommended_Limit  Educational_to_Recreational_Ratio  \\\n",
      "0                        True                               0.42   \n",
      "1                        True                               0.30   \n",
      "2                        True                               0.32   \n",
      "3                       False                               0.39   \n",
      "4                        True                               0.49   \n",
      "\n",
      "           Health_Impacts Urban_or_Rural  \n",
      "0  Poor Sleep, Eye Strain          Urban  \n",
      "1              Poor Sleep          Urban  \n",
      "2              Poor Sleep          Urban  \n",
      "3                     NaN          Urban  \n",
      "4     Poor Sleep, Anxiety          Urban  \n"
     ]
    }
   ],
   "source": [
    "# Import necessary libraries\n",
    "import pandas as pd\n",
    "import numpy as np\n",
    "import matplotlib.pyplot as plt\n",
    "import seaborn as sns\n",
    "import re\n",
    "\n",
    "# Load the dataset into a DataFrame named 'df'\n",
    "df = pd.read_csv(\"C:\\\\Users\\\\91887\\\\Desktop\\\\Indian_Kids_Screen_Time.csv\")\n",
    "\n",
    "# Display the first few rows of the dataset\n",
    "print(\"Initial Data Head:\")\n",
    "print(df.head())"
   ]
  },
  {
   "cell_type": "code",
   "execution_count": 6,
   "id": "34376653-326c-42f8-b8ce-ed0d03e67584",
   "metadata": {},
   "outputs": [
    {
     "name": "stdout",
     "output_type": "stream",
     "text": [
      "Checking Null Values:\n",
      "Age                                     0\n",
      "Gender                                  0\n",
      "Avg_Daily_Screen_Time_hr                0\n",
      "Primary_Device                          0\n",
      "Exceeded_Recommended_Limit              0\n",
      "Educational_to_Recreational_Ratio       0\n",
      "Health_Impacts                       3218\n",
      "Urban_or_Rural                          0\n",
      "dtype: int64\n"
     ]
    }
   ],
   "source": [
    "# To check Null Values\n",
    "print(\"Checking Null Values:\")\n",
    "print(df.isnull().sum())"
   ]
  },
  {
   "cell_type": "code",
   "execution_count": 7,
   "id": "c61128f2-a1df-44a3-852e-9ca4c961617e",
   "metadata": {},
   "outputs": [
    {
     "name": "stdout",
     "output_type": "stream",
     "text": [
      "Duplicate value Rows: 44\n",
      "(9668, 8)\n"
     ]
    },
    {
     "data": {
      "text/html": [
       "<div>\n",
       "<style scoped>\n",
       "    .dataframe tbody tr th:only-of-type {\n",
       "        vertical-align: middle;\n",
       "    }\n",
       "\n",
       "    .dataframe tbody tr th {\n",
       "        vertical-align: top;\n",
       "    }\n",
       "\n",
       "    .dataframe thead th {\n",
       "        text-align: right;\n",
       "    }\n",
       "</style>\n",
       "<table border=\"1\" class=\"dataframe\">\n",
       "  <thead>\n",
       "    <tr style=\"text-align: right;\">\n",
       "      <th></th>\n",
       "      <th>Age</th>\n",
       "      <th>Avg_Daily_Screen_Time_hr</th>\n",
       "      <th>Educational_to_Recreational_Ratio</th>\n",
       "    </tr>\n",
       "  </thead>\n",
       "  <tbody>\n",
       "    <tr>\n",
       "      <th>count</th>\n",
       "      <td>9668.000000</td>\n",
       "      <td>9668.000000</td>\n",
       "      <td>9668.000000</td>\n",
       "    </tr>\n",
       "    <tr>\n",
       "      <th>mean</th>\n",
       "      <td>12.992760</td>\n",
       "      <td>4.367780</td>\n",
       "      <td>0.427028</td>\n",
       "    </tr>\n",
       "    <tr>\n",
       "      <th>std</th>\n",
       "      <td>3.158931</td>\n",
       "      <td>1.703002</td>\n",
       "      <td>0.073185</td>\n",
       "    </tr>\n",
       "    <tr>\n",
       "      <th>min</th>\n",
       "      <td>8.000000</td>\n",
       "      <td>0.000000</td>\n",
       "      <td>0.300000</td>\n",
       "    </tr>\n",
       "    <tr>\n",
       "      <th>25%</th>\n",
       "      <td>10.000000</td>\n",
       "      <td>3.427500</td>\n",
       "      <td>0.370000</td>\n",
       "    </tr>\n",
       "    <tr>\n",
       "      <th>50%</th>\n",
       "      <td>13.000000</td>\n",
       "      <td>4.440000</td>\n",
       "      <td>0.430000</td>\n",
       "    </tr>\n",
       "    <tr>\n",
       "      <th>75%</th>\n",
       "      <td>16.000000</td>\n",
       "      <td>5.380000</td>\n",
       "      <td>0.480000</td>\n",
       "    </tr>\n",
       "    <tr>\n",
       "      <th>max</th>\n",
       "      <td>18.000000</td>\n",
       "      <td>13.890000</td>\n",
       "      <td>0.600000</td>\n",
       "    </tr>\n",
       "  </tbody>\n",
       "</table>\n",
       "</div>"
      ],
      "text/plain": [
       "               Age  Avg_Daily_Screen_Time_hr  \\\n",
       "count  9668.000000               9668.000000   \n",
       "mean     12.992760                  4.367780   \n",
       "std       3.158931                  1.703002   \n",
       "min       8.000000                  0.000000   \n",
       "25%      10.000000                  3.427500   \n",
       "50%      13.000000                  4.440000   \n",
       "75%      16.000000                  5.380000   \n",
       "max      18.000000                 13.890000   \n",
       "\n",
       "       Educational_to_Recreational_Ratio  \n",
       "count                        9668.000000  \n",
       "mean                            0.427028  \n",
       "std                             0.073185  \n",
       "min                             0.300000  \n",
       "25%                             0.370000  \n",
       "50%                             0.430000  \n",
       "75%                             0.480000  \n",
       "max                             0.600000  "
      ]
     },
     "execution_count": 7,
     "metadata": {},
     "output_type": "execute_result"
    }
   ],
   "source": [
    "print(\"Duplicate value Rows:\", df.duplicated().sum())\n",
    "df = df.drop_duplicates()\n",
    "print(df.shape)\n",
    "df.describe()"
   ]
  },
  {
   "cell_type": "code",
   "execution_count": 8,
   "id": "b7bbf0fb-cdcf-49d8-b162-93fccbe03126",
   "metadata": {},
   "outputs": [
    {
     "name": "stdout",
     "output_type": "stream",
     "text": [
      "\n",
      "Statistical Measures:\n",
      "               Age  Avg_Daily_Screen_Time_hr  \\\n",
      "count  9668.000000               9668.000000   \n",
      "mean     12.992760                  4.367780   \n",
      "std       3.158931                  1.703002   \n",
      "min       8.000000                  0.000000   \n",
      "25%      10.000000                  3.427500   \n",
      "50%      13.000000                  4.440000   \n",
      "75%      16.000000                  5.380000   \n",
      "max      18.000000                 13.890000   \n",
      "\n",
      "       Educational_to_Recreational_Ratio  \n",
      "count                        9668.000000  \n",
      "mean                            0.427028  \n",
      "std                             0.073185  \n",
      "min                             0.300000  \n",
      "25%                             0.370000  \n",
      "50%                             0.430000  \n",
      "75%                             0.480000  \n",
      "max                             0.600000  \n"
     ]
    }
   ],
   "source": [
    "# Display Statistical Measures\n",
    "print(\"\\nStatistical Measures:\")\n",
    "print(df.describe())"
   ]
  },
  {
   "cell_type": "code",
   "execution_count": 9,
   "id": "701488d1-4361-4518-8a2d-d0cda024c313",
   "metadata": {},
   "outputs": [
    {
     "name": "stdout",
     "output_type": "stream",
     "text": [
      "\n",
      "Correlation of all numerical Columns:\n"
     ]
    },
    {
     "data": {
      "image/png": "[encoded data removed]",
      "text/plain": [
       "<Figure size 800x600 with 2 Axes>"
      ]
     },
     "metadata": {},
     "output_type": "display_data"
    }
   ],
   "source": [
    "# Create a correlation matrix and visualize it with a heatmap\n",
    "print(\"\\nCorrelation of all numerical Columns:\")\n",
    "correlation = df.corr(numeric_only=True)\n",
    "plt.figure(figsize=(8, 6))\n",
    "sns.heatmap(correlation, annot=True, cmap='coolwarm', fmt=\".2f\")\n",
    "plt.title('Correlation of all numerical Columns')\n",
    "plt.show()"
   ]
  },
  {
   "cell_type": "code",
   "execution_count": 12,
   "id": "79e9b7e4-ddaf-43d7-a270-e1b2faa1d30f",
   "metadata": {},
   "outputs": [
    {
     "name": "stdout",
     "output_type": "stream",
     "text": [
      "<class 'pandas.core.frame.DataFrame'>\n",
      "Index: 9668 entries, 0 to 9711\n",
      "Data columns (total 8 columns):\n",
      " #   Column                             Non-Null Count  Dtype  \n",
      "---  ------                             --------------  -----  \n",
      " 0   Age                                9668 non-null   int64  \n",
      " 1   Gender                             9668 non-null   object \n",
      " 2   Avg_Daily_Screen_Time_hr           9668 non-null   float64\n",
      " 3   Primary_Device                     9668 non-null   object \n",
      " 4   Exceeded_Recommended_Limit         9668 non-null   bool   \n",
      " 5   Educational_to_Recreational_Ratio  9668 non-null   float64\n",
      " 6   Health_Impacts                     6488 non-null   object \n",
      " 7   Urban_or_Rural                     9668 non-null   object \n",
      "dtypes: bool(1), float64(2), int64(1), object(4)\n",
      "memory usage: 613.7+ KB\n"
     ]
    }
   ],
   "source": [
    "df.info()"
   ]
  },
  {
   "cell_type": "code",
   "execution_count": 13,
   "id": "67838b65-6600-4db3-877c-04e69f25f5b0",
   "metadata": {},
   "outputs": [
    {
     "data": {
      "text/plain": [
       "Age                                    int64\n",
       "Gender                                object\n",
       "Avg_Daily_Screen_Time_hr             float64\n",
       "Primary_Device                        object\n",
       "Exceeded_Recommended_Limit              bool\n",
       "Educational_to_Recreational_Ratio    float64\n",
       "Health_Impacts                        object\n",
       "Urban_or_Rural                        object\n",
       "dtype: object"
      ]
     },
     "execution_count": 13,
     "metadata": {},
     "output_type": "execute_result"
    }
   ],
   "source": [
    "df.dtypes"
   ]
  },
  {
   "cell_type": "code",
   "execution_count": 14,
   "id": "9a62f4f8-3a8b-4475-b965-7432279ed8b6",
   "metadata": {},
   "outputs": [
    {
     "name": "stdout",
     "output_type": "stream",
     "text": [
      "IQR:\n",
      " Age                                  6.0000\n",
      "Avg_Daily_Screen_Time_hr             1.9525\n",
      "Educational_to_Recreational_Ratio    0.1100\n",
      "dtype: float64\n"
     ]
    }
   ],
   "source": [
    "numeric_df = df.select_dtypes(include=[\"int64\", \"float64\"])\n",
    "Q1 = numeric_df.quantile(0.25)\n",
    "Q3 = numeric_df.quantile(0.75)\n",
    "IQR = Q3 - Q1\n",
    "print(\"IQR:\\n\", IQR)"
   ]
  },
  {
   "cell_type": "code",
   "execution_count": 11,
   "id": "0fae61f0-0c70-4c9c-84ea-31cb1c6dc782",
   "metadata": {},
   "outputs": [
    {
     "data": {
      "text/plain": [
       "'### Observations from Initial Analysis:\\n* **Missing Values**: There are **3,218 missing values** in the `Health_Impacts` column, which need to be handled.\\n* **Duplicates**: The dataset contained **44 duplicate rows**, which have been removed.\\n* **Correlation**: There is a moderate positive correlation (0.66) between `Avg_Daily_Screen_Time_hr` and `Exceeded_Recommended_Limit`, which is expected.'"
      ]
     },
     "execution_count": 11,
     "metadata": {},
     "output_type": "execute_result"
    }
   ],
   "source": [
    "'''### Observations from Initial Analysis:\n",
    "* **Missing Values**: There are **3,218 missing values** in the `Health_Impacts` column, which need to be handled.\n",
    "* **Duplicates**: The dataset contained **44 duplicate rows**, which have been removed.\n",
    "* **Correlation**: There is a moderate positive correlation (0.66) between `Avg_Daily_Screen_Time_hr` and `Exceeded_Recommended_Limit`, which is expected.'''"
   ]
  },
  {
   "cell_type": "code",
   "execution_count": null,
   "id": "b81ad726-39e9-467d-adc5-2bc6e2326ff5",
   "metadata": {},
   "outputs": [],
   "source": []
  }
 ],
 "metadata": {
  "kernelspec": {
   "display_name": "Python 3 (ipykernel)",
   "language": "python",
   "name": "python3"
  },
  "language_info": {
   "codemirror_mode": {
    "name": "ipython",
    "version": 3
   },
   "file_extension": ".py",
   "mimetype": "text/x-python",
   "name": "python",
   "nbconvert_exporter": "python",
   "pygments_lexer": "ipython3",
   "version": "3.13.5"
  }
 },
 "nbformat": 4,
 "nbformat_minor": 5
}
