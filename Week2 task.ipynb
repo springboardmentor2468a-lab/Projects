{
 "cells": [
  {
   "cell_type": "markdown",
   "id": "6f7338c5-e36e-4849-b5bc-7922c5461d0a",
   "metadata": {},
   "source": [
    "## Import Libraries"
   ]
  },
  {
   "cell_type": "code",
   "execution_count": 41,
   "id": "a8708209-df97-4a45-b3f5-73c2e38345ff",
   "metadata": {},
   "outputs": [],
   "source": [
    "import numpy as np\n",
    "import pandas as pd\n",
    "import matplotlib.pyplot as plt\n",
    "import seaborn as sns"
   ]
  },
  {
   "cell_type": "markdown",
   "id": "c01a3b68-ddfa-48dc-9d2d-fb1e07de24d5",
   "metadata": {},
   "source": [
    "## Load Dataset"
   ]
  },
  {
   "cell_type": "code",
   "execution_count": 42,
   "id": "e7af18d5-96db-4b3b-8893-b85124a8ba60",
   "metadata": {},
   "outputs": [
    {
     "data": {
      "text/html": [
       "<div>\n",
       "<style scoped>\n",
       "    .dataframe tbody tr th:only-of-type {\n",
       "        vertical-align: middle;\n",
       "    }\n",
       "\n",
       "    .dataframe tbody tr th {\n",
       "        vertical-align: top;\n",
       "    }\n",
       "\n",
       "    .dataframe thead th {\n",
       "        text-align: right;\n",
       "    }\n",
       "</style>\n",
       "<table border=\"1\" class=\"dataframe\">\n",
       "  <thead>\n",
       "    <tr style=\"text-align: right;\">\n",
       "      <th></th>\n",
       "      <th>Age</th>\n",
       "      <th>Gender</th>\n",
       "      <th>Avg_Daily_Screen_Time_hr</th>\n",
       "      <th>Primary_Device</th>\n",
       "      <th>Exceeded_Recommended_Limit</th>\n",
       "      <th>Educational_to_Recreational_Ratio</th>\n",
       "      <th>Health_Impacts</th>\n",
       "      <th>Urban_or_Rural</th>\n",
       "    </tr>\n",
       "  </thead>\n",
       "  <tbody>\n",
       "    <tr>\n",
       "      <th>0</th>\n",
       "      <td>14</td>\n",
       "      <td>Male</td>\n",
       "      <td>3.99</td>\n",
       "      <td>Smartphone</td>\n",
       "      <td>True</td>\n",
       "      <td>0.42</td>\n",
       "      <td>Poor Sleep, Eye Strain</td>\n",
       "      <td>Urban</td>\n",
       "    </tr>\n",
       "    <tr>\n",
       "      <th>1</th>\n",
       "      <td>11</td>\n",
       "      <td>Female</td>\n",
       "      <td>4.61</td>\n",
       "      <td>Laptop</td>\n",
       "      <td>True</td>\n",
       "      <td>0.30</td>\n",
       "      <td>Poor Sleep</td>\n",
       "      <td>Urban</td>\n",
       "    </tr>\n",
       "    <tr>\n",
       "      <th>2</th>\n",
       "      <td>18</td>\n",
       "      <td>Female</td>\n",
       "      <td>3.73</td>\n",
       "      <td>TV</td>\n",
       "      <td>True</td>\n",
       "      <td>0.32</td>\n",
       "      <td>Poor Sleep</td>\n",
       "      <td>Urban</td>\n",
       "    </tr>\n",
       "    <tr>\n",
       "      <th>3</th>\n",
       "      <td>15</td>\n",
       "      <td>Female</td>\n",
       "      <td>1.21</td>\n",
       "      <td>Laptop</td>\n",
       "      <td>False</td>\n",
       "      <td>0.39</td>\n",
       "      <td>NaN</td>\n",
       "      <td>Urban</td>\n",
       "    </tr>\n",
       "    <tr>\n",
       "      <th>4</th>\n",
       "      <td>12</td>\n",
       "      <td>Female</td>\n",
       "      <td>5.89</td>\n",
       "      <td>Smartphone</td>\n",
       "      <td>True</td>\n",
       "      <td>0.49</td>\n",
       "      <td>Poor Sleep, Anxiety</td>\n",
       "      <td>Urban</td>\n",
       "    </tr>\n",
       "    <tr>\n",
       "      <th>5</th>\n",
       "      <td>14</td>\n",
       "      <td>Female</td>\n",
       "      <td>4.88</td>\n",
       "      <td>Smartphone</td>\n",
       "      <td>True</td>\n",
       "      <td>0.44</td>\n",
       "      <td>Poor Sleep</td>\n",
       "      <td>Urban</td>\n",
       "    </tr>\n",
       "    <tr>\n",
       "      <th>6</th>\n",
       "      <td>17</td>\n",
       "      <td>Male</td>\n",
       "      <td>2.97</td>\n",
       "      <td>TV</td>\n",
       "      <td>False</td>\n",
       "      <td>0.48</td>\n",
       "      <td>NaN</td>\n",
       "      <td>Rural</td>\n",
       "    </tr>\n",
       "    <tr>\n",
       "      <th>7</th>\n",
       "      <td>10</td>\n",
       "      <td>Male</td>\n",
       "      <td>2.74</td>\n",
       "      <td>TV</td>\n",
       "      <td>True</td>\n",
       "      <td>0.54</td>\n",
       "      <td>NaN</td>\n",
       "      <td>Urban</td>\n",
       "    </tr>\n",
       "    <tr>\n",
       "      <th>8</th>\n",
       "      <td>14</td>\n",
       "      <td>Male</td>\n",
       "      <td>4.61</td>\n",
       "      <td>Laptop</td>\n",
       "      <td>True</td>\n",
       "      <td>0.36</td>\n",
       "      <td>Poor Sleep, Anxiety</td>\n",
       "      <td>Rural</td>\n",
       "    </tr>\n",
       "    <tr>\n",
       "      <th>9</th>\n",
       "      <td>18</td>\n",
       "      <td>Male</td>\n",
       "      <td>3.24</td>\n",
       "      <td>Tablet</td>\n",
       "      <td>True</td>\n",
       "      <td>0.48</td>\n",
       "      <td>Poor Sleep, Obesity Risk</td>\n",
       "      <td>Urban</td>\n",
       "    </tr>\n",
       "  </tbody>\n",
       "</table>\n",
       "</div>"
      ],
      "text/plain": [
       "   Age  Gender  Avg_Daily_Screen_Time_hr Primary_Device  \\\n",
       "0   14    Male                      3.99     Smartphone   \n",
       "1   11  Female                      4.61         Laptop   \n",
       "2   18  Female                      3.73             TV   \n",
       "3   15  Female                      1.21         Laptop   \n",
       "4   12  Female                      5.89     Smartphone   \n",
       "5   14  Female                      4.88     Smartphone   \n",
       "6   17    Male                      2.97             TV   \n",
       "7   10    Male                      2.74             TV   \n",
       "8   14    Male                      4.61         Laptop   \n",
       "9   18    Male                      3.24         Tablet   \n",
       "\n",
       "   Exceeded_Recommended_Limit  Educational_to_Recreational_Ratio  \\\n",
       "0                        True                               0.42   \n",
       "1                        True                               0.30   \n",
       "2                        True                               0.32   \n",
       "3                       False                               0.39   \n",
       "4                        True                               0.49   \n",
       "5                        True                               0.44   \n",
       "6                       False                               0.48   \n",
       "7                        True                               0.54   \n",
       "8                        True                               0.36   \n",
       "9                        True                               0.48   \n",
       "\n",
       "             Health_Impacts Urban_or_Rural  \n",
       "0    Poor Sleep, Eye Strain          Urban  \n",
       "1                Poor Sleep          Urban  \n",
       "2                Poor Sleep          Urban  \n",
       "3                       NaN          Urban  \n",
       "4       Poor Sleep, Anxiety          Urban  \n",
       "5                Poor Sleep          Urban  \n",
       "6                       NaN          Rural  \n",
       "7                       NaN          Urban  \n",
       "8       Poor Sleep, Anxiety          Rural  \n",
       "9  Poor Sleep, Obesity Risk          Urban  "
      ]
     },
     "execution_count": 42,
     "metadata": {},
     "output_type": "execute_result"
    }
   ],
   "source": [
    "#Loading the dataset\n",
    "df = pd.read_csv(\"Indian_Kids_Screen_Time.CSV\")\n",
    "df.head(10)"
   ]
  },
  {
   "cell_type": "markdown",
   "id": "f1ed9439-6548-4dd0-b1ca-c834c36bf7af",
   "metadata": {},
   "source": [
    "## Handle Missing Values and Inconsistent Categories"
   ]
  },
  {
   "cell_type": "code",
   "execution_count": 43,
   "id": "97f1d154-1458-48cd-85e6-47b894a2e1e1",
   "metadata": {},
   "outputs": [
    {
     "name": "stdout",
     "output_type": "stream",
     "text": [
      "Missing values before handling:\n",
      " Age                                     0\n",
      "Gender                                  0\n",
      "Avg_Daily_Screen_Time_hr                0\n",
      "Primary_Device                          0\n",
      "Exceeded_Recommended_Limit              0\n",
      "Educational_to_Recreational_Ratio       0\n",
      "Health_Impacts                       3218\n",
      "Urban_or_Rural                          0\n",
      "dtype: int64 \n",
      "\n"
     ]
    }
   ],
   "source": [
    "# Check missing values\n",
    "print(\"Missing values before handling:\\n\", df.isnull().sum(), \"\\n\")"
   ]
  },
  {
   "cell_type": "code",
   "execution_count": 44,
   "id": "74eb3250-d532-4b7c-ab0d-c7d175ca1232",
   "metadata": {},
   "outputs": [
    {
     "name": "stdout",
     "output_type": "stream",
     "text": [
      "0\n",
      "Health_Impacts\n",
      "No health impact          3218\n",
      "Poor Sleep                2268\n",
      "Poor Sleep, Eye Strain     979\n",
      "Eye Strain                 644\n",
      "Poor Sleep, Anxiety        608\n",
      "Name: count, dtype: int64\n"
     ]
    }
   ],
   "source": [
    "# Option 1: Fill missing numerical values with mean\n",
    "num_cols = df.select_dtypes(include=['int64', 'float64']).columns\n",
    "for col in num_cols:\n",
    "    df[col] = df[col].fillna(df[col].mean())\n",
    "\n",
    "# Option 2: Handling missing categorical values \n",
    "# Replace NaN/null in Health_Impacts with \"No health impact\"\n",
    "df[\"Health_Impacts\"] = df[\"Health_Impacts\"].fillna(\"No health impact\")\n",
    "\n",
    "# Verify changes\n",
    "print(df[\"Health_Impacts\"].isnull().sum())  # should be 0 now\n",
    "print(df[\"Health_Impacts\"].value_counts().head())"
   ]
  },
  {
   "cell_type": "code",
   "execution_count": 45,
   "id": "2941d88b-0f18-4840-884b-21eb584fc207",
   "metadata": {},
   "outputs": [
    {
     "name": "stdout",
     "output_type": "stream",
     "text": [
      "After cleaning:\n",
      "    Age  Gender  Avg_Daily_Screen_Time_hr Primary_Device  \\\n",
      "0   14    Male                      3.99     Smartphone   \n",
      "1   11  Female                      4.61         Laptop   \n",
      "2   18  Female                      3.73             TV   \n",
      "3   15  Female                      1.21         Laptop   \n",
      "4   12  Female                      5.89     Smartphone   \n",
      "\n",
      "   Exceeded_Recommended_Limit  Educational_to_Recreational_Ratio  \\\n",
      "0                        True                               0.42   \n",
      "1                        True                               0.30   \n",
      "2                        True                               0.32   \n",
      "3                       False                               0.39   \n",
      "4                        True                               0.49   \n",
      "\n",
      "           Health_Impacts Urban_or_Rural  \n",
      "0  Poor Sleep, Eye Strain          Urban  \n",
      "1              Poor Sleep          Urban  \n",
      "2              Poor Sleep          Urban  \n",
      "3        No health impact          Urban  \n",
      "4     Poor Sleep, Anxiety          Urban  \n"
     ]
    }
   ],
   "source": [
    "# Optional: Verify changes\n",
    "print(\"After cleaning:\\n\", df.head())"
   ]
  },
  {
   "cell_type": "code",
   "execution_count": 46,
   "id": "940a21db-fa69-4e84-a3ce-08f4db47c3c8",
   "metadata": {},
   "outputs": [
    {
     "name": "stdout",
     "output_type": "stream",
     "text": [
      "Missing values after handling:\n",
      " Age                                  0\n",
      "Gender                               0\n",
      "Avg_Daily_Screen_Time_hr             0\n",
      "Primary_Device                       0\n",
      "Exceeded_Recommended_Limit           0\n",
      "Educational_to_Recreational_Ratio    0\n",
      "Health_Impacts                       0\n",
      "Urban_or_Rural                       0\n",
      "dtype: int64 \n",
      "\n"
     ]
    }
   ],
   "source": [
    "print(\"Missing values after handling:\\n\", df.isnull().sum(), \"\\n\")"
   ]
  },
  {
   "cell_type": "markdown",
   "id": "268de2f6-6b8b-4208-8c0e-2e46da473422",
   "metadata": {},
   "source": [
    "## Create derived fields"
   ]
  },
  {
   "cell_type": "code",
   "execution_count": 51,
   "id": "d962c976-cf70-46fa-baf2-af39bf6a87bf",
   "metadata": {},
   "outputs": [
    {
     "name": "stdout",
     "output_type": "stream",
     "text": [
      "   Age    Age_Band\n",
      "0   14   Teenagers\n",
      "1   11   Pre-teens\n",
      "2   18  Late teens\n",
      "3   15   Teenagers\n",
      "4   12   Pre-teens\n",
      "5   14   Teenagers\n",
      "6   17  Late teens\n",
      "7   10   Pre-teens\n",
      "8   14   Teenagers\n",
      "9   18  Late teens\n"
     ]
    }
   ],
   "source": [
    "#Create Age Bands\n",
    "bins = [8, 12, 16, 18]  # boundaries\n",
    "labels = [\"Pre-teens\", \"Teenagers\", \"Late teens\"]\n",
    "\n",
    "# Create new column Age_Band\n",
    "df[\"Age_Band\"] = pd.cut(df[\"Age\"], bins=bins, labels=labels, include_lowest=True)\n",
    "\n",
    "# Verify result\n",
    "print(df[[\"Age\", \"Age_Band\"]].head(10))"
   ]
  },
  {
   "cell_type": "code",
   "execution_count": 52,
   "id": "ebda71b0-418c-4e93-b637-0b642426b666",
   "metadata": {},
   "outputs": [
    {
     "data": {
      "image/png": "[encoded data removed]",
      "text/plain": [
       "<Figure size 600x400 with 1 Axes>"
      ]
     },
     "metadata": {},
     "output_type": "display_data"
    }
   ],
   "source": [
    "#Age Band Distribution\n",
    "plt.figure(figsize=(6,4))\n",
    "sns.countplot(x=\"Age_Band\", data=df, hue=\"Age_Band\", palette=\"Set2\", legend=False)\n",
    "plt.title(\"Distribution of Kids by Age Band\")\n",
    "plt.xlabel(\"Age Band\")\n",
    "plt.ylabel(\"Count of Kids\")\n",
    "plt.show()"
   ]
  },
  {
   "cell_type": "markdown",
   "id": "b118029b-6dfc-49a8-af85-5b3f12677504",
   "metadata": {},
   "source": [
    "## Categorization of Health_Impact Column"
   ]
  },
  {
   "cell_type": "code",
   "execution_count": 53,
   "id": "4c1f7d62-f0b0-48ed-b238-96dfc6c0fbaa",
   "metadata": {},
   "outputs": [
    {
     "data": {
      "text/html": [
       "<div>\n",
       "<style scoped>\n",
       "    .dataframe tbody tr th:only-of-type {\n",
       "        vertical-align: middle;\n",
       "    }\n",
       "\n",
       "    .dataframe tbody tr th {\n",
       "        vertical-align: top;\n",
       "    }\n",
       "\n",
       "    .dataframe thead th {\n",
       "        text-align: right;\n",
       "    }\n",
       "</style>\n",
       "<table border=\"1\" class=\"dataframe\">\n",
       "  <thead>\n",
       "    <tr style=\"text-align: right;\">\n",
       "      <th></th>\n",
       "      <th>Age</th>\n",
       "      <th>Gender</th>\n",
       "      <th>Avg_Daily_Screen_Time_hr</th>\n",
       "      <th>Primary_Device</th>\n",
       "      <th>Exceeded_Recommended_Limit</th>\n",
       "      <th>Educational_to_Recreational_Ratio</th>\n",
       "      <th>Health_Impacts</th>\n",
       "      <th>Urban_or_Rural</th>\n",
       "      <th>Age_Band</th>\n",
       "      <th>Health_Impact_Category</th>\n",
       "    </tr>\n",
       "  </thead>\n",
       "  <tbody>\n",
       "    <tr>\n",
       "      <th>0</th>\n",
       "      <td>14</td>\n",
       "      <td>Male</td>\n",
       "      <td>3.99</td>\n",
       "      <td>Smartphone</td>\n",
       "      <td>True</td>\n",
       "      <td>0.42</td>\n",
       "      <td>Poor Sleep, Eye Strain</td>\n",
       "      <td>Urban</td>\n",
       "      <td>Teenagers</td>\n",
       "      <td>Physical&amp;Mental</td>\n",
       "    </tr>\n",
       "    <tr>\n",
       "      <th>1</th>\n",
       "      <td>11</td>\n",
       "      <td>Female</td>\n",
       "      <td>4.61</td>\n",
       "      <td>Laptop</td>\n",
       "      <td>True</td>\n",
       "      <td>0.30</td>\n",
       "      <td>Poor Sleep</td>\n",
       "      <td>Urban</td>\n",
       "      <td>Pre-teens</td>\n",
       "      <td>Mental</td>\n",
       "    </tr>\n",
       "    <tr>\n",
       "      <th>2</th>\n",
       "      <td>18</td>\n",
       "      <td>Female</td>\n",
       "      <td>3.73</td>\n",
       "      <td>TV</td>\n",
       "      <td>True</td>\n",
       "      <td>0.32</td>\n",
       "      <td>Poor Sleep</td>\n",
       "      <td>Urban</td>\n",
       "      <td>Late teens</td>\n",
       "      <td>Mental</td>\n",
       "    </tr>\n",
       "    <tr>\n",
       "      <th>3</th>\n",
       "      <td>15</td>\n",
       "      <td>Female</td>\n",
       "      <td>1.21</td>\n",
       "      <td>Laptop</td>\n",
       "      <td>False</td>\n",
       "      <td>0.39</td>\n",
       "      <td>No health impact</td>\n",
       "      <td>Urban</td>\n",
       "      <td>Teenagers</td>\n",
       "      <td>No Impact</td>\n",
       "    </tr>\n",
       "    <tr>\n",
       "      <th>4</th>\n",
       "      <td>12</td>\n",
       "      <td>Female</td>\n",
       "      <td>5.89</td>\n",
       "      <td>Smartphone</td>\n",
       "      <td>True</td>\n",
       "      <td>0.49</td>\n",
       "      <td>Poor Sleep, Anxiety</td>\n",
       "      <td>Urban</td>\n",
       "      <td>Pre-teens</td>\n",
       "      <td>Mental</td>\n",
       "    </tr>\n",
       "    <tr>\n",
       "      <th>5</th>\n",
       "      <td>14</td>\n",
       "      <td>Female</td>\n",
       "      <td>4.88</td>\n",
       "      <td>Smartphone</td>\n",
       "      <td>True</td>\n",
       "      <td>0.44</td>\n",
       "      <td>Poor Sleep</td>\n",
       "      <td>Urban</td>\n",
       "      <td>Teenagers</td>\n",
       "      <td>Mental</td>\n",
       "    </tr>\n",
       "    <tr>\n",
       "      <th>6</th>\n",
       "      <td>17</td>\n",
       "      <td>Male</td>\n",
       "      <td>2.97</td>\n",
       "      <td>TV</td>\n",
       "      <td>False</td>\n",
       "      <td>0.48</td>\n",
       "      <td>No health impact</td>\n",
       "      <td>Rural</td>\n",
       "      <td>Late teens</td>\n",
       "      <td>No Impact</td>\n",
       "    </tr>\n",
       "    <tr>\n",
       "      <th>7</th>\n",
       "      <td>10</td>\n",
       "      <td>Male</td>\n",
       "      <td>2.74</td>\n",
       "      <td>TV</td>\n",
       "      <td>True</td>\n",
       "      <td>0.54</td>\n",
       "      <td>No health impact</td>\n",
       "      <td>Urban</td>\n",
       "      <td>Pre-teens</td>\n",
       "      <td>No Impact</td>\n",
       "    </tr>\n",
       "    <tr>\n",
       "      <th>8</th>\n",
       "      <td>14</td>\n",
       "      <td>Male</td>\n",
       "      <td>4.61</td>\n",
       "      <td>Laptop</td>\n",
       "      <td>True</td>\n",
       "      <td>0.36</td>\n",
       "      <td>Poor Sleep, Anxiety</td>\n",
       "      <td>Rural</td>\n",
       "      <td>Teenagers</td>\n",
       "      <td>Mental</td>\n",
       "    </tr>\n",
       "    <tr>\n",
       "      <th>9</th>\n",
       "      <td>18</td>\n",
       "      <td>Male</td>\n",
       "      <td>3.24</td>\n",
       "      <td>Tablet</td>\n",
       "      <td>True</td>\n",
       "      <td>0.48</td>\n",
       "      <td>Poor Sleep, Obesity Risk</td>\n",
       "      <td>Urban</td>\n",
       "      <td>Late teens</td>\n",
       "      <td>Physical&amp;Mental</td>\n",
       "    </tr>\n",
       "  </tbody>\n",
       "</table>\n",
       "</div>"
      ],
      "text/plain": [
       "   Age  Gender  Avg_Daily_Screen_Time_hr Primary_Device  \\\n",
       "0   14    Male                      3.99     Smartphone   \n",
       "1   11  Female                      4.61         Laptop   \n",
       "2   18  Female                      3.73             TV   \n",
       "3   15  Female                      1.21         Laptop   \n",
       "4   12  Female                      5.89     Smartphone   \n",
       "5   14  Female                      4.88     Smartphone   \n",
       "6   17    Male                      2.97             TV   \n",
       "7   10    Male                      2.74             TV   \n",
       "8   14    Male                      4.61         Laptop   \n",
       "9   18    Male                      3.24         Tablet   \n",
       "\n",
       "   Exceeded_Recommended_Limit  Educational_to_Recreational_Ratio  \\\n",
       "0                        True                               0.42   \n",
       "1                        True                               0.30   \n",
       "2                        True                               0.32   \n",
       "3                       False                               0.39   \n",
       "4                        True                               0.49   \n",
       "5                        True                               0.44   \n",
       "6                       False                               0.48   \n",
       "7                        True                               0.54   \n",
       "8                        True                               0.36   \n",
       "9                        True                               0.48   \n",
       "\n",
       "             Health_Impacts Urban_or_Rural    Age_Band Health_Impact_Category  \n",
       "0    Poor Sleep, Eye Strain          Urban   Teenagers        Physical&Mental  \n",
       "1                Poor Sleep          Urban   Pre-teens                 Mental  \n",
       "2                Poor Sleep          Urban  Late teens                 Mental  \n",
       "3          No health impact          Urban   Teenagers              No Impact  \n",
       "4       Poor Sleep, Anxiety          Urban   Pre-teens                 Mental  \n",
       "5                Poor Sleep          Urban   Teenagers                 Mental  \n",
       "6          No health impact          Rural  Late teens              No Impact  \n",
       "7          No health impact          Urban   Pre-teens              No Impact  \n",
       "8       Poor Sleep, Anxiety          Rural   Teenagers                 Mental  \n",
       "9  Poor Sleep, Obesity Risk          Urban  Late teens        Physical&Mental  "
      ]
     },
     "execution_count": 53,
     "metadata": {},
     "output_type": "execute_result"
    }
   ],
   "source": [
    "physical = [\"Eye Strain\",\"Headache\",\"Poor Posture\",\"Obesity\",\"Fatigue\"]\n",
    "mental = [\"Poor Sleep\",\"Anxiety\",\"Stress\",\"Depression\",\"Addiction\"]\n",
    "\n",
    "df[\"Health_Impact_Category\"] = df[\"Health_Impacts\"].apply(\n",
    "    lambda x: \"No Impact\" if x==\"None\" \n",
    "    else \"Physical&Mental\" if any(p in x for p in physical) and any(m in x for m in mental)\n",
    "    else \"Physical\" if any(p in x for p in physical)\n",
    "    else \"Mental\" if any(m in x for m in mental)\n",
    "    else \"No Impact\"\n",
    ")\n",
    "df.head(10)"
   ]
  },
  {
   "cell_type": "code",
   "execution_count": 33,
   "id": "567519a6-de7e-4fe2-bdea-c9e1dfa875ba",
   "metadata": {},
   "outputs": [
    {
     "name": "stdout",
     "output_type": "stream",
     "text": [
      "  Primary_Device     Device_Category\n",
      "0     Smartphone     Portable device\n",
      "1         Laptop     Portable device\n",
      "2             TV  Wallmounted device\n",
      "3         Laptop     Portable device\n",
      "4     Smartphone     Portable device\n",
      "5     Smartphone     Portable device\n",
      "6             TV  Wallmounted device\n",
      "7             TV  Wallmounted device\n",
      "8         Laptop     Portable device\n",
      "9         Tablet     Portable device\n",
      "Device_Category\n",
      "Portable device       7225\n",
      "Wallmounted device    2487\n",
      "Name: count, dtype: int64\n"
     ]
    }
   ],
   "source": [
    "# Categorize Primary_Device\n",
    "df[\"Device_Category\"] = df[\"Primary_Device\"].apply(\n",
    "    lambda x: \"Wallmounted device\" if x == \"TV\" else \"Portable device\"\n",
    ")\n",
    "\n",
    "# Verify result\n",
    "print(df[[\"Primary_Device\", \"Device_Category\"]].head(10))\n",
    "print(df[\"Device_Category\"].value_counts())"
   ]
  },
  {
   "cell_type": "markdown",
   "id": "9a950a7f-1651-40b6-9bca-40f65dec32d5",
   "metadata": {},
   "source": [
    "##creating derived fields : age bands, weekday/weekend flags, device/activity shares , formating any date/time fields"
   ]
  },
  {
   "cell_type": "code",
   "execution_count": 54,
   "id": "68116a3d-30cf-48e2-ba07-9ab518217d73",
   "metadata": {},
   "outputs": [
    {
     "name": "stdout",
     "output_type": "stream",
     "text": [
      "  Primary_Device  Screen_Size Screen_Harm_Category\n",
      "0     Smartphone            6              Harmful\n",
      "1         Laptop           15              Harmful\n",
      "2             TV           40         More Harmful\n",
      "3         Laptop           15              Harmful\n",
      "4     Smartphone            6              Harmful\n",
      "5     Smartphone            6              Harmful\n",
      "6             TV           40         More Harmful\n",
      "7             TV           40         More Harmful\n",
      "8         Laptop           15              Harmful\n",
      "9         Tablet           10              Harmful\n",
      "Screen_Harm_Category\n",
      "Harmful         7225\n",
      "More Harmful    2487\n",
      "Name: count, dtype: int64\n"
     ]
    }
   ],
   "source": [
    "# Define approximate screen sizes for devices\n",
    "screen_sizes = {\n",
    "    \"Smartphone\": 6,\n",
    "    \"Laptop\": 15,\n",
    "    \"Tablet\": 10,\n",
    "    \"TV\": 40   # assuming average TV size ~40 inches\n",
    "}\n",
    "\n",
    "# Map screen sizes to a new column\n",
    "df[\"Screen_Size\"] = df[\"Primary_Device\"].map(screen_sizes)\n",
    "\n",
    "# Categorize based on screen size\n",
    "df[\"Screen_Harm_Category\"] = df[\"Screen_Size\"].apply(\n",
    "    lambda x: \"Harmful\" if x < 30 else \"More Harmful\"\n",
    ")\n",
    "\n",
    "# Verify result\n",
    "print(df[[\"Primary_Device\", \"Screen_Size\", \"Screen_Harm_Category\"]].head(10))\n",
    "print(df[\"Screen_Harm_Category\"].value_counts())"
   ]
  },
  {
   "cell_type": "code",
   "execution_count": 35,
   "id": "35d53e92-f074-4504-8637-3e93ec05e4d7",
   "metadata": {},
   "outputs": [
    {
     "name": "stdout",
     "output_type": "stream",
     "text": [
      "\n",
      "Column names (list):\n"
     ]
    },
    {
     "data": {
      "text/plain": [
       "['Age',\n",
       " 'Gender',\n",
       " 'Avg_Daily_Screen_Time_hr',\n",
       " 'Primary_Device',\n",
       " 'Exceeded_Recommended_Limit',\n",
       " 'Educational_to_Recreational_Ratio',\n",
       " 'Health_Impacts',\n",
       " 'Urban_or_Rural',\n",
       " 'Age_Band',\n",
       " 'Health_Impact_Category',\n",
       " 'Educational_Share',\n",
       " 'Recreational_Share',\n",
       " 'Device_Category',\n",
       " 'Screen_Size',\n",
       " 'Screen_Harm_Category']"
      ]
     },
     "execution_count": 35,
     "metadata": {},
     "output_type": "execute_result"
    }
   ],
   "source": [
    "# Get column names as a list\n",
    "column_names_list = df.columns.tolist()\n",
    "print(\"\\nColumn names (list):\")\n",
    "column_names_list"
   ]
  },
  {
   "cell_type": "code",
   "execution_count": 36,
   "id": "22862a3f-6b82-485f-b074-c11b3fffe091",
   "metadata": {},
   "outputs": [
    {
     "name": "stdout",
     "output_type": "stream",
     "text": [
      "Device Share(% of kids using each device):\n",
      " Primary_Device\n",
      "Smartphone    47.034596\n",
      "TV            25.607496\n",
      "Laptop        14.754942\n",
      "Tablet        12.602965\n",
      "Name: proportion, dtype: float64 \n",
      "\n"
     ]
    }
   ],
   "source": [
    "#Device Share (Proportion of each device used)\n",
    "# Count device usage and calculate share\n",
    "device_share = df[\"Primary_Device\"].value_counts(normalize=True) * 100\n",
    "print(\"Device Share(% of kids using each device):\\n\", device_share, \"\\n\")"
   ]
  },
  {
   "cell_type": "code",
   "execution_count": 55,
   "id": "83b8c967-23ba-470c-a98c-cdf91c6c203a",
   "metadata": {},
   "outputs": [
    {
     "data": {
      "image/png": "[encoded data removed]",
      "text/plain": [
       "<Figure size 600x600 with 1 Axes>"
      ]
     },
     "metadata": {},
     "output_type": "display_data"
    }
   ],
   "source": [
    "#Device Share\n",
    "plt.figure(figsize=(6,6))\n",
    "device_share.plot(kind=\"pie\", autopct=\"%.1f%%\", startangle=90, colormap=\"Set3\")\n",
    "plt.title(\"Device Usage Share\")\n",
    "plt.ylabel(\"\")\n",
    "plt.show()"
   ]
  },
  {
   "cell_type": "markdown",
   "id": "d14867f7-fcee-4a6b-b2dc-ed15fb935842",
   "metadata": {},
   "source": [
    "## Activity Share"
   ]
  },
  {
   "cell_type": "code",
   "execution_count": 57,
   "id": "e432555e-b089-43e1-a4fb-62a82ad8c874",
   "metadata": {},
   "outputs": [
    {
     "data": {
      "image/png": "[encoded data removed]",
      "text/plain": [
       "<Figure size 600x600 with 1 Axes>"
      ]
     },
     "metadata": {},
     "output_type": "display_data"
    }
   ],
   "source": [
    "#Educational vs Recreational Share\n",
    "df[\"Educational_Share\"] = df[\"Educational_to_Recreational_Ratio\"]\n",
    "df[\"Recreational_Share\"] = 1 - df[\"Educational_to_Recreational_Ratio\"]\n",
    "avg_activity_share = {\n",
    "    \"Educational\": df[\"Educational_Share\"].mean() * 100,\n",
    "    \"Recreational\": df[\"Recreational_Share\"].mean() * 100\n",
    "}\n",
    "\n",
    "plt.figure(figsize=(6,6))\n",
    "plt.pie(avg_activity_share.values(), labels=avg_activity_share.keys(),\n",
    "        autopct=\"%.1f%%\", startangle=90, colors=[\"#4CAF50\", \"#FF7043\"])\n",
    "plt.title(\"Average Screen Time Split: Educational vs Recreational\")\n",
    "plt.show()"
   ]
  },
  {
   "cell_type": "markdown",
   "id": "d04c90e1-c50c-49f2-b8a1-ed8fc737bae4",
   "metadata": {},
   "source": [
    "## Save Preprocessed data for reuse"
   ]
  },
  {
   "cell_type": "code",
   "execution_count": 58,
   "id": "89d0ee2b-8373-4561-be71-588e8825697f",
   "metadata": {},
   "outputs": [
    {
     "name": "stdout",
     "output_type": "stream",
     "text": [
      "Preprocessed dataset saved successfully!\n"
     ]
    }
   ],
   "source": [
    "# Save Preprocessed Dataset\n",
    "df.to_csv(\"Indian_Kids_Screen_Time_Preprocessed.csv\", index=False)\n",
    "\n",
    "print(\"Preprocessed dataset saved successfully!\")"
   ]
  },
  {
   "cell_type": "markdown",
   "id": "687e5f49-f850-4069-9d4d-c0637467c690",
   "metadata": {},
   "source": [
    "## OBSERVATIONS"
   ]
  },
  {
   "cell_type": "code",
   "execution_count": null,
   "id": "5cc1a4ec-93dc-47b6-8f80-bd1bd29eb309",
   "metadata": {},
   "outputs": [],
   "source": [
    "1. Fisrt load the dataset.\n",
    "2. Check for null/nan values in each column. I found 3218 null/nan values present in Health_Impacts Categorical Column.\n",
    "3. Handle these null/nan values with filling \"No Health Impact\".\n",
    "4. Then we create Age_Band Column By grouping of Age(Age Column) in [8, 12, 16, 18] into [\"Pre-teens\", \"Teenagers\", \"Late teens\"].\n",
    "5. After that I Categorize the Health_Impact Column data into \"Physical&Mental\", \"Physical\", \"Mental\", \"No Impact\".\n",
    "6. Then we Categorize the Primay_device column into Wallmounted device and portable device.\n",
    "7. After that I calculate the device share of Kids, Then I found Smartphone 47%, TV 25.6%, Laptop 14.7% and Tablet 12.6% used By Kids.\n",
    "8. After that I also Calculate the Activity Share of Kids, Then I found 42.7% of Time used in Education and 57.3% of time used in Recreational.\n",
    "9. Saved the updated dataset for further analysis."
   ]
  }
 ],
 "metadata": {
  "kernelspec": {
   "display_name": "Python 3 (ipykernel)",
   "language": "python",
   "name": "python3"
  },
  "language_info": {
   "codemirror_mode": {
    "name": "ipython",
    "version": 3
   },
   "file_extension": ".py",
   "mimetype": "text/x-python",
   "name": "python",
   "nbconvert_exporter": "python",
   "pygments_lexer": "ipython3",
   "version": "3.13.5"
  }
 },
 "nbformat": 4,
 "nbformat_minor": 5
}
