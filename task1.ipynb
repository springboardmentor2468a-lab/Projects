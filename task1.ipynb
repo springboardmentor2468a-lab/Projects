{
  "nbformat": 4,
  "nbformat_minor": 0,
  "metadata": {
    "colab": {
      "provenance": []
    },
    "kernelspec": {
      "name": "python3",
      "display_name": "Python 3"
    },
    "language_info": {
      "name": "python"
    }
  },
  "cells": [
    {
      "cell_type": "code",
      "execution_count": null,
      "metadata": {
        "id": "CaVwGXY6qFED"
      },
      "outputs": [],
      "source": [
        "import pandas as pd\n",
        "\n",
        "\n"
      ]
    },
    {
      "cell_type": "code",
      "source": [
        "import pandas as pd\n",
        "\n",
        "\n",
        "df = pd.read_csv(\"Indian_Kids_Screen_Time.csv\")\n",
        "\n",
        "# Check if there are any missing values\n",
        "print(df.isnull().values.any())\n",
        "\n",
        "# Or count missing values in each column\n",
        "print(df.isnull().sum())\n"
      ],
      "metadata": {
        "id": "I0bEWLQKqQxj",
        "colab": {
          "base_uri": "https://localhost:8080/"
        },
        "outputId": "f907370f-7e02-4ca2-b0f8-eebca494da4d"
      },
      "execution_count": 6,
      "outputs": [
        {
          "output_type": "stream",
          "name": "stdout",
          "text": [
            "True\n",
            "Age                                     0\n",
            "Gender                                  0\n",
            "Avg_Daily_Screen_Time_hr                0\n",
            "Primary_Device                          0\n",
            "Exceeded_Recommended_Limit              0\n",
            "Educational_to_Recreational_Ratio       0\n",
            "Health_Impacts                       3218\n",
            "Urban_or_Rural                          0\n",
            "dtype: int64\n"
          ]
        }
      ]
    },
    {
      "cell_type": "code",
      "source": [
        "\n",
        "\n",
        "df = pd.read_csv(\"Indian_Kids_Screen_Time.csv\")\n",
        "\n",
        "# Check for duplicate rows\n",
        "duplicates = df.duplicated()\n",
        "\n",
        "print(duplicates)"
      ],
      "metadata": {
        "id": "Hnu0BeVsrC4I",
        "colab": {
          "base_uri": "https://localhost:8080/"
        },
        "outputId": "a6c955f1-24e6-40e0-e480-10e0aafdc179"
      },
      "execution_count": 7,
      "outputs": [
        {
          "output_type": "stream",
          "name": "stdout",
          "text": [
            "0       False\n",
            "1       False\n",
            "2       False\n",
            "3       False\n",
            "4       False\n",
            "        ...  \n",
            "9707    False\n",
            "9708    False\n",
            "9709    False\n",
            "9710    False\n",
            "9711    False\n",
            "Length: 9712, dtype: bool\n"
          ]
        }
      ]
    },
    {
      "cell_type": "code",
      "source": [
        "print(\"First 5 rows:\")\n",
        "print(df.head())"
      ],
      "metadata": {
        "id": "sTL8Oa9klOKF",
        "colab": {
          "base_uri": "https://localhost:8080/"
        },
        "outputId": "9ba6633c-a227-41bc-d95c-d91148b5e424"
      },
      "execution_count": 8,
      "outputs": [
        {
          "output_type": "stream",
          "name": "stdout",
          "text": [
            "First 5 rows:\n",
            "   Age  Gender  Avg_Daily_Screen_Time_hr Primary_Device  \\\n",
            "0   14    Male                      3.99     Smartphone   \n",
            "1   11  Female                      4.61         Laptop   \n",
            "2   18  Female                      3.73             TV   \n",
            "3   15  Female                      1.21         Laptop   \n",
            "4   12  Female                      5.89     Smartphone   \n",
            "\n",
            "   Exceeded_Recommended_Limit  Educational_to_Recreational_Ratio  \\\n",
            "0                        True                               0.42   \n",
            "1                        True                               0.30   \n",
            "2                        True                               0.32   \n",
            "3                       False                               0.39   \n",
            "4                        True                               0.49   \n",
            "\n",
            "           Health_Impacts Urban_or_Rural  \n",
            "0  Poor Sleep, Eye Strain          Urban  \n",
            "1              Poor Sleep          Urban  \n",
            "2              Poor Sleep          Urban  \n",
            "3                     NaN          Urban  \n",
            "4     Poor Sleep, Anxiety          Urban  \n"
          ]
        }
      ]
    },
    {
      "cell_type": "code",
      "source": [
        "print(df.dtypes)\n",
        "\n"
      ],
      "metadata": {
        "colab": {
          "base_uri": "https://localhost:8080/"
        },
        "id": "dqqjqy2o_M3M",
        "outputId": "9472d632-5c23-453a-c933-6963719f38b1"
      },
      "execution_count": null,
      "outputs": [
        {
          "output_type": "stream",
          "name": "stdout",
          "text": [
            "Age                                    int64\n",
            "Gender                                object\n",
            "Avg_Daily_Screen_Time_hr             float64\n",
            "Primary_Device                        object\n",
            "Exceeded_Recommended_Limit              bool\n",
            "Educational_to_Recreational_Ratio    float64\n",
            "Health_Impacts                        object\n",
            "Urban_or_Rural                        object\n",
            "dtype: object\n"
          ]
        }
      ]
    },
    {
      "cell_type": "code",
      "source": [
        "\n",
        "\n",
        "# information about the dataframe\n",
        "df.info()\n"
      ],
      "metadata": {
        "colab": {
          "base_uri": "https://localhost:8080/"
        },
        "id": "JcGYDDVfARDZ",
        "outputId": "1d8bf382-4a31-441e-9954-73c9273bed29"
      },
      "execution_count": null,
      "outputs": [
        {
          "output_type": "stream",
          "name": "stdout",
          "text": [
            "<class 'pandas.core.frame.DataFrame'>\n",
            "RangeIndex: 9712 entries, 0 to 9711\n",
            "Data columns (total 8 columns):\n",
            " #   Column                             Non-Null Count  Dtype  \n",
            "---  ------                             --------------  -----  \n",
            " 0   Age                                9712 non-null   int64  \n",
            " 1   Gender                             9712 non-null   object \n",
            " 2   Avg_Daily_Screen_Time_hr           9712 non-null   float64\n",
            " 3   Primary_Device                     9712 non-null   object \n",
            " 4   Exceeded_Recommended_Limit         9712 non-null   bool   \n",
            " 5   Educational_to_Recreational_Ratio  9712 non-null   float64\n",
            " 6   Health_Impacts                     6494 non-null   object \n",
            " 7   Urban_or_Rural                     9712 non-null   object \n",
            "dtypes: bool(1), float64(2), int64(1), object(4)\n",
            "memory usage: 540.7+ KB\n"
          ]
        }
      ]
    },
    {
      "cell_type": "code",
      "source": [
        "\n",
        "\n",
        "# missing value anywhere in the dataset\n",
        "print(df.isnull().values.any())\n",
        "print(df.isnull().sum())\n",
        "\n"
      ],
      "metadata": {
        "colab": {
          "base_uri": "https://localhost:8080/"
        },
        "id": "TopciixHAtyS",
        "outputId": "cf55bcb9-de5c-4db9-e1f1-326cf3d39946"
      },
      "execution_count": null,
      "outputs": [
        {
          "output_type": "stream",
          "name": "stdout",
          "text": [
            "True\n",
            "Age                                     0\n",
            "Gender                                  0\n",
            "Avg_Daily_Screen_Time_hr                0\n",
            "Primary_Device                          0\n",
            "Exceeded_Recommended_Limit              0\n",
            "Educational_to_Recreational_Ratio       0\n",
            "Health_Impacts                       3218\n",
            "Urban_or_Rural                          0\n",
            "dtype: int64\n"
          ]
        }
      ]
    },
    {
      "cell_type": "code",
      "source": [
        "print(df[df.isnull().any(axis=1)])\n"
      ],
      "metadata": {
        "colab": {
          "base_uri": "https://localhost:8080/"
        },
        "id": "0AwET2GhA5LM",
        "outputId": "2e53e472-007b-4da9-a570-0065b8553dda"
      },
      "execution_count": null,
      "outputs": [
        {
          "output_type": "stream",
          "name": "stdout",
          "text": [
            "      Age  Gender  Avg_Daily_Screen_Time_hr Primary_Device  \\\n",
            "3      15  Female                      1.21         Laptop   \n",
            "6      17    Male                      2.97             TV   \n",
            "7      10    Male                      2.74             TV   \n",
            "19      9  Female                      0.00             TV   \n",
            "22      9  Female                      1.63         Tablet   \n",
            "...   ...     ...                       ...            ...   \n",
            "9695   12  Female                      2.69     Smartphone   \n",
            "9697   16  Female                      4.74     Smartphone   \n",
            "9699   10  Female                      2.85             TV   \n",
            "9701   16    Male                      6.08     Smartphone   \n",
            "9706    8    Male                      4.84     Smartphone   \n",
            "\n",
            "      Exceeded_Recommended_Limit  Educational_to_Recreational_Ratio  \\\n",
            "3                          False                               0.39   \n",
            "6                          False                               0.48   \n",
            "7                           True                               0.54   \n",
            "19                         False                               0.42   \n",
            "22                         False                               0.58   \n",
            "...                          ...                                ...   \n",
            "9695                       False                               0.48   \n",
            "9697                        True                               0.41   \n",
            "9699                        True                               0.49   \n",
            "9701                        True                               0.38   \n",
            "9706                        True                               0.55   \n",
            "\n",
            "     Health_Impacts Urban_or_Rural  \n",
            "3               NaN          Urban  \n",
            "6               NaN          Rural  \n",
            "7               NaN          Urban  \n",
            "19              NaN          Urban  \n",
            "22              NaN          Urban  \n",
            "...             ...            ...  \n",
            "9695            NaN          Urban  \n",
            "9697            NaN          Rural  \n",
            "9699            NaN          Urban  \n",
            "9701            NaN          Urban  \n",
            "9706            NaN          Rural  \n",
            "\n",
            "[3218 rows x 8 columns]\n"
          ]
        }
      ]
    },
    {
      "cell_type": "code",
      "source": [
        "df.corr(numeric_only=True)\n",
        "\n"
      ],
      "metadata": {
        "colab": {
          "base_uri": "https://localhost:8080/",
          "height": 175
        },
        "id": "7Vn9d8IsGyz7",
        "outputId": "5e253ee6-0808-462c-d709-306ff5a3d42c"
      },
      "execution_count": 10,
      "outputs": [
        {
          "output_type": "execute_result",
          "data": {
            "text/plain": [
              "                                        Age  Avg_Daily_Screen_Time_hr  \\\n",
              "Age                                1.000000                  0.118328   \n",
              "Avg_Daily_Screen_Time_hr           0.118328                  1.000000   \n",
              "Exceeded_Recommended_Limit         0.159173                  0.664950   \n",
              "Educational_to_Recreational_Ratio -0.488617                 -0.087552   \n",
              "\n",
              "                                   Exceeded_Recommended_Limit  \\\n",
              "Age                                                  0.159173   \n",
              "Avg_Daily_Screen_Time_hr                             0.664950   \n",
              "Exceeded_Recommended_Limit                           1.000000   \n",
              "Educational_to_Recreational_Ratio                   -0.126643   \n",
              "\n",
              "                                   Educational_to_Recreational_Ratio  \n",
              "Age                                                        -0.488617  \n",
              "Avg_Daily_Screen_Time_hr                                   -0.087552  \n",
              "Exceeded_Recommended_Limit                                 -0.126643  \n",
              "Educational_to_Recreational_Ratio                           1.000000  "
            ],
            "text/html": [
              "\n",
              "  <div id=\"df-2417c938-afcf-459d-91fe-33f883db6c39\" class=\"colab-df-container\">\n",
              "    <div>\n",
              "<style scoped>\n",
              "    .dataframe tbody tr th:only-of-type {\n",
              "        vertical-align: middle;\n",
              "    }\n",
              "\n",
              "    .dataframe tbody tr th {\n",
              "        vertical-align: top;\n",
              "    }\n",
              "\n",
              "    .dataframe thead th {\n",
              "        text-align: right;\n",
              "    }\n",
              "</style>\n",
              "<table border=\"1\" class=\"dataframe\">\n",
              "  <thead>\n",
              "    <tr style=\"text-align: right;\">\n",
              "      <th></th>\n",
              "      <th>Age</th>\n",
              "      <th>Avg_Daily_Screen_Time_hr</th>\n",
              "      <th>Exceeded_Recommended_Limit</th>\n",
              "      <th>Educational_to_Recreational_Ratio</th>\n",
              "    </tr>\n",
              "  </thead>\n",
              "  <tbody>\n",
              "    <tr>\n",
              "      <th>Age</th>\n",
              "      <td>1.000000</td>\n",
              "      <td>0.118328</td>\n",
              "      <td>0.159173</td>\n",
              "      <td>-0.488617</td>\n",
              "    </tr>\n",
              "    <tr>\n",
              "      <th>Avg_Daily_Screen_Time_hr</th>\n",
              "      <td>0.118328</td>\n",
              "      <td>1.000000</td>\n",
              "      <td>0.664950</td>\n",
              "      <td>-0.087552</td>\n",
              "    </tr>\n",
              "    <tr>\n",
              "      <th>Exceeded_Recommended_Limit</th>\n",
              "      <td>0.159173</td>\n",
              "      <td>0.664950</td>\n",
              "      <td>1.000000</td>\n",
              "      <td>-0.126643</td>\n",
              "    </tr>\n",
              "    <tr>\n",
              "      <th>Educational_to_Recreational_Ratio</th>\n",
              "      <td>-0.488617</td>\n",
              "      <td>-0.087552</td>\n",
              "      <td>-0.126643</td>\n",
              "      <td>1.000000</td>\n",
              "    </tr>\n",
              "  </tbody>\n",
              "</table>\n",
              "</div>\n",
              "    <div class=\"colab-df-buttons\">\n",
              "\n",
              "  <div class=\"colab-df-container\">\n",
              "    <button class=\"colab-df-convert\" onclick=\"convertToInteractive('df-2417c938-afcf-459d-91fe-33f883db6c39')\"\n",
              "            title=\"Convert this dataframe to an interactive table.\"\n",
              "            style=\"display:none;\">\n",
              "\n",
              "  <svg xmlns=\"http://www.w3.org/2000/svg\" height=\"24px\" viewBox=\"0 -960 960 960\">\n",
              "    <path d=\"M120-120v-720h720v720H120Zm60-500h600v-160H180v160Zm220 220h160v-160H400v160Zm0 220h160v-160H400v160ZM180-400h160v-160H180v160Zm440 0h160v-160H620v160ZM180-180h160v-160H180v160Zm440 0h160v-160H620v160Z\"/>\n",
              "  </svg>\n",
              "    </button>\n",
              "\n",
              "  <style>\n",
              "    .colab-df-container {\n",
              "      display:flex;\n",
              "      gap: 12px;\n",
              "    }\n",
              "\n",
              "    .colab-df-convert {\n",
              "      background-color: #E8F0FE;\n",
              "      border: none;\n",
              "      border-radius: 50%;\n",
              "      cursor: pointer;\n",
              "      display: none;\n",
              "      fill: #1967D2;\n",
              "      height: 32px;\n",
              "      padding: 0 0 0 0;\n",
              "      width: 32px;\n",
              "    }\n",
              "\n",
              "    .colab-df-convert:hover {\n",
              "      background-color: #E2EBFA;\n",
              "      box-shadow: 0px 1px 2px rgba(60, 64, 67, 0.3), 0px 1px 3px 1px rgba(60, 64, 67, 0.15);\n",
              "      fill: #174EA6;\n",
              "    }\n",
              "\n",
              "    .colab-df-buttons div {\n",
              "      margin-bottom: 4px;\n",
              "    }\n",
              "\n",
              "    [theme=dark] .colab-df-convert {\n",
              "      background-color: #3B4455;\n",
              "      fill: #D2E3FC;\n",
              "    }\n",
              "\n",
              "    [theme=dark] .colab-df-convert:hover {\n",
              "      background-color: #434B5C;\n",
              "      box-shadow: 0px 1px 3px 1px rgba(0, 0, 0, 0.15);\n",
              "      filter: drop-shadow(0px 1px 2px rgba(0, 0, 0, 0.3));\n",
              "      fill: #FFFFFF;\n",
              "    }\n",
              "  </style>\n",
              "\n",
              "    <script>\n",
              "      const buttonEl =\n",
              "        document.querySelector('#df-2417c938-afcf-459d-91fe-33f883db6c39 button.colab-df-convert');\n",
              "      buttonEl.style.display =\n",
              "        google.colab.kernel.accessAllowed ? 'block' : 'none';\n",
              "\n",
              "      async function convertToInteractive(key) {\n",
              "        const element = document.querySelector('#df-2417c938-afcf-459d-91fe-33f883db6c39');\n",
              "        const dataTable =\n",
              "          await google.colab.kernel.invokeFunction('convertToInteractive',\n",
              "                                                    [key], {});\n",
              "        if (!dataTable) return;\n",
              "\n",
              "        const docLinkHtml = 'Like what you see? Visit the ' +\n",
              "          '<a target=\"_blank\" href=https://colab.research.google.com/notebooks/data_table.ipynb>data table notebook</a>'\n",
              "          + ' to learn more about interactive tables.';\n",
              "        element.innerHTML = '';\n",
              "        dataTable['output_type'] = 'display_data';\n",
              "        await google.colab.output.renderOutput(dataTable, element);\n",
              "        const docLink = document.createElement('div');\n",
              "        docLink.innerHTML = docLinkHtml;\n",
              "        element.appendChild(docLink);\n",
              "      }\n",
              "    </script>\n",
              "  </div>\n",
              "\n",
              "\n",
              "    <div id=\"df-3b384c89-cc5c-429f-8b2e-75329c589c1b\">\n",
              "      <button class=\"colab-df-quickchart\" onclick=\"quickchart('df-3b384c89-cc5c-429f-8b2e-75329c589c1b')\"\n",
              "                title=\"Suggest charts\"\n",
              "                style=\"display:none;\">\n",
              "\n",
              "<svg xmlns=\"http://www.w3.org/2000/svg\" height=\"24px\"viewBox=\"0 0 24 24\"\n",
              "     width=\"24px\">\n",
              "    <g>\n",
              "        <path d=\"M19 3H5c-1.1 0-2 .9-2 2v14c0 1.1.9 2 2 2h14c1.1 0 2-.9 2-2V5c0-1.1-.9-2-2-2zM9 17H7v-7h2v7zm4 0h-2V7h2v10zm4 0h-2v-4h2v4z\"/>\n",
              "    </g>\n",
              "</svg>\n",
              "      </button>\n",
              "\n",
              "<style>\n",
              "  .colab-df-quickchart {\n",
              "      --bg-color: #E8F0FE;\n",
              "      --fill-color: #1967D2;\n",
              "      --hover-bg-color: #E2EBFA;\n",
              "      --hover-fill-color: #174EA6;\n",
              "      --disabled-fill-color: #AAA;\n",
              "      --disabled-bg-color: #DDD;\n",
              "  }\n",
              "\n",
              "  [theme=dark] .colab-df-quickchart {\n",
              "      --bg-color: #3B4455;\n",
              "      --fill-color: #D2E3FC;\n",
              "      --hover-bg-color: #434B5C;\n",
              "      --hover-fill-color: #FFFFFF;\n",
              "      --disabled-bg-color: #3B4455;\n",
              "      --disabled-fill-color: #666;\n",
              "  }\n",
              "\n",
              "  .colab-df-quickchart {\n",
              "    background-color: var(--bg-color);\n",
              "    border: none;\n",
              "    border-radius: 50%;\n",
              "    cursor: pointer;\n",
              "    display: none;\n",
              "    fill: var(--fill-color);\n",
              "    height: 32px;\n",
              "    padding: 0;\n",
              "    width: 32px;\n",
              "  }\n",
              "\n",
              "  .colab-df-quickchart:hover {\n",
              "    background-color: var(--hover-bg-color);\n",
              "    box-shadow: 0 1px 2px rgba(60, 64, 67, 0.3), 0 1px 3px 1px rgba(60, 64, 67, 0.15);\n",
              "    fill: var(--button-hover-fill-color);\n",
              "  }\n",
              "\n",
              "  .colab-df-quickchart-complete:disabled,\n",
              "  .colab-df-quickchart-complete:disabled:hover {\n",
              "    background-color: var(--disabled-bg-color);\n",
              "    fill: var(--disabled-fill-color);\n",
              "    box-shadow: none;\n",
              "  }\n",
              "\n",
              "  .colab-df-spinner {\n",
              "    border: 2px solid var(--fill-color);\n",
              "    border-color: transparent;\n",
              "    border-bottom-color: var(--fill-color);\n",
              "    animation:\n",
              "      spin 1s steps(1) infinite;\n",
              "  }\n",
              "\n",
              "  @keyframes spin {\n",
              "    0% {\n",
              "      border-color: transparent;\n",
              "      border-bottom-color: var(--fill-color);\n",
              "      border-left-color: var(--fill-color);\n",
              "    }\n",
              "    20% {\n",
              "      border-color: transparent;\n",
              "      border-left-color: var(--fill-color);\n",
              "      border-top-color: var(--fill-color);\n",
              "    }\n",
              "    30% {\n",
              "      border-color: transparent;\n",
              "      border-left-color: var(--fill-color);\n",
              "      border-top-color: var(--fill-color);\n",
              "      border-right-color: var(--fill-color);\n",
              "    }\n",
              "    40% {\n",
              "      border-color: transparent;\n",
              "      border-right-color: var(--fill-color);\n",
              "      border-top-color: var(--fill-color);\n",
              "    }\n",
              "    60% {\n",
              "      border-color: transparent;\n",
              "      border-right-color: var(--fill-color);\n",
              "    }\n",
              "    80% {\n",
              "      border-color: transparent;\n",
              "      border-right-color: var(--fill-color);\n",
              "      border-bottom-color: var(--fill-color);\n",
              "    }\n",
              "    90% {\n",
              "      border-color: transparent;\n",
              "      border-bottom-color: var(--fill-color);\n",
              "    }\n",
              "  }\n",
              "</style>\n",
              "\n",
              "      <script>\n",
              "        async function quickchart(key) {\n",
              "          const quickchartButtonEl =\n",
              "            document.querySelector('#' + key + ' button');\n",
              "          quickchartButtonEl.disabled = true;  // To prevent multiple clicks.\n",
              "          quickchartButtonEl.classList.add('colab-df-spinner');\n",
              "          try {\n",
              "            const charts = await google.colab.kernel.invokeFunction(\n",
              "                'suggestCharts', [key], {});\n",
              "          } catch (error) {\n",
              "            console.error('Error during call to suggestCharts:', error);\n",
              "          }\n",
              "          quickchartButtonEl.classList.remove('colab-df-spinner');\n",
              "          quickchartButtonEl.classList.add('colab-df-quickchart-complete');\n",
              "        }\n",
              "        (() => {\n",
              "          let quickchartButtonEl =\n",
              "            document.querySelector('#df-3b384c89-cc5c-429f-8b2e-75329c589c1b button');\n",
              "          quickchartButtonEl.style.display =\n",
              "            google.colab.kernel.accessAllowed ? 'block' : 'none';\n",
              "        })();\n",
              "      </script>\n",
              "    </div>\n",
              "\n",
              "    </div>\n",
              "  </div>\n"
            ],
            "application/vnd.google.colaboratory.intrinsic+json": {
              "type": "dataframe",
              "summary": "{\n  \"name\": \"df\",\n  \"rows\": 4,\n  \"fields\": [\n    {\n      \"column\": \"Age\",\n      \"properties\": {\n        \"dtype\": \"number\",\n        \"std\": 0.6116913867477618,\n        \"min\": -0.48861653673731964,\n        \"max\": 1.0,\n        \"num_unique_values\": 4,\n        \"samples\": [\n          0.11832766082818061,\n          -0.48861653673731964,\n          1.0\n        ],\n        \"semantic_type\": \"\",\n        \"description\": \"\"\n      }\n    },\n    {\n      \"column\": \"Avg_Daily_Screen_Time_hr\",\n      \"properties\": {\n        \"dtype\": \"number\",\n        \"std\": 0.4983151538304703,\n        \"min\": -0.0875522231559708,\n        \"max\": 1.0,\n        \"num_unique_values\": 4,\n        \"samples\": [\n          1.0,\n          -0.0875522231559708,\n          0.11832766082818061\n        ],\n        \"semantic_type\": \"\",\n        \"description\": \"\"\n      }\n    },\n    {\n      \"column\": \"Exceeded_Recommended_Limit\",\n      \"properties\": {\n        \"dtype\": \"number\",\n        \"std\": 0.5043719214936003,\n        \"min\": -0.12664287865373844,\n        \"max\": 1.0,\n        \"num_unique_values\": 4,\n        \"samples\": [\n          0.664949663940311,\n          -0.12664287865373844,\n          0.15917301372463305\n        ],\n        \"semantic_type\": \"\",\n        \"description\": \"\"\n      }\n    },\n    {\n      \"column\": \"Educational_to_Recreational_Ratio\",\n      \"properties\": {\n        \"dtype\": \"number\",\n        \"std\": 0.6430058838301703,\n        \"min\": -0.48861653673731964,\n        \"max\": 1.0,\n        \"num_unique_values\": 4,\n        \"samples\": [\n          -0.0875522231559708,\n          1.0,\n          -0.48861653673731964\n        ],\n        \"semantic_type\": \"\",\n        \"description\": \"\"\n      }\n    }\n  ]\n}"
            }
          },
          "metadata": {},
          "execution_count": 10
        }
      ]
    },
    {
      "cell_type": "code",
      "source": [
        "correlation = df['Age'].corr(df['Avg_Daily_Screen_Time_hr'])\n",
        "\n",
        "print(\"Correlation between Age and Avg_Daily_Screen_Time_hr:\", correlation)\n",
        "\n",
        "\n"
      ],
      "metadata": {
        "colab": {
          "base_uri": "https://localhost:8080/"
        },
        "id": "lZ1E9gEYBSMc",
        "outputId": "8a94ab82-68ba-4abe-8d83-5b6de3f97f1a"
      },
      "execution_count": 11,
      "outputs": [
        {
          "output_type": "stream",
          "name": "stdout",
          "text": [
            "Correlation between Age and Avg_Daily_Screen_Time_hr: 0.1183276608281807\n"
          ]
        }
      ]
    },
    {
      "cell_type": "markdown",
      "source": [
        "# New Section"
      ],
      "metadata": {
        "id": "YiBtr84gqXh2"
      }
    }
  ]
}