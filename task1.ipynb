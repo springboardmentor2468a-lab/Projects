{
  "nbformat": 4,
  "nbformat_minor": 0,
  "metadata": {
    "colab": {
      "provenance": [],
      "authorship_tag": "ABX9TyOPezCfqXRo3YYhnwibKGQz",
      "include_colab_link": true
    },
    "kernelspec": {
      "name": "python3",
      "display_name": "Python 3"
    },
    "language_info": {
      "name": "python"
    }
  },
  "cells": [
    {
      "cell_type": "markdown",
      "metadata": {
        "id": "view-in-github",
        "colab_type": "text"
      },
      "source": [
        "<a href=\"https://colab.research.google.com/github/springboardmentor2468a-lab/Projects/blob/main/task1.ipynb\" target=\"_parent\"><img src=\"https://colab.research.google.com/assets/colab-badge.svg\" alt=\"Open In Colab\"/></a>"
      ]
    },
    {
      "cell_type": "code",
      "execution_count": 1,
      "metadata": {
        "colab": {
          "base_uri": "https://localhost:8080/"
        },
        "id": "de0stY1c6k8S",
        "outputId": "44379599-ec7e-4923-a645-28ae1321cad8"
      },
      "outputs": [
        {
          "output_type": "stream",
          "name": "stdout",
          "text": [
            "Shape (rows, columns): (9712, 8)\n",
            "\n",
            "Data Types:\n",
            " Age                                    int64\n",
            "Gender                                object\n",
            "Avg_Daily_Screen_Time_hr             float64\n",
            "Primary_Device                        object\n",
            "Exceeded_Recommended_Limit              bool\n",
            "Educational_to_Recreational_Ratio    float64\n",
            "Health_Impacts                        object\n",
            "Urban_or_Rural                        object\n",
            "dtype: object\n",
            "\n",
            "Null Values:\n",
            " Age                                     0\n",
            "Gender                                  0\n",
            "Avg_Daily_Screen_Time_hr                0\n",
            "Primary_Device                          0\n",
            "Exceeded_Recommended_Limit              0\n",
            "Educational_to_Recreational_Ratio       0\n",
            "Health_Impacts                       3218\n",
            "Urban_or_Rural                          0\n",
            "dtype: int64\n"
          ]
        }
      ],
      "source": [
        "import pandas as pd\n",
        "\n",
        "# Load dataset\n",
        "df = pd.read_csv(\"Indian_Kids_Screen_Time.csv\")\n",
        "\n",
        "# 1. Shape of dataset\n",
        "print(\"Shape (rows, columns):\", df.shape)\n",
        "\n",
        "# 2. Data types of each column\n",
        "print(\"\\nData Types:\\n\", df.dtypes)\n",
        "\n",
        "# 3. Null values check\n",
        "print(\"\\nNull Values:\\n\", df.isnull().sum())\n"
      ]
    },
    {
      "cell_type": "code",
      "source": [
        "# 4. Summary statistics for numeric columns\n",
        "print(\"\\nSummary Statistics (Numeric):\\n\", df.describe())\n",
        "\n",
        "# 5. Summary statistics for categorical columns\n",
        "print(\"\\nUnique values (Categorical):\")\n",
        "for col in df.select_dtypes(include=['object', 'bool']).columns:\n",
        "    print(f\"{col}: {df[col].nunique()} unique values → {df[col].unique()[:10]}\")\n",
        "\n",
        "# 6. Check for duplicates\n",
        "print(\"\\nDuplicate Rows:\", df.duplicated().sum())\n",
        "\n",
        "# 7. Range checks (example: Age, Screen Time, Ratio)\n",
        "print(\"\\nAge Range:\", df['Age'].min(), \"to\", df['Age'].max())\n",
        "print(\"Avg Daily Screen Time Range:\", df['Avg_Daily_Screen_Time_hr'].min(), \"to\", df['Avg_Daily_Screen_Time_hr'].max())\n",
        "print(\"Educational to Recreational Ratio Range:\", df['Educational_to_Recreational_Ratio'].min(), \"to\", df['Educational_to_Recreational_Ratio'].max())"
      ],
      "metadata": {
        "colab": {
          "base_uri": "https://localhost:8080/"
        },
        "id": "tgBpCu_vlaGY",
        "outputId": "e55c0795-4280-48db-dcbe-b94067130ae0"
      },
      "execution_count": 2,
      "outputs": [
        {
          "output_type": "stream",
          "name": "stdout",
          "text": [
            "\n",
            "Summary Statistics (Numeric):\n",
            "                Age  Avg_Daily_Screen_Time_hr  \\\n",
            "count  9712.000000               9712.000000   \n",
            "mean     12.979201                  4.352837   \n",
            "std       3.162437                  1.718232   \n",
            "min       8.000000                  0.000000   \n",
            "25%      10.000000                  3.410000   \n",
            "50%      13.000000                  4.440000   \n",
            "75%      16.000000                  5.380000   \n",
            "max      18.000000                 13.890000   \n",
            "\n",
            "       Educational_to_Recreational_Ratio  \n",
            "count                        9712.000000  \n",
            "mean                            0.427226  \n",
            "std                             0.073221  \n",
            "min                             0.300000  \n",
            "25%                             0.370000  \n",
            "50%                             0.430000  \n",
            "75%                             0.480000  \n",
            "max                             0.600000  \n",
            "\n",
            "Unique values (Categorical):\n",
            "Gender: 2 unique values → ['Male' 'Female']\n",
            "Primary_Device: 4 unique values → ['Smartphone' 'Laptop' 'TV' 'Tablet']\n",
            "Exceeded_Recommended_Limit: 2 unique values → [ True False]\n",
            "Health_Impacts: 15 unique values → ['Poor Sleep, Eye Strain' 'Poor Sleep' nan 'Poor Sleep, Anxiety'\n",
            " 'Poor Sleep, Obesity Risk' 'Eye Strain' 'Obesity Risk' 'Anxiety'\n",
            " 'Poor Sleep, Anxiety, Obesity Risk' 'Eye Strain, Obesity Risk']\n",
            "Urban_or_Rural: 2 unique values → ['Urban' 'Rural']\n",
            "\n",
            "Duplicate Rows: 44\n",
            "\n",
            "Age Range: 8 to 18\n",
            "Avg Daily Screen Time Range: 0.0 to 13.89\n",
            "Educational to Recreational Ratio Range: 0.3 to 0.6\n"
          ]
        }
      ]
    }
  ]
}