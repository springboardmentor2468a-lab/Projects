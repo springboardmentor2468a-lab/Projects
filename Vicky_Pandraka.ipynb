{
 "cells": [
  {
   "cell_type": "code",
   "execution_count": 1,
   "id": "e4645a9b-d307-4462-895e-36c7481c12cb",
   "metadata": {},
   "outputs": [
    {
     "data": {
      "text/html": [
       "<div>\n",
       "<style scoped>\n",
       "    .dataframe tbody tr th:only-of-type {\n",
       "        vertical-align: middle;\n",
       "    }\n",
       "\n",
       "    .dataframe tbody tr th {\n",
       "        vertical-align: top;\n",
       "    }\n",
       "\n",
       "    .dataframe thead th {\n",
       "        text-align: right;\n",
       "    }\n",
       "</style>\n",
       "<table border=\"1\" class=\"dataframe\">\n",
       "  <thead>\n",
       "    <tr style=\"text-align: right;\">\n",
       "      <th></th>\n",
       "      <th>Age</th>\n",
       "      <th>Gender</th>\n",
       "      <th>Avg_Daily_Screen_Time_hr</th>\n",
       "      <th>Primary_Device</th>\n",
       "      <th>Exceeded_Recommended_Limit</th>\n",
       "      <th>Educational_to_Recreational_Ratio</th>\n",
       "      <th>Health_Impacts</th>\n",
       "      <th>Urban_or_Rural</th>\n",
       "    </tr>\n",
       "  </thead>\n",
       "  <tbody>\n",
       "    <tr>\n",
       "      <th>0</th>\n",
       "      <td>14</td>\n",
       "      <td>Male</td>\n",
       "      <td>3.99</td>\n",
       "      <td>Smartphone</td>\n",
       "      <td>True</td>\n",
       "      <td>0.42</td>\n",
       "      <td>Poor Sleep, Eye Strain</td>\n",
       "      <td>Urban</td>\n",
       "    </tr>\n",
       "    <tr>\n",
       "      <th>1</th>\n",
       "      <td>11</td>\n",
       "      <td>Female</td>\n",
       "      <td>4.61</td>\n",
       "      <td>Laptop</td>\n",
       "      <td>True</td>\n",
       "      <td>0.30</td>\n",
       "      <td>Poor Sleep</td>\n",
       "      <td>Urban</td>\n",
       "    </tr>\n",
       "    <tr>\n",
       "      <th>2</th>\n",
       "      <td>18</td>\n",
       "      <td>Female</td>\n",
       "      <td>3.73</td>\n",
       "      <td>TV</td>\n",
       "      <td>True</td>\n",
       "      <td>0.32</td>\n",
       "      <td>Poor Sleep</td>\n",
       "      <td>Urban</td>\n",
       "    </tr>\n",
       "    <tr>\n",
       "      <th>3</th>\n",
       "      <td>15</td>\n",
       "      <td>Female</td>\n",
       "      <td>1.21</td>\n",
       "      <td>Laptop</td>\n",
       "      <td>False</td>\n",
       "      <td>0.39</td>\n",
       "      <td>NaN</td>\n",
       "      <td>Urban</td>\n",
       "    </tr>\n",
       "    <tr>\n",
       "      <th>4</th>\n",
       "      <td>12</td>\n",
       "      <td>Female</td>\n",
       "      <td>5.89</td>\n",
       "      <td>Smartphone</td>\n",
       "      <td>True</td>\n",
       "      <td>0.49</td>\n",
       "      <td>Poor Sleep, Anxiety</td>\n",
       "      <td>Urban</td>\n",
       "    </tr>\n",
       "  </tbody>\n",
       "</table>\n",
       "</div>"
      ],
      "text/plain": [
       "   Age  Gender  Avg_Daily_Screen_Time_hr Primary_Device  \\\n",
       "0   14    Male                      3.99     Smartphone   \n",
       "1   11  Female                      4.61         Laptop   \n",
       "2   18  Female                      3.73             TV   \n",
       "3   15  Female                      1.21         Laptop   \n",
       "4   12  Female                      5.89     Smartphone   \n",
       "\n",
       "   Exceeded_Recommended_Limit  Educational_to_Recreational_Ratio  \\\n",
       "0                        True                               0.42   \n",
       "1                        True                               0.30   \n",
       "2                        True                               0.32   \n",
       "3                       False                               0.39   \n",
       "4                        True                               0.49   \n",
       "\n",
       "           Health_Impacts Urban_or_Rural  \n",
       "0  Poor Sleep, Eye Strain          Urban  \n",
       "1              Poor Sleep          Urban  \n",
       "2              Poor Sleep          Urban  \n",
       "3                     NaN          Urban  \n",
       "4     Poor Sleep, Anxiety          Urban  "
      ]
     },
     "execution_count": 1,
     "metadata": {},
     "output_type": "execute_result"
    }
   ],
   "source": [
    "# Load Data set to your Jupyter\n",
    "import pandas as pd\n",
    "\n",
    "df = pd.read_csv(\"Indian_Kids_Screen_Time.csv\")\n",
    "df.head()\n"
   ]
  },
  {
   "cell_type": "code",
   "execution_count": 2,
   "id": "fd5ed54c-7990-483c-8e9a-5fe7a54ea393",
   "metadata": {},
   "outputs": [
    {
     "data": {
      "text/plain": [
       "Age                                     0\n",
       "Gender                                  0\n",
       "Avg_Daily_Screen_Time_hr                0\n",
       "Primary_Device                          0\n",
       "Exceeded_Recommended_Limit              0\n",
       "Educational_to_Recreational_Ratio       0\n",
       "Health_Impacts                       3218\n",
       "Urban_or_Rural                          0\n",
       "dtype: int64"
      ]
     },
     "execution_count": 2,
     "metadata": {},
     "output_type": "execute_result"
    }
   ],
   "source": [
    "# Check Null Values\n",
    "df.isnull().sum()"
   ]
  },
  {
   "cell_type": "code",
   "execution_count": 3,
   "id": "2f8affcf-a54c-4ef6-9b66-9e35d754a4d3",
   "metadata": {},
   "outputs": [
    {
     "data": {
      "text/plain": [
       "np.int64(44)"
      ]
     },
     "execution_count": 3,
     "metadata": {},
     "output_type": "execute_result"
    }
   ],
   "source": [
    "# Check Duplicate Values\n",
    "df.duplicated().sum()"
   ]
  },
  {
   "cell_type": "code",
   "execution_count": 4,
   "id": "8bf0a3dc-9049-4852-8686-84f629381dda",
   "metadata": {},
   "outputs": [
    {
     "data": {
      "text/html": [
       "<div>\n",
       "<style scoped>\n",
       "    .dataframe tbody tr th:only-of-type {\n",
       "        vertical-align: middle;\n",
       "    }\n",
       "\n",
       "    .dataframe tbody tr th {\n",
       "        vertical-align: top;\n",
       "    }\n",
       "\n",
       "    .dataframe thead th {\n",
       "        text-align: right;\n",
       "    }\n",
       "</style>\n",
       "<table border=\"1\" class=\"dataframe\">\n",
       "  <thead>\n",
       "    <tr style=\"text-align: right;\">\n",
       "      <th></th>\n",
       "      <th>Age</th>\n",
       "      <th>Avg_Daily_Screen_Time_hr</th>\n",
       "      <th>Exceeded_Recommended_Limit</th>\n",
       "      <th>Educational_to_Recreational_Ratio</th>\n",
       "    </tr>\n",
       "  </thead>\n",
       "  <tbody>\n",
       "    <tr>\n",
       "      <th>Age</th>\n",
       "      <td>1.000000</td>\n",
       "      <td>0.118328</td>\n",
       "      <td>0.159173</td>\n",
       "      <td>-0.488617</td>\n",
       "    </tr>\n",
       "    <tr>\n",
       "      <th>Avg_Daily_Screen_Time_hr</th>\n",
       "      <td>0.118328</td>\n",
       "      <td>1.000000</td>\n",
       "      <td>0.664950</td>\n",
       "      <td>-0.087552</td>\n",
       "    </tr>\n",
       "    <tr>\n",
       "      <th>Exceeded_Recommended_Limit</th>\n",
       "      <td>0.159173</td>\n",
       "      <td>0.664950</td>\n",
       "      <td>1.000000</td>\n",
       "      <td>-0.126643</td>\n",
       "    </tr>\n",
       "    <tr>\n",
       "      <th>Educational_to_Recreational_Ratio</th>\n",
       "      <td>-0.488617</td>\n",
       "      <td>-0.087552</td>\n",
       "      <td>-0.126643</td>\n",
       "      <td>1.000000</td>\n",
       "    </tr>\n",
       "  </tbody>\n",
       "</table>\n",
       "</div>"
      ],
      "text/plain": [
       "                                        Age  Avg_Daily_Screen_Time_hr  \\\n",
       "Age                                1.000000                  0.118328   \n",
       "Avg_Daily_Screen_Time_hr           0.118328                  1.000000   \n",
       "Exceeded_Recommended_Limit         0.159173                  0.664950   \n",
       "Educational_to_Recreational_Ratio -0.488617                 -0.087552   \n",
       "\n",
       "                                   Exceeded_Recommended_Limit  \\\n",
       "Age                                                  0.159173   \n",
       "Avg_Daily_Screen_Time_hr                             0.664950   \n",
       "Exceeded_Recommended_Limit                           1.000000   \n",
       "Educational_to_Recreational_Ratio                   -0.126643   \n",
       "\n",
       "                                   Educational_to_Recreational_Ratio  \n",
       "Age                                                        -0.488617  \n",
       "Avg_Daily_Screen_Time_hr                                   -0.087552  \n",
       "Exceeded_Recommended_Limit                                 -0.126643  \n",
       "Educational_to_Recreational_Ratio                           1.000000  "
      ]
     },
     "execution_count": 4,
     "metadata": {},
     "output_type": "execute_result"
    }
   ],
   "source": [
    "# Check Correlation\n",
    "df.corr(numeric_only=True)"
   ]
  },
  {
   "cell_type": "code",
   "execution_count": 5,
   "id": "5b0df66d-2092-40fd-b741-971b7e94a9cb",
   "metadata": {},
   "outputs": [
    {
     "name": "stdout",
     "output_type": "stream",
     "text": [
      "<class 'pandas.core.frame.DataFrame'>\n",
      "RangeIndex: 9712 entries, 0 to 9711\n",
      "Data columns (total 8 columns):\n",
      " #   Column                             Non-Null Count  Dtype  \n",
      "---  ------                             --------------  -----  \n",
      " 0   Age                                9712 non-null   int64  \n",
      " 1   Gender                             9712 non-null   object \n",
      " 2   Avg_Daily_Screen_Time_hr           9712 non-null   float64\n",
      " 3   Primary_Device                     9712 non-null   object \n",
      " 4   Exceeded_Recommended_Limit         9712 non-null   bool   \n",
      " 5   Educational_to_Recreational_Ratio  9712 non-null   float64\n",
      " 6   Health_Impacts                     6494 non-null   object \n",
      " 7   Urban_or_Rural                     9712 non-null   object \n",
      "dtypes: bool(1), float64(2), int64(1), object(4)\n",
      "memory usage: 540.7+ KB\n"
     ]
    }
   ],
   "source": [
    "# Check info of columns\n",
    "df.info()"
   ]
  },
  {
   "cell_type": "code",
   "execution_count": 6,
   "id": "2e8b0372-1e4f-4915-896c-392fb115d457",
   "metadata": {},
   "outputs": [
    {
     "data": {
      "text/plain": [
       "Age                                    int64\n",
       "Gender                                object\n",
       "Avg_Daily_Screen_Time_hr             float64\n",
       "Primary_Device                        object\n",
       "Exceeded_Recommended_Limit              bool\n",
       "Educational_to_Recreational_Ratio    float64\n",
       "Health_Impacts                        object\n",
       "Urban_or_Rural                        object\n",
       "dtype: object"
      ]
     },
     "execution_count": 6,
     "metadata": {},
     "output_type": "execute_result"
    }
   ],
   "source": [
    "# Check datatype of columns\n",
    "df.dtypes"
   ]
  },
  {
   "cell_type": "code",
   "execution_count": 8,
   "id": "ae1cd15c-51dc-4a06-af07-fc33043a7a49",
   "metadata": {},
   "outputs": [
    {
     "data": {
      "text/plain": [
       "Age                                  6.00\n",
       "Avg_Daily_Screen_Time_hr             1.97\n",
       "Educational_to_Recreational_Ratio    0.11\n",
       "dtype: float64"
      ]
     },
     "execution_count": 8,
     "metadata": {},
     "output_type": "execute_result"
    }
   ],
   "source": [
    "# IQR...For ML Models\n",
    "numeric_df = df.select_dtypes(include=['number'])\n",
    "Q1 = numeric_df.quantile(0.25)\n",
    "Q3 = numeric_df.quantile(0.75)\n",
    "IQR = Q3 - Q1\n",
    "IQR\n"
   ]
  },
  {
   "cell_type": "code",
   "execution_count": null,
   "id": "fad0ec79-0c8c-4bea-97d7-401bb43ec79b",
   "metadata": {},
   "outputs": [],
   "source": []
  }
 ],
 "metadata": {
  "kernelspec": {
   "display_name": "Python [conda env:base] *",
   "language": "python",
   "name": "conda-base-py"
  },
  "language_info": {
   "codemirror_mode": {
    "name": "ipython",
    "version": 3
   },
   "file_extension": ".py",
   "mimetype": "text/x-python",
   "name": "python",
   "nbconvert_exporter": "python",
   "pygments_lexer": "ipython3",
   "version": "3.13.5"
  }
 },
 "nbformat": 4,
 "nbformat_minor": 5
}
